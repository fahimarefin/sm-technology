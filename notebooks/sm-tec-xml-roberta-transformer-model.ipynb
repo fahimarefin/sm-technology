{
 "cells": [
  {
   "cell_type": "markdown",
   "metadata": {},
   "source": [
    "Important packeges to install\n",
    "--"
   ]
  },
  {
   "cell_type": "code",
   "execution_count": null,
   "metadata": {
    "trusted": true
   },
   "outputs": [],
   "source": [
    "pip install -U pandas numpy torch transformers datasets scikit-learn matplotlib seaborn tqdm huggingface_hub"
   ]
  },
  {
   "cell_type": "markdown",
   "metadata": {},
   "source": [
    "# Transformer-Based Models: Fine-tune XLM-R for contextual understanding."
   ]
  },
  {
   "cell_type": "markdown",
   "metadata": {},
   "source": [
    "All necessarry packages\n",
    "--"
   ]
  },
  {
   "cell_type": "code",
   "execution_count": 14,
   "metadata": {
    "execution": {
     "iopub.execute_input": "2025-02-25T09:21:29.127277Z",
     "iopub.status.busy": "2025-02-25T09:21:29.126911Z",
     "iopub.status.idle": "2025-02-25T09:21:29.134078Z",
     "shell.execute_reply": "2025-02-25T09:21:29.133123Z",
     "shell.execute_reply.started": "2025-02-25T09:21:29.127249Z"
    },
    "trusted": true
   },
   "outputs": [],
   "source": [
    "import pandas as pd\n",
    "import numpy as np\n",
    "import torch\n",
    "from torch.utils.data import Dataset, DataLoader\n",
    "from transformers import XLMRobertaTokenizer, XLMRobertaForSequenceClassification\n",
    "from transformers import AdamW, get_linear_schedule_with_warmup\n",
    "from transformers import TrainingArguments, Trainer\n",
    "from datasets import Dataset as HFDataset\n",
    "from sklearn.metrics import accuracy_score, classification_report, confusion_matrix, roc_curve, auc\n",
    "from sklearn.preprocessing import label_binarize\n",
    "import matplotlib.pyplot as plt\n",
    "import seaborn as sns\n",
    "from tqdm import tqdm\n",
    "import os\n",
    "import json\n",
    "import logging\n",
    "from huggingface_hub import notebook_login\n",
    "from datetime import datetime\n",
    "\n",
    "# Set up logging\n",
    "logging.basicConfig(level=logging.INFO, format='%(asctime)s - %(name)s - %(levelname)s - %(message)s')\n",
    "logger = logging.getLogger(__name__)"
   ]
  },
  {
   "cell_type": "markdown",
   "metadata": {},
   "source": [
    "# Set random seeds for reproducibility"
   ]
  },
  {
   "cell_type": "code",
   "execution_count": 15,
   "metadata": {
    "execution": {
     "iopub.execute_input": "2025-02-25T09:21:29.147229Z",
     "iopub.status.busy": "2025-02-25T09:21:29.147017Z",
     "iopub.status.idle": "2025-02-25T09:21:30.316911Z",
     "shell.execute_reply": "2025-02-25T09:21:30.316256Z",
     "shell.execute_reply.started": "2025-02-25T09:21:29.147211Z"
    },
    "trusted": true
   },
   "outputs": [
    {
     "name": "stdout",
     "output_type": "stream",
     "text": [
      "Original data shapes:\n",
      "processed_train: (9696, 19)\n",
      "processed_val: (2424, 19)\n",
      "train_tfidf: (9696, 10000)\n",
      "val_tfidf: (2424, 10000)\n",
      "train_w2v_combined: (9696, 1200)\n",
      "val_w2v_combined: (2424, 1200)\n",
      "\n",
      "Label distribution in training data:\n",
      "label\n",
      "0    3341\n",
      "2    3251\n",
      "1    3104\n",
      "Name: count, dtype: int64\n",
      "\n",
      "Label distribution in validation data:\n",
      "label\n",
      "0    835\n",
      "2    813\n",
      "1    776\n",
      "Name: count, dtype: int64\n"
     ]
    }
   ],
   "source": [
    "def load_data():\n",
    "    \"\"\"Load and prepare all data.\"\"\"\n",
    "    logger.info(\"Loading preprocessed data...\")\n",
    "    processed_train = pd.read_csv('/kaggle/input/sm-tec-generated-dataset/multilingual_processed_train_text.csv')\n",
    "    processed_val = pd.read_csv('/kaggle/input/sm-tec-generated-dataset/multilingual_processed_val_text.csv')\n",
    "\n",
    "    logger.info(\"Loading TF-IDF features...\")\n",
    "    train_tfidf = np.load('/kaggle/input/sm-tec-generated-dataset/multilingual_train_tfidf_features.npy')\n",
    "    val_tfidf = np.load('/kaggle/input/sm-tec-generated-dataset/multilingual_val_tfidf_features.npy')\n",
    "\n",
    "    logger.info(\"Loading Word2Vec features...\")\n",
    "    train_premise_w2v = np.load('/kaggle/input/sm-tec-generated-dataset/multilingual_train_premise_w2v.npy')\n",
    "    train_hypothesis_w2v = np.load('/kaggle/input/sm-tec-generated-dataset/multilingual_train_hypothesis_w2v.npy')\n",
    "    val_premise_w2v = np.load('/kaggle/input/sm-tec-generated-dataset/multilingual_val_premise_w2v.npy')\n",
    "    val_hypothesis_w2v = np.load('/kaggle/input/sm-tec-generated-dataset/multilingual_val_hypothesis_w2v.npy')\n",
    "\n",
    "    # Combine Word2Vec features\n",
    "    train_w2v_combined = np.concatenate([train_premise_w2v, train_hypothesis_w2v, \n",
    "                                       train_premise_w2v - train_hypothesis_w2v,\n",
    "                                       np.multiply(train_premise_w2v, train_hypothesis_w2v)], axis=1)\n",
    "    val_w2v_combined = np.concatenate([val_premise_w2v, val_hypothesis_w2v, \n",
    "                                     val_premise_w2v - val_hypothesis_w2v,\n",
    "                                     np.multiply(val_premise_w2v, val_hypothesis_w2v)], axis=1)\n",
    "\n",
    "    # Print shapes to debug\n",
    "    print(f\"Original data shapes:\")\n",
    "    print(f\"processed_train: {processed_train.shape}\")\n",
    "    print(f\"processed_val: {processed_val.shape}\")\n",
    "    print(f\"train_tfidf: {train_tfidf.shape}\")\n",
    "    print(f\"val_tfidf: {val_tfidf.shape}\")\n",
    "    print(f\"train_w2v_combined: {train_w2v_combined.shape}\")\n",
    "    print(f\"val_w2v_combined: {val_w2v_combined.shape}\")\n",
    "\n",
    "    # Check label distribution\n",
    "    print(\"\\nLabel distribution in training data:\")\n",
    "    print(processed_train['label'].value_counts(dropna=False))\n",
    "    print(\"\\nLabel distribution in validation data:\")\n",
    "    print(processed_val['label'].value_counts(dropna=False))\n",
    "\n",
    "    # Prepare labels (using integers directly)\n",
    "    y_train = processed_train['label'].values\n",
    "    y_val = processed_val['label'].values\n",
    "\n",
    "    # Check for NaN values\n",
    "    if np.isnan(y_train).any():\n",
    "        print(f\"Found {np.isnan(y_train).sum()} NaN values in y_train. Filling with 1...\")\n",
    "        y_train = np.nan_to_num(y_train, nan=1)\n",
    "    if np.isnan(y_val).any():\n",
    "        print(f\"Found {np.isnan(y_val).sum()} NaN values in y_val. Filling with 1...\")\n",
    "        y_val = np.nan_to_num(y_val, nan=1)\n",
    "\n",
    "    # Create texts for transformer models\n",
    "    train_texts = [{'premise': str(row['premise']), 'hypothesis': str(row['hypothesis'])} \n",
    "                   for _, row in processed_train.iterrows()]\n",
    "    val_texts = [{'premise': str(row['premise']), 'hypothesis': str(row['hypothesis'])} \n",
    "                 for _, row in processed_val.iterrows()]\n",
    "\n",
    "    # Define label map for interpretation\n",
    "    label_map = {0: \"entailment\", 1: \"neutral\", 2: \"contradiction\"}\n",
    "    \n",
    "    return {\n",
    "        'processed_train': processed_train,\n",
    "        'processed_val': processed_val,\n",
    "        'train_tfidf': train_tfidf,\n",
    "        'val_tfidf': val_tfidf, \n",
    "        'train_w2v_combined': train_w2v_combined,\n",
    "        'val_w2v_combined': val_w2v_combined,\n",
    "        'y_train': y_train,\n",
    "        'y_val': y_val,\n",
    "        'train_texts': train_texts,\n",
    "        'val_texts': val_texts,\n",
    "        'label_map': label_map\n",
    "    }\n",
    "\n",
    "# Execute the function\n",
    "data = load_data()"
   ]
  },
  {
   "cell_type": "code",
   "execution_count": 16,
   "metadata": {
    "execution": {
     "iopub.execute_input": "2025-02-25T09:21:30.318278Z",
     "iopub.status.busy": "2025-02-25T09:21:30.317987Z",
     "iopub.status.idle": "2025-02-25T09:21:30.324454Z",
     "shell.execute_reply": "2025-02-25T09:21:30.323792Z",
     "shell.execute_reply.started": "2025-02-25T09:21:30.318242Z"
    },
    "trusted": true
   },
   "outputs": [
    {
     "name": "stdout",
     "output_type": "stream",
     "text": [
      "Using device: cuda\n"
     ]
    }
   ],
   "source": [
    "RANDOM_SEED = 42\n",
    "np.random.seed(RANDOM_SEED)\n",
    "torch.manual_seed(RANDOM_SEED)\n",
    "if torch.cuda.is_available():\n",
    "    torch.cuda.manual_seed_all(RANDOM_SEED)\n",
    "    print(f\"Using device: cuda\")\n",
    "else:\n",
    "    print(f\"Using device: cpu\")"
   ]
  },
  {
   "cell_type": "markdown",
   "metadata": {},
   "source": [
    "# Cell 3: Helper functions for NLI dataset preparation\n"
   ]
  },
  {
   "cell_type": "code",
   "execution_count": 17,
   "metadata": {
    "execution": {
     "iopub.execute_input": "2025-02-25T09:21:30.325896Z",
     "iopub.status.busy": "2025-02-25T09:21:30.325692Z",
     "iopub.status.idle": "2025-02-25T09:21:30.339914Z",
     "shell.execute_reply": "2025-02-25T09:21:30.339126Z",
     "shell.execute_reply.started": "2025-02-25T09:21:30.325878Z"
    },
    "trusted": true
   },
   "outputs": [],
   "source": [
    "def preprocess_nli_dataset(texts, labels):\n",
    "    \"\"\"Convert to HuggingFace Dataset format\"\"\"\n",
    "    dataset_dict = {\n",
    "        'premise': [text['premise'] for text in texts],\n",
    "        'hypothesis': [text['hypothesis'] for text in texts],\n",
    "        'label': labels\n",
    "    }\n",
    "    return HFDataset.from_dict(dataset_dict)"
   ]
  },
  {
   "cell_type": "code",
   "execution_count": 18,
   "metadata": {
    "execution": {
     "iopub.execute_input": "2025-02-25T09:21:30.341310Z",
     "iopub.status.busy": "2025-02-25T09:21:30.341045Z",
     "iopub.status.idle": "2025-02-25T09:21:30.358096Z",
     "shell.execute_reply": "2025-02-25T09:21:30.357530Z",
     "shell.execute_reply.started": "2025-02-25T09:21:30.341291Z"
    },
    "trusted": true
   },
   "outputs": [],
   "source": [
    "def tokenize_function(examples, tokenizer, max_length=128):\n",
    "    \"\"\"Tokenize premise and hypothesis pairs\"\"\"\n",
    "    return tokenizer(\n",
    "        examples['premise'],\n",
    "        examples['hypothesis'],\n",
    "        padding='max_length',\n",
    "        truncation=True,\n",
    "        max_length=max_length\n",
    "    )"
   ]
  },
  {
   "cell_type": "markdown",
   "metadata": {},
   "source": [
    "Compute Metrix funtion\n",
    "--"
   ]
  },
  {
   "cell_type": "code",
   "execution_count": 19,
   "metadata": {
    "execution": {
     "iopub.execute_input": "2025-02-25T09:21:30.358993Z",
     "iopub.status.busy": "2025-02-25T09:21:30.358806Z",
     "iopub.status.idle": "2025-02-25T09:21:30.373383Z",
     "shell.execute_reply": "2025-02-25T09:21:30.372777Z",
     "shell.execute_reply.started": "2025-02-25T09:21:30.358977Z"
    },
    "trusted": true
   },
   "outputs": [],
   "source": [
    "def compute_metrics(pred):\n",
    "    \"\"\"\n",
    "    Computes accuracy and other metrics for evaluation\n",
    "    \"\"\"\n",
    "    labels = pred.label_ids\n",
    "    preds = pred.predictions.argmax(-1)\n",
    "    \n",
    "    # Calculate accuracy\n",
    "    accuracy = accuracy_score(labels, preds)\n",
    "    \n",
    "    # Generate full classification report\n",
    "    report = classification_report(labels, preds, output_dict=True)\n",
    "    \n",
    "    return {\n",
    "        'accuracy': accuracy,\n",
    "        'f1': report['macro avg']['f1-score'],\n",
    "        'precision': report['macro avg']['precision'],\n",
    "        'recall': report['macro avg']['recall']\n",
    "    }"
   ]
  },
  {
   "cell_type": "markdown",
   "metadata": {},
   "source": [
    "xlm-roberta-traininng initialization\n",
    "--"
   ]
  },
  {
   "cell_type": "code",
   "execution_count": 20,
   "metadata": {
    "execution": {
     "iopub.execute_input": "2025-02-25T09:21:30.374527Z",
     "iopub.status.busy": "2025-02-25T09:21:30.374227Z",
     "iopub.status.idle": "2025-02-25T09:21:30.388011Z",
     "shell.execute_reply": "2025-02-25T09:21:30.387311Z",
     "shell.execute_reply.started": "2025-02-25T09:21:30.374500Z"
    },
    "trusted": true
   },
   "outputs": [],
   "source": [
    "import os\n",
    "os.environ[\"WANDB_DISABLED\"] = \"true\""
   ]
  },
  {
   "cell_type": "markdown",
   "metadata": {},
   "source": [
    "# Prepare data for transformers"
   ]
  },
  {
   "cell_type": "code",
   "execution_count": 21,
   "metadata": {
    "execution": {
     "iopub.execute_input": "2025-02-25T09:21:30.389089Z",
     "iopub.status.busy": "2025-02-25T09:21:30.388823Z",
     "iopub.status.idle": "2025-02-25T09:21:30.406914Z",
     "shell.execute_reply": "2025-02-25T09:21:30.406253Z",
     "shell.execute_reply.started": "2025-02-25T09:21:30.389058Z"
    },
    "trusted": true
   },
   "outputs": [
    {
     "name": "stdout",
     "output_type": "stream",
     "text": [
      "Training examples: 9696\n",
      "Validation examples: 2424\n"
     ]
    }
   ],
   "source": [
    "train_texts = data['train_texts']\n",
    "val_texts = data['val_texts']\n",
    "y_train = data['y_train']\n",
    "y_val = data['y_val']\n",
    "\n",
    "print(f\"Training examples: {len(train_texts)}\")\n",
    "print(f\"Validation examples: {len(val_texts)}\")"
   ]
  },
  {
   "cell_type": "markdown",
   "metadata": {},
   "source": [
    "\n",
    "# Initialize model and tokenizer"
   ]
  },
  {
   "cell_type": "code",
   "execution_count": 22,
   "metadata": {
    "execution": {
     "iopub.execute_input": "2025-02-25T09:21:30.409273Z",
     "iopub.status.busy": "2025-02-25T09:21:30.409080Z",
     "iopub.status.idle": "2025-02-25T09:21:32.659378Z",
     "shell.execute_reply": "2025-02-25T09:21:32.658711Z",
     "shell.execute_reply.started": "2025-02-25T09:21:30.409252Z"
    },
    "trusted": true
   },
   "outputs": [],
   "source": [
    "model_name = 'xlm-roberta-base'  # You can use 'xlm-roberta-large' if you have enough compute\n",
    "tokenizer = XLMRobertaTokenizer.from_pretrained(model_name)\n"
   ]
  },
  {
   "cell_type": "markdown",
   "metadata": {},
   "source": [
    "# Convert to HuggingFace datasets"
   ]
  },
  {
   "cell_type": "code",
   "execution_count": 23,
   "metadata": {
    "execution": {
     "iopub.execute_input": "2025-02-25T09:21:32.661248Z",
     "iopub.status.busy": "2025-02-25T09:21:32.660952Z",
     "iopub.status.idle": "2025-02-25T09:21:32.693512Z",
     "shell.execute_reply": "2025-02-25T09:21:32.692799Z",
     "shell.execute_reply.started": "2025-02-25T09:21:32.661221Z"
    },
    "trusted": true
   },
   "outputs": [
    {
     "name": "stdout",
     "output_type": "stream",
     "text": [
      "Converting datasets to HuggingFace format...\n"
     ]
    }
   ],
   "source": [
    "print(\"Converting datasets to HuggingFace format...\")\n",
    "train_dataset = preprocess_nli_dataset(train_texts, y_train)\n",
    "val_dataset = preprocess_nli_dataset(val_texts, y_val)"
   ]
  },
  {
   "cell_type": "markdown",
   "metadata": {},
   "source": [
    "# Tokenize datasets"
   ]
  },
  {
   "cell_type": "code",
   "execution_count": 24,
   "metadata": {
    "execution": {
     "iopub.execute_input": "2025-02-25T09:21:32.694582Z",
     "iopub.status.busy": "2025-02-25T09:21:32.694271Z",
     "iopub.status.idle": "2025-02-25T09:21:36.149995Z",
     "shell.execute_reply": "2025-02-25T09:21:36.149307Z",
     "shell.execute_reply.started": "2025-02-25T09:21:32.694551Z"
    },
    "trusted": true
   },
   "outputs": [
    {
     "name": "stdout",
     "output_type": "stream",
     "text": [
      "Tokenizing datasets...\n"
     ]
    },
    {
     "data": {
      "application/vnd.jupyter.widget-view+json": {
       "model_id": "c3aac78b3542472e835c7056f79e7151",
       "version_major": 2,
       "version_minor": 0
      },
      "text/plain": [
       "Map:   0%|          | 0/9696 [00:00<?, ? examples/s]"
      ]
     },
     "metadata": {},
     "output_type": "display_data"
    },
    {
     "name": "stderr",
     "output_type": "stream",
     "text": [
      "Be aware, overflowing tokens are not returned for the setting you have chosen, i.e. sequence pairs with the 'longest_first' truncation strategy. So the returned list will always be empty even if some tokens have been removed.\n",
      "Be aware, overflowing tokens are not returned for the setting you have chosen, i.e. sequence pairs with the 'longest_first' truncation strategy. So the returned list will always be empty even if some tokens have been removed.\n",
      "Be aware, overflowing tokens are not returned for the setting you have chosen, i.e. sequence pairs with the 'longest_first' truncation strategy. So the returned list will always be empty even if some tokens have been removed.\n",
      "Be aware, overflowing tokens are not returned for the setting you have chosen, i.e. sequence pairs with the 'longest_first' truncation strategy. So the returned list will always be empty even if some tokens have been removed.\n",
      "Be aware, overflowing tokens are not returned for the setting you have chosen, i.e. sequence pairs with the 'longest_first' truncation strategy. So the returned list will always be empty even if some tokens have been removed.\n",
      "Be aware, overflowing tokens are not returned for the setting you have chosen, i.e. sequence pairs with the 'longest_first' truncation strategy. So the returned list will always be empty even if some tokens have been removed.\n",
      "Be aware, overflowing tokens are not returned for the setting you have chosen, i.e. sequence pairs with the 'longest_first' truncation strategy. So the returned list will always be empty even if some tokens have been removed.\n",
      "Be aware, overflowing tokens are not returned for the setting you have chosen, i.e. sequence pairs with the 'longest_first' truncation strategy. So the returned list will always be empty even if some tokens have been removed.\n",
      "Be aware, overflowing tokens are not returned for the setting you have chosen, i.e. sequence pairs with the 'longest_first' truncation strategy. So the returned list will always be empty even if some tokens have been removed.\n",
      "Be aware, overflowing tokens are not returned for the setting you have chosen, i.e. sequence pairs with the 'longest_first' truncation strategy. So the returned list will always be empty even if some tokens have been removed.\n",
      "Be aware, overflowing tokens are not returned for the setting you have chosen, i.e. sequence pairs with the 'longest_first' truncation strategy. So the returned list will always be empty even if some tokens have been removed.\n",
      "Be aware, overflowing tokens are not returned for the setting you have chosen, i.e. sequence pairs with the 'longest_first' truncation strategy. So the returned list will always be empty even if some tokens have been removed.\n",
      "Be aware, overflowing tokens are not returned for the setting you have chosen, i.e. sequence pairs with the 'longest_first' truncation strategy. So the returned list will always be empty even if some tokens have been removed.\n",
      "Be aware, overflowing tokens are not returned for the setting you have chosen, i.e. sequence pairs with the 'longest_first' truncation strategy. So the returned list will always be empty even if some tokens have been removed.\n",
      "Be aware, overflowing tokens are not returned for the setting you have chosen, i.e. sequence pairs with the 'longest_first' truncation strategy. So the returned list will always be empty even if some tokens have been removed.\n",
      "Be aware, overflowing tokens are not returned for the setting you have chosen, i.e. sequence pairs with the 'longest_first' truncation strategy. So the returned list will always be empty even if some tokens have been removed.\n",
      "Be aware, overflowing tokens are not returned for the setting you have chosen, i.e. sequence pairs with the 'longest_first' truncation strategy. So the returned list will always be empty even if some tokens have been removed.\n",
      "Be aware, overflowing tokens are not returned for the setting you have chosen, i.e. sequence pairs with the 'longest_first' truncation strategy. So the returned list will always be empty even if some tokens have been removed.\n",
      "Be aware, overflowing tokens are not returned for the setting you have chosen, i.e. sequence pairs with the 'longest_first' truncation strategy. So the returned list will always be empty even if some tokens have been removed.\n",
      "Be aware, overflowing tokens are not returned for the setting you have chosen, i.e. sequence pairs with the 'longest_first' truncation strategy. So the returned list will always be empty even if some tokens have been removed.\n",
      "Be aware, overflowing tokens are not returned for the setting you have chosen, i.e. sequence pairs with the 'longest_first' truncation strategy. So the returned list will always be empty even if some tokens have been removed.\n",
      "Be aware, overflowing tokens are not returned for the setting you have chosen, i.e. sequence pairs with the 'longest_first' truncation strategy. So the returned list will always be empty even if some tokens have been removed.\n",
      "Be aware, overflowing tokens are not returned for the setting you have chosen, i.e. sequence pairs with the 'longest_first' truncation strategy. So the returned list will always be empty even if some tokens have been removed.\n",
      "Be aware, overflowing tokens are not returned for the setting you have chosen, i.e. sequence pairs with the 'longest_first' truncation strategy. So the returned list will always be empty even if some tokens have been removed.\n",
      "Be aware, overflowing tokens are not returned for the setting you have chosen, i.e. sequence pairs with the 'longest_first' truncation strategy. So the returned list will always be empty even if some tokens have been removed.\n",
      "Be aware, overflowing tokens are not returned for the setting you have chosen, i.e. sequence pairs with the 'longest_first' truncation strategy. So the returned list will always be empty even if some tokens have been removed.\n",
      "Be aware, overflowing tokens are not returned for the setting you have chosen, i.e. sequence pairs with the 'longest_first' truncation strategy. So the returned list will always be empty even if some tokens have been removed.\n"
     ]
    },
    {
     "data": {
      "application/vnd.jupyter.widget-view+json": {
       "model_id": "eb48af4389dd4351be8ff27bda460db2",
       "version_major": 2,
       "version_minor": 0
      },
      "text/plain": [
       "Map:   0%|          | 0/2424 [00:00<?, ? examples/s]"
      ]
     },
     "metadata": {},
     "output_type": "display_data"
    },
    {
     "name": "stderr",
     "output_type": "stream",
     "text": [
      "Be aware, overflowing tokens are not returned for the setting you have chosen, i.e. sequence pairs with the 'longest_first' truncation strategy. So the returned list will always be empty even if some tokens have been removed.\n",
      "Be aware, overflowing tokens are not returned for the setting you have chosen, i.e. sequence pairs with the 'longest_first' truncation strategy. So the returned list will always be empty even if some tokens have been removed.\n",
      "Be aware, overflowing tokens are not returned for the setting you have chosen, i.e. sequence pairs with the 'longest_first' truncation strategy. So the returned list will always be empty even if some tokens have been removed.\n",
      "Be aware, overflowing tokens are not returned for the setting you have chosen, i.e. sequence pairs with the 'longest_first' truncation strategy. So the returned list will always be empty even if some tokens have been removed.\n",
      "Be aware, overflowing tokens are not returned for the setting you have chosen, i.e. sequence pairs with the 'longest_first' truncation strategy. So the returned list will always be empty even if some tokens have been removed.\n",
      "Be aware, overflowing tokens are not returned for the setting you have chosen, i.e. sequence pairs with the 'longest_first' truncation strategy. So the returned list will always be empty even if some tokens have been removed.\n"
     ]
    }
   ],
   "source": [
    "print(\"Tokenizing datasets...\")\n",
    "tokenized_train = train_dataset.map(\n",
    "    lambda examples: tokenize_function(examples, tokenizer, max_length=128),\n",
    "    batched=True\n",
    ")\n",
    "tokenized_val = val_dataset.map(\n",
    "    lambda examples: tokenize_function(examples, tokenizer, max_length=128),\n",
    "    batched=True\n",
    ")"
   ]
  },
  {
   "cell_type": "markdown",
   "metadata": {},
   "source": [
    "# Set format for PyTorch\n"
   ]
  },
  {
   "cell_type": "code",
   "execution_count": 25,
   "metadata": {
    "execution": {
     "iopub.execute_input": "2025-02-25T09:21:36.150904Z",
     "iopub.status.busy": "2025-02-25T09:21:36.150686Z",
     "iopub.status.idle": "2025-02-25T09:21:36.155876Z",
     "shell.execute_reply": "2025-02-25T09:21:36.155029Z",
     "shell.execute_reply.started": "2025-02-25T09:21:36.150885Z"
    },
    "trusted": true
   },
   "outputs": [],
   "source": [
    "tokenized_train.set_format(\n",
    "    type='torch', \n",
    "    columns=['input_ids', 'attention_mask', 'label']\n",
    ")\n",
    "tokenized_val.set_format(\n",
    "    type='torch', \n",
    "    columns=['input_ids', 'attention_mask', 'label']\n",
    ")"
   ]
  },
  {
   "cell_type": "markdown",
   "metadata": {},
   "source": [
    "# Cell 6: Initialize model"
   ]
  },
  {
   "cell_type": "code",
   "execution_count": 26,
   "metadata": {
    "execution": {
     "iopub.execute_input": "2025-02-25T09:21:36.157138Z",
     "iopub.status.busy": "2025-02-25T09:21:36.156822Z",
     "iopub.status.idle": "2025-02-25T09:21:37.007178Z",
     "shell.execute_reply": "2025-02-25T09:21:37.006426Z",
     "shell.execute_reply.started": "2025-02-25T09:21:36.157117Z"
    },
    "trusted": true
   },
   "outputs": [
    {
     "name": "stdout",
     "output_type": "stream",
     "text": [
      "Using device: cuda\n"
     ]
    },
    {
     "name": "stderr",
     "output_type": "stream",
     "text": [
      "Some weights of XLMRobertaForSequenceClassification were not initialized from the model checkpoint at xlm-roberta-base and are newly initialized: ['classifier.dense.bias', 'classifier.dense.weight', 'classifier.out_proj.bias', 'classifier.out_proj.weight']\n",
      "You should probably TRAIN this model on a down-stream task to be able to use it for predictions and inference.\n"
     ]
    },
    {
     "data": {
      "text/plain": [
       "XLMRobertaForSequenceClassification(\n",
       "  (roberta): XLMRobertaModel(\n",
       "    (embeddings): XLMRobertaEmbeddings(\n",
       "      (word_embeddings): Embedding(250002, 768, padding_idx=1)\n",
       "      (position_embeddings): Embedding(514, 768, padding_idx=1)\n",
       "      (token_type_embeddings): Embedding(1, 768)\n",
       "      (LayerNorm): LayerNorm((768,), eps=1e-05, elementwise_affine=True)\n",
       "      (dropout): Dropout(p=0.1, inplace=False)\n",
       "    )\n",
       "    (encoder): XLMRobertaEncoder(\n",
       "      (layer): ModuleList(\n",
       "        (0-11): 12 x XLMRobertaLayer(\n",
       "          (attention): XLMRobertaAttention(\n",
       "            (self): XLMRobertaSdpaSelfAttention(\n",
       "              (query): Linear(in_features=768, out_features=768, bias=True)\n",
       "              (key): Linear(in_features=768, out_features=768, bias=True)\n",
       "              (value): Linear(in_features=768, out_features=768, bias=True)\n",
       "              (dropout): Dropout(p=0.1, inplace=False)\n",
       "            )\n",
       "            (output): XLMRobertaSelfOutput(\n",
       "              (dense): Linear(in_features=768, out_features=768, bias=True)\n",
       "              (LayerNorm): LayerNorm((768,), eps=1e-05, elementwise_affine=True)\n",
       "              (dropout): Dropout(p=0.1, inplace=False)\n",
       "            )\n",
       "          )\n",
       "          (intermediate): XLMRobertaIntermediate(\n",
       "            (dense): Linear(in_features=768, out_features=3072, bias=True)\n",
       "            (intermediate_act_fn): GELUActivation()\n",
       "          )\n",
       "          (output): XLMRobertaOutput(\n",
       "            (dense): Linear(in_features=3072, out_features=768, bias=True)\n",
       "            (LayerNorm): LayerNorm((768,), eps=1e-05, elementwise_affine=True)\n",
       "            (dropout): Dropout(p=0.1, inplace=False)\n",
       "          )\n",
       "        )\n",
       "      )\n",
       "    )\n",
       "  )\n",
       "  (classifier): XLMRobertaClassificationHead(\n",
       "    (dense): Linear(in_features=768, out_features=768, bias=True)\n",
       "    (dropout): Dropout(p=0.1, inplace=False)\n",
       "    (out_proj): Linear(in_features=768, out_features=3, bias=True)\n",
       "  )\n",
       ")"
      ]
     },
     "execution_count": 26,
     "metadata": {},
     "output_type": "execute_result"
    }
   ],
   "source": [
    "# Define device for PyTorch\n",
    "device = torch.device(\"cuda\" if torch.cuda.is_available() else \"cpu\")\n",
    "print(f\"Using device: {device}\")\n",
    "\n",
    "model = XLMRobertaForSequenceClassification.from_pretrained(\n",
    "    model_name, \n",
    "    num_labels=3  # entailment, neutral, contradiction\n",
    ")\n",
    "model.to(device)"
   ]
  },
  {
   "cell_type": "markdown",
   "metadata": {},
   "source": [
    " # Set up training arguments"
   ]
  },
  {
   "cell_type": "code",
   "execution_count": 27,
   "metadata": {
    "execution": {
     "iopub.execute_input": "2025-02-25T09:21:37.008524Z",
     "iopub.status.busy": "2025-02-25T09:21:37.008143Z",
     "iopub.status.idle": "2025-02-25T09:21:37.049003Z",
     "shell.execute_reply": "2025-02-25T09:21:37.048421Z",
     "shell.execute_reply.started": "2025-02-25T09:21:37.008489Z"
    },
    "trusted": true
   },
   "outputs": [
    {
     "name": "stderr",
     "output_type": "stream",
     "text": [
      "/usr/local/lib/python3.10/dist-packages/transformers/training_args.py:1575: FutureWarning: `evaluation_strategy` is deprecated and will be removed in version 4.46 of 🤗 Transformers. Use `eval_strategy` instead\n",
      "  warnings.warn(\n",
      "Using the `WANDB_DISABLED` environment variable is deprecated and will be removed in v5. Use the --report_to flag to control the integrations used for logging result (for instance --report_to none).\n"
     ]
    }
   ],
   "source": [
    "model_id = f\"xlm-roberta-nli-{datetime.now().strftime('%Y-%m-%d-%H-%M')}\"\n",
    "output_dir = f\"./models/{model_id}\"\n",
    "\n",
    "# Set up training arguments\n",
    "training_args = TrainingArguments(\n",
    "    output_dir=output_dir,\n",
    "    num_train_epochs=6, \n",
    "    per_device_train_batch_size=16,  # Adjust based on your GPU memory\n",
    "    per_device_eval_batch_size=32,\n",
    "    warmup_steps=500,\n",
    "    weight_decay=0.01,\n",
    "    logging_dir=f\"{output_dir}/logs\",\n",
    "    logging_steps=100,\n",
    "    evaluation_strategy=\"epoch\",\n",
    "    save_strategy=\"epoch\",\n",
    "    load_best_model_at_end=True,\n",
    "    metric_for_best_model=\"accuracy\",\n",
    "    push_to_hub=False,  # We'll push manually after training\n",
    "    hub_strategy=\"end\",\n",
    "    fp16=torch.cuda.is_available(),  # Use mixed precision if GPU is available\n",
    ")"
   ]
  },
  {
   "cell_type": "markdown",
   "metadata": {},
   "source": [
    "# Cell 8: Create Trainer"
   ]
  },
  {
   "cell_type": "code",
   "execution_count": 28,
   "metadata": {
    "execution": {
     "iopub.execute_input": "2025-02-25T09:21:37.050071Z",
     "iopub.status.busy": "2025-02-25T09:21:37.049788Z",
     "iopub.status.idle": "2025-02-25T09:42:45.726562Z",
     "shell.execute_reply": "2025-02-25T09:42:45.725701Z",
     "shell.execute_reply.started": "2025-02-25T09:21:37.050043Z"
    },
    "trusted": true
   },
   "outputs": [
    {
     "name": "stdout",
     "output_type": "stream",
     "text": [
      "Starting training...\n"
     ]
    },
    {
     "name": "stderr",
     "output_type": "stream",
     "text": [
      "/usr/local/lib/python3.10/dist-packages/torch/nn/parallel/_functions.py:71: UserWarning: Was asked to gather along dimension 0, but all input tensors were scalars; will instead unsqueeze and return a vector.\n",
      "  warnings.warn(\n"
     ]
    },
    {
     "data": {
      "text/html": [
       "\n",
       "    <div>\n",
       "      \n",
       "      <progress value='1818' max='1818' style='width:300px; height:20px; vertical-align: middle;'></progress>\n",
       "      [1818/1818 21:05, Epoch 6/6]\n",
       "    </div>\n",
       "    <table border=\"1\" class=\"dataframe\">\n",
       "  <thead>\n",
       " <tr style=\"text-align: left;\">\n",
       "      <th>Epoch</th>\n",
       "      <th>Training Loss</th>\n",
       "      <th>Validation Loss</th>\n",
       "      <th>Accuracy</th>\n",
       "      <th>F1</th>\n",
       "      <th>Precision</th>\n",
       "      <th>Recall</th>\n",
       "    </tr>\n",
       "  </thead>\n",
       "  <tbody>\n",
       "    <tr>\n",
       "      <td>1</td>\n",
       "      <td>1.051500</td>\n",
       "      <td>0.913688</td>\n",
       "      <td>0.589934</td>\n",
       "      <td>0.585092</td>\n",
       "      <td>0.594004</td>\n",
       "      <td>0.587022</td>\n",
       "    </tr>\n",
       "    <tr>\n",
       "      <td>2</td>\n",
       "      <td>0.869100</td>\n",
       "      <td>0.864519</td>\n",
       "      <td>0.642327</td>\n",
       "      <td>0.643318</td>\n",
       "      <td>0.666644</td>\n",
       "      <td>0.644758</td>\n",
       "    </tr>\n",
       "    <tr>\n",
       "      <td>3</td>\n",
       "      <td>0.727600</td>\n",
       "      <td>0.717006</td>\n",
       "      <td>0.708333</td>\n",
       "      <td>0.707913</td>\n",
       "      <td>0.708375</td>\n",
       "      <td>0.707875</td>\n",
       "    </tr>\n",
       "    <tr>\n",
       "      <td>4</td>\n",
       "      <td>0.508300</td>\n",
       "      <td>0.804248</td>\n",
       "      <td>0.701733</td>\n",
       "      <td>0.701352</td>\n",
       "      <td>0.706179</td>\n",
       "      <td>0.701360</td>\n",
       "    </tr>\n",
       "    <tr>\n",
       "      <td>5</td>\n",
       "      <td>0.300600</td>\n",
       "      <td>0.950273</td>\n",
       "      <td>0.706271</td>\n",
       "      <td>0.705744</td>\n",
       "      <td>0.710714</td>\n",
       "      <td>0.706657</td>\n",
       "    </tr>\n",
       "    <tr>\n",
       "      <td>6</td>\n",
       "      <td>0.180700</td>\n",
       "      <td>1.093437</td>\n",
       "      <td>0.718647</td>\n",
       "      <td>0.718033</td>\n",
       "      <td>0.718044</td>\n",
       "      <td>0.718055</td>\n",
       "    </tr>\n",
       "  </tbody>\n",
       "</table><p>"
      ],
      "text/plain": [
       "<IPython.core.display.HTML object>"
      ]
     },
     "metadata": {},
     "output_type": "display_data"
    },
    {
     "name": "stderr",
     "output_type": "stream",
     "text": [
      "/usr/local/lib/python3.10/dist-packages/torch/nn/parallel/_functions.py:71: UserWarning: Was asked to gather along dimension 0, but all input tensors were scalars; will instead unsqueeze and return a vector.\n",
      "  warnings.warn(\n",
      "/usr/local/lib/python3.10/dist-packages/torch/nn/parallel/_functions.py:71: UserWarning: Was asked to gather along dimension 0, but all input tensors were scalars; will instead unsqueeze and return a vector.\n",
      "  warnings.warn(\n",
      "/usr/local/lib/python3.10/dist-packages/torch/nn/parallel/_functions.py:71: UserWarning: Was asked to gather along dimension 0, but all input tensors were scalars; will instead unsqueeze and return a vector.\n",
      "  warnings.warn(\n",
      "/usr/local/lib/python3.10/dist-packages/torch/nn/parallel/_functions.py:71: UserWarning: Was asked to gather along dimension 0, but all input tensors were scalars; will instead unsqueeze and return a vector.\n",
      "  warnings.warn(\n",
      "/usr/local/lib/python3.10/dist-packages/torch/nn/parallel/_functions.py:71: UserWarning: Was asked to gather along dimension 0, but all input tensors were scalars; will instead unsqueeze and return a vector.\n",
      "  warnings.warn(\n",
      "/usr/local/lib/python3.10/dist-packages/torch/nn/parallel/_functions.py:71: UserWarning: Was asked to gather along dimension 0, but all input tensors were scalars; will instead unsqueeze and return a vector.\n",
      "  warnings.warn(\n"
     ]
    },
    {
     "data": {
      "text/plain": [
       "TrainOutput(global_step=1818, training_loss=0.6189202984305235, metrics={'train_runtime': 1268.1664, 'train_samples_per_second': 45.874, 'train_steps_per_second': 1.434, 'total_flos': 3826721547436032.0, 'train_loss': 0.6189202984305235, 'epoch': 6.0})"
      ]
     },
     "execution_count": 28,
     "metadata": {},
     "output_type": "execute_result"
    }
   ],
   "source": [
    "trainer = Trainer(\n",
    "    model=model,\n",
    "    args=training_args,\n",
    "    train_dataset=tokenized_train,\n",
    "    eval_dataset=tokenized_val,\n",
    "    compute_metrics=compute_metrics\n",
    ")\n",
    "\n",
    "# Cell 9: Train model\n",
    "# This cell will take some time to execute depending on your dataset size and hardware\n",
    "print(\"Starting training...\")\n",
    "trainer.train()"
   ]
  },
  {
   "cell_type": "markdown",
   "metadata": {},
   "source": [
    "compute_metrics\n",
    "--"
   ]
  },
  {
   "cell_type": "code",
   "execution_count": 50,
   "metadata": {
    "execution": {
     "iopub.execute_input": "2025-02-25T10:01:48.300595Z",
     "iopub.status.busy": "2025-02-25T10:01:48.300229Z",
     "iopub.status.idle": "2025-02-25T10:01:48.309498Z",
     "shell.execute_reply": "2025-02-25T10:01:48.308447Z",
     "shell.execute_reply.started": "2025-02-25T10:01:48.300570Z"
    },
    "trusted": true
   },
   "outputs": [],
   "source": [
    "from sklearn.metrics import (\n",
    "    accuracy_score, precision_score, recall_score, f1_score,\n",
    "    confusion_matrix, roc_auc_score, roc_curve\n",
    ")\n",
    "import numpy as np\n",
    "import matplotlib.pyplot as plt\n",
    "import seaborn as sns\n",
    "import torch.nn.functional as F\n",
    "import torch\n",
    "\n",
    "def compute_metrics(pred):\n",
    "    labels = pred.label_ids\n",
    "    logits = pred.predictions\n",
    "    \n",
    "    # Convert logits to probabilities\n",
    "    pred_probs = F.softmax(torch.tensor(logits), dim=1).numpy()\n",
    "    preds = np.argmax(pred_probs, axis=-1)\n",
    "\n",
    "    # Calculate basic metrics\n",
    "    accuracy = accuracy_score(labels, preds)\n",
    "    precision = precision_score(labels, preds, average='macro')\n",
    "    recall = recall_score(labels, preds, average='macro')\n",
    "    f1 = f1_score(labels, preds, average='macro')\n",
    "\n",
    "    # Confusion matrix\n",
    "    cm = confusion_matrix(labels, preds)\n",
    "    print(\"Confusion Matrix:\\n\", cm)\n",
    "\n",
    "    # ROC-AUC (One-vs-Rest for multiclass)\n",
    "    roc_auc = roc_auc_score(labels, pred_probs, multi_class='ovr')\n",
    "    print(\"ROC-AUC Score:\", roc_auc)\n",
    "\n",
    "    # Plot ROC Curve and Confusion Matrix\n",
    "    plot_metrics(labels, pred_probs, cm)\n",
    "\n",
    "    return {\n",
    "        'accuracy': accuracy,\n",
    "        'precision': precision,\n",
    "        'recall': recall,\n",
    "        'f1': f1,\n",
    "        'roc_auc': roc_auc\n",
    "    }\n",
    "\n",
    "def plot_metrics(labels, pred_probs, cm):\n",
    "    plt.figure(figsize=(14, 6))\n",
    "\n",
    "    # ROC Curve\n",
    "    plt.subplot(1, 2, 1)\n",
    "    for i in range(pred_probs.shape[1]):\n",
    "        fpr, tpr, _ = roc_curve(labels, pred_probs[:, i], pos_label=i)\n",
    "        plt.plot(fpr, tpr, label=f'Class {i}')\n",
    "    plt.plot([0, 1], [0, 1], 'k--')\n",
    "    plt.xlabel('False Positive Rate')\n",
    "    plt.ylabel('True Positive Rate')\n",
    "    plt.title('ROC Curve')\n",
    "    plt.legend()\n",
    "\n",
    "    # Confusion Matrix\n",
    "    plt.subplot(1, 2, 2)\n",
    "    sns.heatmap(cm, annot=True, fmt='d', cmap='Blues', cbar=False)\n",
    "    plt.xlabel('Predicted')\n",
    "    plt.ylabel('Actual')\n",
    "    plt.title('Confusion Matrix')\n",
    "\n",
    "    plt.tight_layout()\n",
    "    plt.show()\n"
   ]
  },
  {
   "cell_type": "code",
   "execution_count": 46,
   "metadata": {
    "execution": {
     "iopub.execute_input": "2025-02-25T09:59:32.201342Z",
     "iopub.status.busy": "2025-02-25T09:59:32.201045Z",
     "iopub.status.idle": "2025-02-25T09:59:43.198632Z",
     "shell.execute_reply": "2025-02-25T09:59:43.197724Z",
     "shell.execute_reply.started": "2025-02-25T09:59:32.201319Z"
    },
    "trusted": true
   },
   "outputs": [
    {
     "name": "stdout",
     "output_type": "stream",
     "text": [
      "Evaluating model...\n"
     ]
    },
    {
     "name": "stderr",
     "output_type": "stream",
     "text": [
      "/usr/local/lib/python3.10/dist-packages/torch/nn/parallel/_functions.py:71: UserWarning: Was asked to gather along dimension 0, but all input tensors were scalars; will instead unsqueeze and return a vector.\n",
      "  warnings.warn(\n"
     ]
    },
    {
     "data": {
      "text/html": [],
      "text/plain": [
       "<IPython.core.display.HTML object>"
      ]
     },
     "metadata": {},
     "output_type": "display_data"
    },
    {
     "name": "stdout",
     "output_type": "stream",
     "text": [
      "{'eval_loss': 1.093436598777771, 'eval_accuracy': 0.7186468646864687, 'eval_f1': 0.7180332811108306, 'eval_precision': 0.7180440616024869, 'eval_recall': 0.7180552641689143, 'eval_runtime': 10.9886, 'eval_samples_per_second': 220.592, 'eval_steps_per_second': 3.458, 'epoch': 6.0}\n"
     ]
    }
   ],
   "source": [
    "print(\"Evaluating model...\")\n",
    "eval_result = trainer.evaluate()\n",
    "print(eval_result)\n"
   ]
  },
  {
   "cell_type": "markdown",
   "metadata": {},
   "source": [
    "# Evaluate on the validation dataset and visualize additional metrics"
   ]
  },
  {
   "cell_type": "code",
   "execution_count": 51,
   "metadata": {
    "execution": {
     "iopub.execute_input": "2025-02-25T10:01:52.704942Z",
     "iopub.status.busy": "2025-02-25T10:01:52.704647Z",
     "iopub.status.idle": "2025-02-25T10:02:04.503461Z",
     "shell.execute_reply": "2025-02-25T10:02:04.502445Z",
     "shell.execute_reply.started": "2025-02-25T10:01:52.704919Z"
    },
    "trusted": true
   },
   "outputs": [
    {
     "name": "stderr",
     "output_type": "stream",
     "text": [
      "/usr/local/lib/python3.10/dist-packages/torch/nn/parallel/_functions.py:71: UserWarning: Was asked to gather along dimension 0, but all input tensors were scalars; will instead unsqueeze and return a vector.\n",
      "  warnings.warn(\n"
     ]
    },
    {
     "data": {
      "text/html": [],
      "text/plain": [
       "<IPython.core.display.HTML object>"
      ]
     },
     "metadata": {},
     "output_type": "display_data"
    },
    {
     "name": "stdout",
     "output_type": "stream",
     "text": [
      "Confusion Matrix:\n",
      " [[612 117 106]\n",
      " [121 534 121]\n",
      " [ 93 124 596]]\n",
      "ROC-AUC Score: 0.8688464643085227\n"
     ]
    },
    {
     "data": {
      "image/png": "[encoded data removed]",
      "text/plain": [
       "<Figure size 1400x600 with 2 Axes>"
      ]
     },
     "metadata": {},
     "output_type": "display_data"
    },
    {
     "data": {
      "text/plain": [
       "{'accuracy': 0.7186468646864687,\n",
       " 'precision': 0.7180440616024869,\n",
       " 'recall': 0.7180552641689143,\n",
       " 'f1': 0.7180332811108306,\n",
       " 'roc_auc': 0.8688464643085227}"
      ]
     },
     "execution_count": 51,
     "metadata": {},
     "output_type": "execute_result"
    }
   ],
   "source": [
    "predictions = trainer.predict(tokenized_val)\n",
    "compute_metrics(predictions)\n"
   ]
  },
  {
   "cell_type": "markdown",
   "metadata": {},
   "source": [
    "Deploy in hugging face\n",
    "--"
   ]
  },
  {
   "cell_type": "code",
   "execution_count": 35,
   "metadata": {
    "execution": {
     "iopub.execute_input": "2025-02-25T09:47:24.998753Z",
     "iopub.status.busy": "2025-02-25T09:47:24.998391Z",
     "iopub.status.idle": "2025-02-25T09:47:25.017484Z",
     "shell.execute_reply": "2025-02-25T09:47:25.016287Z",
     "shell.execute_reply.started": "2025-02-25T09:47:24.998727Z"
    },
    "trusted": true
   },
   "outputs": [
    {
     "data": {
      "application/vnd.jupyter.widget-view+json": {
       "model_id": "d969c519c85e47ab875a0c4c504b1d6a",
       "version_major": 2,
       "version_minor": 0
      },
      "text/plain": [
       "VBox(children=(HTML(value='<center> <img\\nsrc=https://huggingface.co/front/assets/huggingface_logo-noborder.sv…"
      ]
     },
     "metadata": {},
     "output_type": "display_data"
    }
   ],
   "source": [
    "notebook_login()"
   ]
  },
  {
   "cell_type": "markdown",
   "metadata": {},
   "source": [
    "# Upload model to Hugging Face Hub"
   ]
  },
  {
   "cell_type": "code",
   "execution_count": 40,
   "metadata": {
    "execution": {
     "iopub.execute_input": "2025-02-25T09:52:49.769060Z",
     "iopub.status.busy": "2025-02-25T09:52:49.768713Z",
     "iopub.status.idle": "2025-02-25T09:53:29.730730Z",
     "shell.execute_reply": "2025-02-25T09:53:29.729927Z",
     "shell.execute_reply.started": "2025-02-25T09:52:49.769031Z"
    },
    "trusted": true
   },
   "outputs": [
    {
     "name": "stdout",
     "output_type": "stream",
     "text": [
      "Pushing model to Hugging Face Hub: Fahim18/multilingual-nli-xlm-roberta\n"
     ]
    },
    {
     "data": {
      "application/vnd.jupyter.widget-view+json": {
       "model_id": "d1dece2193aa4af487ebc41d4a834177",
       "version_major": 2,
       "version_minor": 0
      },
      "text/plain": [
       "model.safetensors:   0%|          | 0.00/1.11G [00:00<?, ?B/s]"
      ]
     },
     "metadata": {},
     "output_type": "display_data"
    },
    {
     "data": {
      "application/vnd.jupyter.widget-view+json": {
       "model_id": "db0d7353846e4f8c953e8879776801b6",
       "version_major": 2,
       "version_minor": 0
      },
      "text/plain": [
       "sentencepiece.bpe.model:   0%|          | 0.00/5.07M [00:00<?, ?B/s]"
      ]
     },
     "metadata": {},
     "output_type": "display_data"
    },
    {
     "name": "stdout",
     "output_type": "stream",
     "text": [
      "Model successfully uploaded to https://huggingface.co/Fahim18/multilingual-nli-xlm-roberta\n"
     ]
    }
   ],
   "source": [
    "# Define repository name for the model\n",
    "repo_name = \"multilingual-nli-xlm-roberta\"  # Choose your repository name\n",
    "model_repo_id = f\"Fahim18/{repo_name}\"  # Replace YOUR_HF_USERNAME with your Hugging Face username\n",
    "\n",
    "# Create model card with information about your model\n",
    "model_card = f\"\"\"\n",
    "# XLM-RoBERTa for Multilingual NLI\n",
    "\n",
    "This model is fine-tuned for multilingual Natural Language Inference (NLI) tasks.\n",
    "\n",
    "## Model description\n",
    "\n",
    "- **Model type:** XLM-RoBERTa\n",
    "- **Task:** Natural Language Inference (Entailment Classification)\n",
    "- **Training data:** Multilingual NLI dataset\n",
    "- **Evaluation results:** \n",
    "  - Accuracy: {eval_result['eval_accuracy']:.4f}\n",
    "  - F1 Score: {eval_result['eval_f1']:.4f}\n",
    "  - Precision: {eval_result['eval_precision']:.4f}\n",
    "  - Recall: {eval_result['eval_recall']:.4f}\n",
    "  \n",
    "## Usage\n",
    "\n",
    "```python\n",
    "from transformers import XLMRobertaTokenizer, XLMRobertaForSequenceClassification\n",
    "\n",
    "# Load model and tokenizer\n",
    "tokenizer = XLMRobertaTokenizer.from_pretrained(\"{model_repo_id}\")\n",
    "model = XLMRobertaForSequenceClassification.from_pretrained(\"{model_repo_id}\")\n",
    "\n",
    "# Prepare input\n",
    "premise = \"The dog is running in the park.\"\n",
    "hypothesis = \"There is an animal outdoors.\"\n",
    "\n",
    "# Tokenize input\n",
    "inputs = tokenizer(premise, hypothesis, return_tensors=\"pt\", padding=True, truncation=True)\n",
    "\n",
    "# Make prediction\n",
    "outputs = model(**inputs)\n",
    "predictions = outputs.logits.argmax(dim=1)\n",
    "\n",
    "# Map predictions to labels\n",
    "label_map = {{0: \"entailment\", 1: \"neutral\", 2: \"contradiction\"}}\n",
    "result = label_map[predictions.item()]\n",
    "print(f\"Prediction: {{result}}\")\n",
    "```\n",
    "\n",
    "## Limitations and bias\n",
    "\n",
    "This model was trained on specific NLI data and may not generalize well to all domains or languages.\n",
    "\"\"\"\n",
    "\n",
    "\n",
    "# Upload to Hub\n",
    "# This will push the model, tokenizer, and configuration to Hugging Face Hub\n",
    "print(f\"Pushing model to Hugging Face Hub: {model_repo_id}\")\n",
    "model.push_to_hub(model_repo_id)\n",
    "tokenizer.push_to_hub(model_repo_id)\n",
    "\n",
    "\n",
    "\n",
    "print(f\"Model successfully uploaded to https://huggingface.co/{model_repo_id}\")\n"
   ]
  },
  {
   "cell_type": "markdown",
   "metadata": {},
   "source": [
    "# Test the uploaded model"
   ]
  },
  {
   "cell_type": "code",
   "execution_count": 39,
   "metadata": {
    "execution": {
     "iopub.execute_input": "2025-02-25T09:51:29.248538Z",
     "iopub.status.busy": "2025-02-25T09:51:29.248212Z",
     "iopub.status.idle": "2025-02-25T09:51:33.225261Z",
     "shell.execute_reply": "2025-02-25T09:51:33.224279Z",
     "shell.execute_reply.started": "2025-02-25T09:51:29.248510Z"
    },
    "trusted": true
   },
   "outputs": [
    {
     "name": "stderr",
     "output_type": "stream",
     "text": [
      "Device set to use cuda:0\n"
     ]
    },
    {
     "name": "stdout",
     "output_type": "stream",
     "text": [
      "Premise: The cat is on the mat.\n",
      "Hypothesis: There is a cat.\n",
      "Prediction: LABEL_0, Score: 0.9921\n",
      "--------------------------------------------------\n",
      "Premise: The car is red.\n",
      "Hypothesis: The vehicle has a color.\n",
      "Prediction: LABEL_0, Score: 0.9890\n",
      "--------------------------------------------------\n",
      "Premise: The water is boiling.\n",
      "Hypothesis: The water is cold.\n",
      "Prediction: LABEL_2, Score: 0.9939\n",
      "--------------------------------------------------\n"
     ]
    }
   ],
   "source": [
    "\n",
    "from transformers import pipeline\n",
    "\n",
    "# Load the model directly from the Hub\n",
    "nli_pipeline = pipeline(\"text-classification\", model=model_repo_id)\n",
    "\n",
    "# Test with sample inputs\n",
    "test_examples = [\n",
    "    {\"premise\": \"The cat is on the mat.\", \"hypothesis\": \"There is a cat.\"},\n",
    "    {\"premise\": \"The car is red.\", \"hypothesis\": \"The vehicle has a color.\"},\n",
    "    {\"premise\": \"The water is boiling.\", \"hypothesis\": \"The water is cold.\"}\n",
    "]\n",
    "\n",
    "for example in test_examples:\n",
    "    # Format the input as expected by the model\n",
    "    text = f\"{example['premise']} </s> {example['hypothesis']}\"\n",
    "    result = nli_pipeline(text)[0]\n",
    "    print(f\"Premise: {example['premise']}\")\n",
    "    print(f\"Hypothesis: {example['hypothesis']}\")\n",
    "    print(f\"Prediction: {result['label']}, Score: {result['score']:.4f}\")\n",
    "    print(\"-\" * 50)"
   ]
  }
 ],
 "metadata": {
  "kaggle": {
   "accelerator": "nvidiaTeslaT4",
   "dataSources": [
    {
     "datasetId": 6735148,
     "sourceId": 10844815,
     "sourceType": "datasetVersion"
    }
   ],
   "dockerImageVersionId": 30919,
   "isGpuEnabled": true,
   "isInternetEnabled": true,
   "language": "python",
   "sourceType": "notebook"
  },
  "kernelspec": {
   "display_name": "Python 3",
   "language": "python",
   "name": "python3"
  },
  "language_info": {
   "codemirror_mode": {
    "name": "ipython",
    "version": 3
   },
   "file_extension": ".py",
   "mimetype": "text/x-python",
   "name": "python",
   "nbconvert_exporter": "python",
   "pygments_lexer": "ipython3",
   "version": "3.10.12"
  }
 },
 "nbformat": 4,
 "nbformat_minor": 4
}
