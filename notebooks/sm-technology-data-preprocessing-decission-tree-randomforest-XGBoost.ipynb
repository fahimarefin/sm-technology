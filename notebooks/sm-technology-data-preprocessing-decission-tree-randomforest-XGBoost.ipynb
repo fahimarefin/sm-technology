{
 "cells": [
  {
   "cell_type": "markdown",
   "metadata": {},
   "source": [
    "All necesarry pacakeges to install\n",
    "--"
   ]
  },
  {
   "cell_type": "code",
   "execution_count": 84,
   "metadata": {
    "execution": {
     "iopub.execute_input": "2025-02-24T20:04:32.327099Z",
     "iopub.status.busy": "2025-02-24T20:04:32.326713Z",
     "iopub.status.idle": "2025-02-24T20:04:32.330618Z",
     "shell.execute_reply": "2025-02-24T20:04:32.329713Z",
     "shell.execute_reply.started": "2025-02-24T20:04:32.327064Z"
    },
    "trusted": true
   },
   "outputs": [],
   "source": [
    "# !pip install stop-words"
   ]
  },
  {
   "cell_type": "markdown",
   "metadata": {},
   "source": [
    "# Data visualiazation pre-processing and trained Baseline Model: Random Forest, Decision trees, XGB."
   ]
  },
  {
   "cell_type": "markdown",
   "metadata": {},
   "source": [
    "All the packeges\n",
    "--"
   ]
  },
  {
   "cell_type": "code",
   "execution_count": 1,
   "metadata": {
    "execution": {
     "iopub.execute_input": "2025-02-24T19:00:31.416113Z",
     "iopub.status.busy": "2025-02-24T19:00:31.415776Z",
     "iopub.status.idle": "2025-02-24T19:00:42.369496Z",
     "shell.execute_reply": "2025-02-24T19:00:42.368761Z",
     "shell.execute_reply.started": "2025-02-24T19:00:31.416090Z"
    },
    "trusted": true
   },
   "outputs": [],
   "source": [
    "import pandas as pd\n",
    "import numpy as np\n",
    "import matplotlib.pyplot as plt\n",
    "import seaborn as sns\n",
    "from sklearn.model_selection import train_test_split\n",
    "from sklearn.metrics import classification_report, confusion_matrix, accuracy_score\n",
    "from sklearn.feature_extraction.text import CountVectorizer, TfidfVectorizer\n",
    "import nltk\n",
    "from nltk.corpus import stopwords\n",
    "import re\n",
    "import string\n",
    "from collections import Counter\n",
    "import torch\n",
    "from transformers import AutoTokenizer, AutoModel\n",
    "from sklearn.linear_model import LogisticRegression\n",
    "from sklearn.ensemble import RandomForestClassifier\n",
    "import warnings\n",
    "warnings.filterwarnings('ignore')\n"
   ]
  },
  {
   "cell_type": "markdown",
   "metadata": {},
   "source": [
    "# Download required NLTK resources"
   ]
  },
  {
   "cell_type": "code",
   "execution_count": 22,
   "metadata": {
    "execution": {
     "iopub.execute_input": "2025-02-24T19:25:17.425346Z",
     "iopub.status.busy": "2025-02-24T19:25:17.424980Z",
     "iopub.status.idle": "2025-02-24T19:25:17.529280Z",
     "shell.execute_reply": "2025-02-24T19:25:17.528358Z",
     "shell.execute_reply.started": "2025-02-24T19:25:17.425322Z"
    },
    "trusted": true
   },
   "outputs": [
    {
     "name": "stdout",
     "output_type": "stream",
     "text": [
      "[nltk_data] Downloading package stopwords to /usr/share/nltk_data...\n",
      "[nltk_data]   Package stopwords is already up-to-date!\n",
      "[nltk_data] Downloading package punkt to /usr/share/nltk_data...\n",
      "[nltk_data]   Package punkt is already up-to-date!\n",
      "[nltk_data] Downloading package wordnet to /usr/share/nltk_data...\n",
      "[nltk_data]   Package wordnet is already up-to-date!\n"
     ]
    },
    {
     "data": {
      "text/plain": [
       "True"
      ]
     },
     "execution_count": 22,
     "metadata": {},
     "output_type": "execute_result"
    }
   ],
   "source": [
    "nltk.download('stopwords')\n",
    "nltk.download('punkt')\n",
    "nltk.download('wordnet')"
   ]
  },
  {
   "cell_type": "markdown",
   "metadata": {},
   "source": [
    "# Step 1: Load and explore the dataset\n",
    "# Load the training and test datasets"
   ]
  },
  {
   "cell_type": "code",
   "execution_count": 29,
   "metadata": {
    "execution": {
     "iopub.execute_input": "2025-02-24T19:32:28.757047Z",
     "iopub.status.busy": "2025-02-24T19:32:28.756639Z",
     "iopub.status.idle": "2025-02-24T19:32:28.852220Z",
     "shell.execute_reply": "2025-02-24T19:32:28.851324Z",
     "shell.execute_reply.started": "2025-02-24T19:32:28.757018Z"
    },
    "trusted": true
   },
   "outputs": [
    {
     "name": "stdout",
     "output_type": "stream",
     "text": [
      "Original training data shape: (12120, 6)\n",
      "New training data shape: (9696, 6)\n",
      "Validation data shape: (2424, 6)\n"
     ]
    }
   ],
   "source": [
    "# Load your training dataset\n",
    "train_df = pd.read_csv('/kaggle/input/sm-technology-dataset/train.csv')\n",
    "\n",
    "# Split train into train and validation sets (80% train, 20% validation)\n",
    "train_data, val_data = train_test_split(train_df, test_size=0.2, random_state=42, stratify=train_df['label'])\n",
    "\n",
    "print(f\"Original training data shape: {train_df.shape}\")\n",
    "print(f\"New training data shape: {train_data.shape}\")\n",
    "print(f\"Validation data shape: {val_data.shape}\")"
   ]
  },
  {
   "cell_type": "markdown",
   "metadata": {},
   "source": [
    "# Display the first few rows of the training data"
   ]
  },
  {
   "cell_type": "code",
   "execution_count": 30,
   "metadata": {
    "execution": {
     "iopub.execute_input": "2025-02-24T19:32:32.281627Z",
     "iopub.status.busy": "2025-02-24T19:32:32.281302Z",
     "iopub.status.idle": "2025-02-24T19:32:32.292547Z",
     "shell.execute_reply": "2025-02-24T19:32:32.291422Z",
     "shell.execute_reply.started": "2025-02-24T19:32:32.281603Z"
    },
    "trusted": true
   },
   "outputs": [
    {
     "data": {
      "text/html": [
       "<div>\n",
       "<style scoped>\n",
       "    .dataframe tbody tr th:only-of-type {\n",
       "        vertical-align: middle;\n",
       "    }\n",
       "\n",
       "    .dataframe tbody tr th {\n",
       "        vertical-align: top;\n",
       "    }\n",
       "\n",
       "    .dataframe thead th {\n",
       "        text-align: right;\n",
       "    }\n",
       "</style>\n",
       "<table border=\"1\" class=\"dataframe\">\n",
       "  <thead>\n",
       "    <tr style=\"text-align: right;\">\n",
       "      <th></th>\n",
       "      <th>id</th>\n",
       "      <th>premise</th>\n",
       "      <th>hypothesis</th>\n",
       "      <th>lang_abv</th>\n",
       "      <th>language</th>\n",
       "      <th>label</th>\n",
       "    </tr>\n",
       "  </thead>\n",
       "  <tbody>\n",
       "    <tr>\n",
       "      <th>0</th>\n",
       "      <td>5130fd2cb5</td>\n",
       "      <td>and these comments were considered in formulat...</td>\n",
       "      <td>The rules developed in the interim were put to...</td>\n",
       "      <td>en</td>\n",
       "      <td>English</td>\n",
       "      <td>0</td>\n",
       "    </tr>\n",
       "    <tr>\n",
       "      <th>1</th>\n",
       "      <td>5b72532a0b</td>\n",
       "      <td>These are issues that we wrestle with in pract...</td>\n",
       "      <td>Practice groups are not permitted to work on t...</td>\n",
       "      <td>en</td>\n",
       "      <td>English</td>\n",
       "      <td>2</td>\n",
       "    </tr>\n",
       "    <tr>\n",
       "      <th>2</th>\n",
       "      <td>3931fbe82a</td>\n",
       "      <td>Des petites choses comme celles-là font une di...</td>\n",
       "      <td>J'essayais d'accomplir quelque chose.</td>\n",
       "      <td>fr</td>\n",
       "      <td>French</td>\n",
       "      <td>0</td>\n",
       "    </tr>\n",
       "    <tr>\n",
       "      <th>3</th>\n",
       "      <td>5622f0c60b</td>\n",
       "      <td>you know they can't really defend themselves l...</td>\n",
       "      <td>They can't defend themselves because of their ...</td>\n",
       "      <td>en</td>\n",
       "      <td>English</td>\n",
       "      <td>0</td>\n",
       "    </tr>\n",
       "    <tr>\n",
       "      <th>4</th>\n",
       "      <td>86aaa48b45</td>\n",
       "      <td>ในการเล่นบทบาทสมมุติก็เช่นกัน โอกาสที่จะได้แสด...</td>\n",
       "      <td>เด็กสามารถเห็นได้ว่าชาติพันธุ์แตกต่างกันอย่างไร</td>\n",
       "      <td>th</td>\n",
       "      <td>Thai</td>\n",
       "      <td>1</td>\n",
       "    </tr>\n",
       "  </tbody>\n",
       "</table>\n",
       "</div>"
      ],
      "text/plain": [
       "           id                                            premise  \\\n",
       "0  5130fd2cb5  and these comments were considered in formulat...   \n",
       "1  5b72532a0b  These are issues that we wrestle with in pract...   \n",
       "2  3931fbe82a  Des petites choses comme celles-là font une di...   \n",
       "3  5622f0c60b  you know they can't really defend themselves l...   \n",
       "4  86aaa48b45  ในการเล่นบทบาทสมมุติก็เช่นกัน โอกาสที่จะได้แสด...   \n",
       "\n",
       "                                          hypothesis lang_abv language  label  \n",
       "0  The rules developed in the interim were put to...       en  English      0  \n",
       "1  Practice groups are not permitted to work on t...       en  English      2  \n",
       "2              J'essayais d'accomplir quelque chose.       fr   French      0  \n",
       "3  They can't defend themselves because of their ...       en  English      0  \n",
       "4    เด็กสามารถเห็นได้ว่าชาติพันธุ์แตกต่างกันอย่างไร       th     Thai      1  "
      ]
     },
     "execution_count": 30,
     "metadata": {},
     "output_type": "execute_result"
    }
   ],
   "source": [
    "train_df.head()"
   ]
  },
  {
   "cell_type": "markdown",
   "metadata": {},
   "source": [
    "# Check data information"
   ]
  },
  {
   "cell_type": "code",
   "execution_count": 31,
   "metadata": {
    "execution": {
     "iopub.execute_input": "2025-02-24T19:32:34.354682Z",
     "iopub.status.busy": "2025-02-24T19:32:34.354368Z",
     "iopub.status.idle": "2025-02-24T19:32:34.369426Z",
     "shell.execute_reply": "2025-02-24T19:32:34.368161Z",
     "shell.execute_reply.started": "2025-02-24T19:32:34.354654Z"
    },
    "trusted": true
   },
   "outputs": [
    {
     "name": "stdout",
     "output_type": "stream",
     "text": [
      "<class 'pandas.core.frame.DataFrame'>\n",
      "RangeIndex: 12120 entries, 0 to 12119\n",
      "Data columns (total 6 columns):\n",
      " #   Column      Non-Null Count  Dtype \n",
      "---  ------      --------------  ----- \n",
      " 0   id          12120 non-null  object\n",
      " 1   premise     12120 non-null  object\n",
      " 2   hypothesis  12120 non-null  object\n",
      " 3   lang_abv    12120 non-null  object\n",
      " 4   language    12120 non-null  object\n",
      " 5   label       12120 non-null  int64 \n",
      "dtypes: int64(1), object(5)\n",
      "memory usage: 568.2+ KB\n"
     ]
    }
   ],
   "source": [
    "train_df.info()"
   ]
  },
  {
   "cell_type": "markdown",
   "metadata": {},
   "source": [
    "# Summary statistics"
   ]
  },
  {
   "cell_type": "code",
   "execution_count": 32,
   "metadata": {
    "execution": {
     "iopub.execute_input": "2025-02-24T19:32:36.481588Z",
     "iopub.status.busy": "2025-02-24T19:32:36.481267Z",
     "iopub.status.idle": "2025-02-24T19:32:36.492970Z",
     "shell.execute_reply": "2025-02-24T19:32:36.492173Z",
     "shell.execute_reply.started": "2025-02-24T19:32:36.481566Z"
    },
    "trusted": true
   },
   "outputs": [
    {
     "data": {
      "text/html": [
       "<div>\n",
       "<style scoped>\n",
       "    .dataframe tbody tr th:only-of-type {\n",
       "        vertical-align: middle;\n",
       "    }\n",
       "\n",
       "    .dataframe tbody tr th {\n",
       "        vertical-align: top;\n",
       "    }\n",
       "\n",
       "    .dataframe thead th {\n",
       "        text-align: right;\n",
       "    }\n",
       "</style>\n",
       "<table border=\"1\" class=\"dataframe\">\n",
       "  <thead>\n",
       "    <tr style=\"text-align: right;\">\n",
       "      <th></th>\n",
       "      <th>label</th>\n",
       "    </tr>\n",
       "  </thead>\n",
       "  <tbody>\n",
       "    <tr>\n",
       "      <th>count</th>\n",
       "      <td>12120.000000</td>\n",
       "    </tr>\n",
       "    <tr>\n",
       "      <th>mean</th>\n",
       "      <td>0.990759</td>\n",
       "    </tr>\n",
       "    <tr>\n",
       "      <th>std</th>\n",
       "      <td>0.824523</td>\n",
       "    </tr>\n",
       "    <tr>\n",
       "      <th>min</th>\n",
       "      <td>0.000000</td>\n",
       "    </tr>\n",
       "    <tr>\n",
       "      <th>25%</th>\n",
       "      <td>0.000000</td>\n",
       "    </tr>\n",
       "    <tr>\n",
       "      <th>50%</th>\n",
       "      <td>1.000000</td>\n",
       "    </tr>\n",
       "    <tr>\n",
       "      <th>75%</th>\n",
       "      <td>2.000000</td>\n",
       "    </tr>\n",
       "    <tr>\n",
       "      <th>max</th>\n",
       "      <td>2.000000</td>\n",
       "    </tr>\n",
       "  </tbody>\n",
       "</table>\n",
       "</div>"
      ],
      "text/plain": [
       "              label\n",
       "count  12120.000000\n",
       "mean       0.990759\n",
       "std        0.824523\n",
       "min        0.000000\n",
       "25%        0.000000\n",
       "50%        1.000000\n",
       "75%        2.000000\n",
       "max        2.000000"
      ]
     },
     "execution_count": 32,
     "metadata": {},
     "output_type": "execute_result"
    }
   ],
   "source": [
    "train_df.describe()"
   ]
  },
  {
   "cell_type": "markdown",
   "metadata": {},
   "source": [
    "# Check for missing values"
   ]
  },
  {
   "cell_type": "code",
   "execution_count": 73,
   "metadata": {
    "execution": {
     "iopub.execute_input": "2025-02-24T19:55:04.289729Z",
     "iopub.status.busy": "2025-02-24T19:55:04.289319Z",
     "iopub.status.idle": "2025-02-24T19:55:04.308008Z",
     "shell.execute_reply": "2025-02-24T19:55:04.306899Z",
     "shell.execute_reply.started": "2025-02-24T19:55:04.289698Z"
    },
    "trusted": true
   },
   "outputs": [
    {
     "name": "stdout",
     "output_type": "stream",
     "text": [
      "Missing values in each column:\n",
      "id                       0\n",
      "premise                  0\n",
      "hypothesis               0\n",
      "lang_abv                 0\n",
      "language                 0\n",
      "label                    0\n",
      "label_name               0\n",
      "premise_length           0\n",
      "hypothesis_length        0\n",
      "length_diff              0\n",
      "premise_word_count       0\n",
      "hypothesis_word_count    0\n",
      "word_count_diff          0\n",
      "dtype: int64\n",
      "\n",
      "Percentage of missing values:\n",
      "id                       0.0\n",
      "premise                  0.0\n",
      "hypothesis               0.0\n",
      "lang_abv                 0.0\n",
      "language                 0.0\n",
      "label                    0.0\n",
      "label_name               0.0\n",
      "premise_length           0.0\n",
      "hypothesis_length        0.0\n",
      "length_diff              0.0\n",
      "premise_word_count       0.0\n",
      "hypothesis_word_count    0.0\n",
      "word_count_diff          0.0\n",
      "dtype: float64\n"
     ]
    }
   ],
   "source": [
    "# Check for missing values\n",
    "print(\"Missing values in each column:\")\n",
    "print(train_df.isnull().sum())\n",
    "\n",
    "# Calculate percentage of missing values\n",
    "print(\"\\nPercentage of missing values:\")\n",
    "print((train_df.isnull().sum() / len(train_df) * 100).round(2))"
   ]
  },
  {
   "cell_type": "markdown",
   "metadata": {},
   "source": [
    "# Check class distribution"
   ]
  },
  {
   "cell_type": "code",
   "execution_count": 34,
   "metadata": {
    "execution": {
     "iopub.execute_input": "2025-02-24T19:32:41.148792Z",
     "iopub.status.busy": "2025-02-24T19:32:41.148441Z",
     "iopub.status.idle": "2025-02-24T19:32:41.155017Z",
     "shell.execute_reply": "2025-02-24T19:32:41.153970Z",
     "shell.execute_reply.started": "2025-02-24T19:32:41.148761Z"
    },
    "trusted": true
   },
   "outputs": [
    {
     "name": "stdout",
     "output_type": "stream",
     "text": [
      "\n",
      "--- Class Distribution ---\n",
      "label\n",
      "0    4176\n",
      "2    4064\n",
      "1    3880\n",
      "Name: count, dtype: int64\n"
     ]
    }
   ],
   "source": [
    "print(\"\\n--- Class Distribution ---\")\n",
    "class_counts = train_df['label'].value_counts()\n",
    "print(class_counts)"
   ]
  },
  {
   "cell_type": "markdown",
   "metadata": {},
   "source": [
    "# Visualize class distribution"
   ]
  },
  {
   "cell_type": "code",
   "execution_count": 48,
   "metadata": {
    "execution": {
     "iopub.execute_input": "2025-02-24T19:45:07.089955Z",
     "iopub.status.busy": "2025-02-24T19:45:07.089576Z",
     "iopub.status.idle": "2025-02-24T19:45:07.301132Z",
     "shell.execute_reply": "2025-02-24T19:45:07.300311Z",
     "shell.execute_reply.started": "2025-02-24T19:45:07.089926Z"
    },
    "trusted": true
   },
   "outputs": [
    {
     "data": {
      "text/plain": [
       "Text(0, 0.5, 'Count')"
      ]
     },
     "execution_count": 48,
     "metadata": {},
     "output_type": "execute_result"
    },
    {
     "data": {
      "image/png": "[encoded data removed]",
      "text/plain": [
       "<Figure size 1000x600 with 1 Axes>"
      ]
     },
     "metadata": {},
     "output_type": "display_data"
    }
   ],
   "source": [
    "plt.figure(figsize=(10, 6))\n",
    "ax = sns.countplot(x='label', data=train_df, palette='viridis')\n",
    "plt.title('Distribution of Relationship Labels')\n",
    "plt.xlabel('Label (0: Contradiction, 1: Neutral, 2: Entailment)')\n",
    "plt.ylabel('Count')"
   ]
  },
  {
   "cell_type": "markdown",
   "metadata": {},
   "source": [
    "# Add count labels on top of bars"
   ]
  },
  {
   "cell_type": "code",
   "execution_count": 56,
   "metadata": {
    "execution": {
     "iopub.execute_input": "2025-02-24T19:49:34.091967Z",
     "iopub.status.busy": "2025-02-24T19:49:34.091590Z",
     "iopub.status.idle": "2025-02-24T19:49:34.375560Z",
     "shell.execute_reply": "2025-02-24T19:49:34.374576Z",
     "shell.execute_reply.started": "2025-02-24T19:49:34.091937Z"
    },
    "trusted": true
   },
   "outputs": [
    {
     "data": {
      "image/png": "[encoded data removed]",
      "text/plain": [
       "<Figure size 640x480 with 1 Axes>"
      ]
     },
     "metadata": {},
     "output_type": "display_data"
    }
   ],
   "source": [
    "# Create the bar chart\n",
    "ax = train_df['label'].value_counts().sort_index().plot(kind='bar')\n",
    "\n",
    "# Add the x-axis labels if needed\n",
    "plt.xlabel('Label (0: Contradiction, 1: Neutral, 2: Entailment)')\n",
    "\n",
    "# Add count labels on top of bars\n",
    "for p in ax.patches:\n",
    "    height = p.get_height()\n",
    "    ax.annotate(f'{int(height)}',\n",
    "                (p.get_x() + p.get_width() / 2., height),\n",
    "                ha='center', va='bottom',\n",
    "                xytext=(0, 5), textcoords='offset points')\n",
    "\n",
    "plt.tight_layout()\n",
    "plt.savefig('class_distribution.png')\n",
    "plt.show()"
   ]
  },
  {
   "cell_type": "markdown",
   "metadata": {},
   "source": [
    "# Text length analysis"
   ]
  },
  {
   "cell_type": "code",
   "execution_count": 54,
   "metadata": {
    "execution": {
     "iopub.execute_input": "2025-02-24T19:49:06.483592Z",
     "iopub.status.busy": "2025-02-24T19:49:06.483240Z",
     "iopub.status.idle": "2025-02-24T19:49:06.488894Z",
     "shell.execute_reply": "2025-02-24T19:49:06.487906Z",
     "shell.execute_reply.started": "2025-02-24T19:49:06.483560Z"
    },
    "trusted": true
   },
   "outputs": [
    {
     "data": {
      "text/plain": [
       "Index(['id', 'premise', 'hypothesis', 'lang_abv', 'language', 'label',\n",
       "       'label_name', 'premise_length', 'hypothesis_length', 'length_diff',\n",
       "       'premise_word_count', 'hypothesis_word_count', 'word_count_diff'],\n",
       "      dtype='object')"
      ]
     },
     "execution_count": 54,
     "metadata": {},
     "output_type": "execute_result"
    }
   ],
   "source": [
    "train_df.columns"
   ]
  },
  {
   "cell_type": "code",
   "execution_count": 58,
   "metadata": {
    "execution": {
     "iopub.execute_input": "2025-02-24T19:50:15.461886Z",
     "iopub.status.busy": "2025-02-24T19:50:15.461492Z",
     "iopub.status.idle": "2025-02-24T19:50:15.510920Z",
     "shell.execute_reply": "2025-02-24T19:50:15.509947Z",
     "shell.execute_reply.started": "2025-02-24T19:50:15.461857Z"
    },
    "trusted": true
   },
   "outputs": [],
   "source": [
    "train_df['premise_length'] = train_df['premise'].apply(len)\n",
    "train_df['hypothesis_length'] = train_df['hypothesis'].apply(len)\n",
    "train_df['premise_word_count'] = train_df['premise'].apply(lambda x: len(str(x).split()))\n",
    "train_df['hypothesis_word_count'] = train_df['hypothesis'].apply(lambda x: len(str(x).split()))"
   ]
  },
  {
   "cell_type": "code",
   "execution_count": 59,
   "metadata": {
    "execution": {
     "iopub.execute_input": "2025-02-24T19:50:17.161827Z",
     "iopub.status.busy": "2025-02-24T19:50:17.161433Z",
     "iopub.status.idle": "2025-02-24T19:50:17.179716Z",
     "shell.execute_reply": "2025-02-24T19:50:17.178916Z",
     "shell.execute_reply.started": "2025-02-24T19:50:17.161770Z"
    },
    "trusted": true
   },
   "outputs": [
    {
     "name": "stdout",
     "output_type": "stream",
     "text": [
      "\n",
      "Text Length Statistics:\n",
      "       premise_length  hypothesis_length  premise_word_count  \\\n",
      "count    12120.000000       12120.000000        12120.000000   \n",
      "mean       107.373185          53.892327           17.990182   \n",
      "std         71.089954          25.302358           12.898411   \n",
      "min          4.000000           4.000000            1.000000   \n",
      "25%         55.000000          36.000000            9.000000   \n",
      "50%         96.000000          51.000000           16.000000   \n",
      "75%        146.000000          67.000000           25.000000   \n",
      "max        967.000000         276.000000          196.000000   \n",
      "\n",
      "       hypothesis_word_count  \n",
      "count           12120.000000  \n",
      "mean                9.195297  \n",
      "std                 4.650281  \n",
      "min                 1.000000  \n",
      "25%                 6.000000  \n",
      "50%                 9.000000  \n",
      "75%                12.000000  \n",
      "max                46.000000  \n"
     ]
    }
   ],
   "source": [
    "# Summary statistics of text length\n",
    "print(\"\\nText Length Statistics:\")\n",
    "length_stats = train_df[['premise_length', 'hypothesis_length', \n",
    "                         'premise_word_count', 'hypothesis_word_count']].describe()\n",
    "print(length_stats)\n"
   ]
  },
  {
   "cell_type": "markdown",
   "metadata": {},
   "source": [
    "# Text length distribution by class"
   ]
  },
  {
   "cell_type": "code",
   "execution_count": 62,
   "metadata": {
    "execution": {
     "iopub.execute_input": "2025-02-24T19:50:52.284934Z",
     "iopub.status.busy": "2025-02-24T19:50:52.284512Z",
     "iopub.status.idle": "2025-02-24T19:50:53.471786Z",
     "shell.execute_reply": "2025-02-24T19:50:53.470900Z",
     "shell.execute_reply.started": "2025-02-24T19:50:52.284900Z"
    },
    "trusted": true
   },
   "outputs": [
    {
     "data": {
      "image/png": "[encoded data removed]",
      "text/plain": [
       "<Figure size 1500x1000 with 4 Axes>"
      ]
     },
     "metadata": {},
     "output_type": "display_data"
    }
   ],
   "source": [
    "plt.figure(figsize=(15, 10))\n",
    "\n",
    "plt.subplot(2, 2, 1)\n",
    "sns.boxplot(x='label', y='premise_length', data=train_df)\n",
    "plt.title('Premise Character Length by Class')\n",
    "plt.xlabel('Label')\n",
    "plt.ylabel('Character Count')\n",
    "\n",
    "plt.subplot(2, 2, 2)\n",
    "sns.boxplot(x='label', y='hypothesis_length', data=train_df)\n",
    "plt.title('Hypothesis Character Length by Class')\n",
    "plt.xlabel('Label')\n",
    "plt.ylabel('Character Count')\n",
    "\n",
    "plt.subplot(2, 2, 3)\n",
    "sns.boxplot(x='label', y='premise_word_count', data=train_df)\n",
    "plt.title('Premise Word Count by Class')\n",
    "plt.xlabel('Label')\n",
    "plt.ylabel('Word Count')\n",
    "\n",
    "plt.subplot(2, 2, 4)\n",
    "sns.boxplot(x='label', y='hypothesis_word_count', data=train_df)\n",
    "plt.title('Hypothesis Word Count by Class')\n",
    "plt.xlabel('Label')\n",
    "plt.ylabel('Word Count')\n",
    "\n",
    "plt.tight_layout()\n",
    "plt.savefig('text_length_by_class.png')\n",
    "plt.show()"
   ]
  },
  {
   "cell_type": "markdown",
   "metadata": {},
   "source": [
    "# Word frequency analysis"
   ]
  },
  {
   "cell_type": "code",
   "execution_count": 70,
   "metadata": {
    "execution": {
     "iopub.execute_input": "2025-02-24T19:53:28.173997Z",
     "iopub.status.busy": "2025-02-24T19:53:28.173664Z",
     "iopub.status.idle": "2025-02-24T19:53:28.178570Z",
     "shell.execute_reply": "2025-02-24T19:53:28.177715Z",
     "shell.execute_reply.started": "2025-02-24T19:53:28.173970Z"
    },
    "trusted": true
   },
   "outputs": [],
   "source": [
    "def get_top_words(text_data, top_n=20):\n",
    "    \"\"\"\n",
    "    Extract the top N most common words from text data.\n",
    "    \n",
    "    Parameters:\n",
    "    text_data: Either pd.Series or list containing text data\n",
    "    top_n (int): Number of top words to return\n",
    "    \n",
    "    Returns:\n",
    "    list: List of tuples (word, count) sorted by count in descending order\n",
    "    \"\"\"\n",
    "    from collections import Counter\n",
    "    import re\n",
    "    import pandas as pd\n",
    "    \n",
    "    # Convert to pandas Series if it's a list\n",
    "    if isinstance(text_data, list):\n",
    "        text_series = pd.Series(text_data)\n",
    "    else:\n",
    "        text_series = text_data\n",
    "    \n",
    "    # Combine all text, convert to lowercase, and split into words\n",
    "    all_words = ' '.join(text_series.fillna('').astype(str)).lower()\n",
    "    # Remove punctuation and split\n",
    "    words = re.findall(r'\\b\\w+\\b', all_words)\n",
    "    \n",
    "    # Count words and get top N\n",
    "    word_counts = Counter(words)\n",
    "    return word_counts.most_common(top_n)"
   ]
  },
  {
   "cell_type": "code",
   "execution_count": 71,
   "metadata": {
    "execution": {
     "iopub.execute_input": "2025-02-24T19:53:30.259212Z",
     "iopub.status.busy": "2025-02-24T19:53:30.258894Z",
     "iopub.status.idle": "2025-02-24T19:53:30.512321Z",
     "shell.execute_reply": "2025-02-24T19:53:30.511266Z",
     "shell.execute_reply.started": "2025-02-24T19:53:30.259189Z"
    },
    "trusted": true
   },
   "outputs": [
    {
     "name": "stdout",
     "output_type": "stream",
     "text": [
      "\n",
      "Top words analysis:\n",
      "\n",
      "Top 20 words in Contradiction premises:\n",
      "the: 2846\n",
      "and: 1439\n",
      "of: 1413\n",
      "to: 1208\n",
      "a: 1111\n",
      "in: 850\n",
      "i: 702\n",
      "that: 683\n",
      "it: 638\n",
      "s: 596\n",
      "you: 519\n",
      "क: 448\n",
      "is: 429\n",
      "for: 407\n",
      "de: 344\n",
      "was: 316\n",
      "with: 295\n",
      "on: 290\n",
      "they: 281\n",
      "as: 278\n",
      "\n",
      "Top 20 words in Contradiction hypotheses:\n",
      "the: 1576\n",
      "to: 699\n",
      "a: 636\n",
      "of: 560\n",
      "is: 465\n",
      "in: 396\n",
      "and: 388\n",
      "it: 327\n",
      "that: 322\n",
      "i: 312\n",
      "was: 305\n",
      "are: 241\n",
      "क: 238\n",
      "for: 224\n",
      "s: 212\n",
      "be: 192\n",
      "you: 186\n",
      "there: 164\n",
      "have: 157\n",
      "not: 154\n",
      "\n",
      "Top 20 words in Neutral premises:\n",
      "the: 2536\n",
      "and: 1307\n",
      "of: 1292\n",
      "to: 1061\n",
      "a: 1011\n",
      "in: 745\n",
      "i: 691\n",
      "that: 627\n",
      "it: 607\n",
      "s: 543\n",
      "you: 451\n",
      "क: 425\n",
      "for: 415\n",
      "is: 394\n",
      "de: 329\n",
      "they: 270\n",
      "on: 257\n",
      "with: 250\n",
      "was: 246\n",
      "as: 245\n",
      "\n",
      "Top 20 words in Neutral hypotheses:\n",
      "the: 1576\n",
      "to: 736\n",
      "of: 516\n",
      "a: 515\n",
      "in: 403\n",
      "is: 375\n",
      "was: 342\n",
      "and: 326\n",
      "i: 300\n",
      "it: 295\n",
      "क: 250\n",
      "for: 245\n",
      "are: 243\n",
      "that: 229\n",
      "be: 191\n",
      "they: 181\n",
      "s: 173\n",
      "he: 160\n",
      "have: 150\n",
      "de: 148\n",
      "\n",
      "Top 20 words in Entailment premises:\n",
      "the: 2665\n",
      "and: 1337\n",
      "of: 1320\n",
      "to: 1130\n",
      "a: 1079\n",
      "in: 788\n",
      "i: 721\n",
      "that: 654\n",
      "it: 630\n",
      "s: 559\n",
      "क: 536\n",
      "you: 504\n",
      "is: 444\n",
      "for: 375\n",
      "de: 340\n",
      "was: 301\n",
      "they: 295\n",
      "स: 286\n",
      "on: 283\n",
      "with: 273\n",
      "\n",
      "Top 20 words in Entailment hypotheses:\n",
      "the: 1380\n",
      "to: 602\n",
      "a: 468\n",
      "of: 442\n",
      "is: 398\n",
      "in: 353\n",
      "and: 325\n",
      "i: 314\n",
      "क: 306\n",
      "it: 296\n",
      "was: 287\n",
      "not: 282\n",
      "no: 262\n",
      "t: 221\n",
      "are: 191\n",
      "that: 190\n",
      "for: 181\n",
      "there: 175\n",
      "s: 167\n",
      "de: 158\n"
     ]
    }
   ],
   "source": [
    "print(\"\\nTop words analysis:\")\n",
    "for label_value, label_name in [(0, 'Contradiction'), (1, 'Neutral'), (2, 'Entailment')]:\n",
    "    class_df = train_df[train_df['label'] == label_value]\n",
    "    premise_top_words = get_top_words(class_df['premise'])\n",
    "    hypothesis_top_words = get_top_words(class_df['hypothesis'])\n",
    "    \n",
    "    print(f\"\\nTop 20 words in {label_name} premises:\")\n",
    "    for word, count in premise_top_words:\n",
    "        print(f\"{word}: {count}\")\n",
    "    \n",
    "    print(f\"\\nTop 20 words in {label_name} hypotheses:\")\n",
    "    for word, count in hypothesis_top_words:\n",
    "        print(f\"{word}: {count}\")"
   ]
  },
  {
   "cell_type": "markdown",
   "metadata": {},
   "source": [
    "# Visualize top words overall"
   ]
  },
  {
   "cell_type": "code",
   "execution_count": 72,
   "metadata": {
    "execution": {
     "iopub.execute_input": "2025-02-24T19:53:41.052924Z",
     "iopub.status.busy": "2025-02-24T19:53:41.052577Z",
     "iopub.status.idle": "2025-02-24T19:53:42.144702Z",
     "shell.execute_reply": "2025-02-24T19:53:42.143761Z",
     "shell.execute_reply.started": "2025-02-24T19:53:41.052898Z"
    },
    "trusted": true
   },
   "outputs": [
    {
     "data": {
      "image/png": "[encoded data removed]",
      "text/plain": [
       "<Figure size 2000x800 with 2 Axes>"
      ]
     },
     "metadata": {},
     "output_type": "display_data"
    }
   ],
   "source": [
    "# Visualize top words overall\n",
    "all_premises = train_df['premise'].tolist()\n",
    "all_hypotheses = train_df['hypothesis'].tolist()\n",
    "\n",
    "plt.figure(figsize=(20, 8))\n",
    "\n",
    "plt.subplot(1, 2, 1)\n",
    "premise_words = get_top_words(all_premises, top_n=15)\n",
    "sns.barplot(x=[word for word, count in premise_words], \n",
    "            y=[count for word, count in premise_words], \n",
    "            palette='Blues_d')\n",
    "plt.title('Top 15 Words in Premises')\n",
    "plt.xlabel('Word')\n",
    "plt.ylabel('Frequency')\n",
    "plt.xticks(rotation=45, ha='right')\n",
    "\n",
    "plt.subplot(1, 2, 2)\n",
    "hypothesis_words = get_top_words(all_hypotheses, top_n=15)\n",
    "sns.barplot(x=[word for word, count in hypothesis_words], \n",
    "            y=[count for word, count in hypothesis_words], \n",
    "            palette='Reds_d')\n",
    "plt.title('Top 15 Words in Hypotheses')\n",
    "plt.xlabel('Word')\n",
    "plt.ylabel('Frequency')\n",
    "plt.xticks(rotation=45, ha='right')\n",
    "\n",
    "plt.tight_layout()\n",
    "plt.savefig('top_words.png')\n",
    "plt.show()"
   ]
  },
  {
   "cell_type": "markdown",
   "metadata": {},
   "source": [
    "\n",
    "# Check for outliers."
   ]
  },
  {
   "cell_type": "code",
   "execution_count": 78,
   "metadata": {
    "execution": {
     "iopub.execute_input": "2025-02-24T19:58:26.816009Z",
     "iopub.status.busy": "2025-02-24T19:58:26.815621Z",
     "iopub.status.idle": "2025-02-24T19:58:26.850946Z",
     "shell.execute_reply": "2025-02-24T19:58:26.850029Z",
     "shell.execute_reply.started": "2025-02-24T19:58:26.815982Z"
    },
    "trusted": true
   },
   "outputs": [
    {
     "name": "stdout",
     "output_type": "stream",
     "text": [
      "Statistical summary:\n",
      "       premise_length  hypothesis_length  premise_word_count  \\\n",
      "count    12120.000000       12120.000000        12120.000000   \n",
      "mean       107.373185          53.892327           17.990182   \n",
      "std         71.089954          25.302358           12.898411   \n",
      "min          4.000000           4.000000            1.000000   \n",
      "25%         55.000000          36.000000            9.000000   \n",
      "50%         96.000000          51.000000           16.000000   \n",
      "75%        146.000000          67.000000           25.000000   \n",
      "max        967.000000         276.000000          196.000000   \n",
      "\n",
      "       hypothesis_word_count  \n",
      "count           12120.000000  \n",
      "mean                9.195297  \n",
      "std                 4.650281  \n",
      "min                 1.000000  \n",
      "25%                 6.000000  \n",
      "50%                 9.000000  \n",
      "75%                12.000000  \n",
      "max                46.000000  \n",
      "\n",
      "Outlier analysis using IQR method:\n",
      "\n",
      "Outliers in premise_length:\n",
      "  Count: 184 (1.52%)\n",
      "  Range: 283 to 967\n",
      "  Acceptable range: -81.50 to 282.50\n",
      "\n",
      "Outliers in hypothesis_length:\n",
      "  Count: 279 (2.30%)\n",
      "  Range: 114 to 276\n",
      "  Acceptable range: -10.50 to 113.50\n",
      "\n",
      "Outliers in premise_word_count:\n",
      "  Count: 193 (1.59%)\n",
      "  Range: 50 to 196\n",
      "  Acceptable range: -15.00 to 49.00\n",
      "\n",
      "Outliers in hypothesis_word_count:\n",
      "  Count: 189 (1.56%)\n",
      "  Range: 22 to 46\n",
      "  Acceptable range: -3.00 to 21.00\n"
     ]
    }
   ],
   "source": [
    "# Check for outliers in numeric columns\n",
    "numeric_cols = ['premise_length', 'hypothesis_length', 'premise_word_count', 'hypothesis_word_count']\n",
    "\n",
    "# Statistical summary to get an overview\n",
    "print(\"Statistical summary:\")\n",
    "print(train_df[numeric_cols].describe())\n",
    "\n",
    "# Calculate outliers using IQR method\n",
    "print(\"\\nOutlier analysis using IQR method:\")\n",
    "for col in numeric_cols:\n",
    "    q1 = train_df[col].quantile(0.25)\n",
    "    q3 = train_df[col].quantile(0.75)\n",
    "    iqr = q3 - q1\n",
    "    lower_bound = q1 - 1.5 * iqr\n",
    "    upper_bound = q3 + 1.5 * iqr\n",
    "    \n",
    "    outliers = train_df[(train_df[col] < lower_bound) | (train_df[col] > upper_bound)]\n",
    "    print(f\"\\nOutliers in {col}:\")\n",
    "    print(f\"  Count: {len(outliers)} ({len(outliers)/len(train_df)*100:.2f}%)\")\n",
    "    print(f\"  Range: {outliers[col].min()} to {outliers[col].max()}\")\n",
    "    print(f\"  Acceptable range: {lower_bound:.2f} to {upper_bound:.2f}\")"
   ]
  },
  {
   "cell_type": "markdown",
   "metadata": {},
   "source": [
    "# Detect language for a sample of text"
   ]
  },
  {
   "cell_type": "code",
   "execution_count": 85,
   "metadata": {
    "execution": {
     "iopub.execute_input": "2025-02-24T20:04:39.996431Z",
     "iopub.status.busy": "2025-02-24T20:04:39.996115Z",
     "iopub.status.idle": "2025-02-24T20:04:43.903355Z",
     "shell.execute_reply": "2025-02-24T20:04:43.902599Z",
     "shell.execute_reply.started": "2025-02-24T20:04:39.996407Z"
    },
    "trusted": true
   },
   "outputs": [],
   "source": [
    "import pandas as pd\n",
    "import numpy as np\n",
    "import re\n",
    "import string\n",
    "import nltk\n",
    "from nltk.tokenize import word_tokenize\n",
    "from sklearn.feature_extraction.text import TfidfVectorizer\n",
    "from gensim.models import Word2Vec\n",
    "import torch\n",
    "from transformers import AutoTokenizer, AutoModel\n",
    "from tqdm import tqdm\n",
    "import langid\n",
    "from stop_words import get_stop_words\n",
    "import spacy\n",
    "import os\n"
   ]
  },
  {
   "cell_type": "code",
   "execution_count": 89,
   "metadata": {
    "execution": {
     "iopub.execute_input": "2025-02-24T20:05:32.480365Z",
     "iopub.status.busy": "2025-02-24T20:05:32.480050Z",
     "iopub.status.idle": "2025-02-24T20:05:32.484907Z",
     "shell.execute_reply": "2025-02-24T20:05:32.483821Z",
     "shell.execute_reply.started": "2025-02-24T20:05:32.480341Z"
    },
    "trusted": true
   },
   "outputs": [],
   "source": [
    "def detect_language(text):\n",
    "    \"\"\"\n",
    "    Detect the language of a text using langid\n",
    "    \n",
    "    Args:\n",
    "        text (str): Input text\n",
    "    \n",
    "    Returns:\n",
    "        str: Detected language code\n",
    "    \"\"\"\n",
    "    if not isinstance(text, str) or len(text.strip()) == 0:\n",
    "        return 'en'  # Default to English for empty strings\n",
    "    \n",
    "    try:\n",
    "        lang, _ = langid.classify(text)\n",
    "        return lang\n",
    "    except:\n",
    "        return 'en'  # Default to English if detection fails"
   ]
  },
  {
   "cell_type": "markdown",
   "metadata": {},
   "source": [
    "# Analyze language distribution in the dataset"
   ]
  },
  {
   "cell_type": "code",
   "execution_count": 90,
   "metadata": {
    "execution": {
     "iopub.execute_input": "2025-02-24T20:05:40.742451Z",
     "iopub.status.busy": "2025-02-24T20:05:40.742098Z",
     "iopub.status.idle": "2025-02-24T20:05:40.747533Z",
     "shell.execute_reply": "2025-02-24T20:05:40.746491Z",
     "shell.execute_reply.started": "2025-02-24T20:05:40.742421Z"
    },
    "trusted": true
   },
   "outputs": [],
   "source": [
    "def analyze_language_distribution(df):\n",
    "    \"\"\"\n",
    "    Analyze the language distribution in the dataset\n",
    "    \n",
    "    Args:\n",
    "        df (DataFrame): Input dataframe with premise and hypothesis\n",
    "    \n",
    "    Returns:\n",
    "        dict: Language distribution\n",
    "    \"\"\"\n",
    "    print(\"Detecting languages in the dataset (sampling 1000 examples)...\")\n",
    "    # Sample to speed up analysis\n",
    "    sample_size = min(1000, len(df))\n",
    "    sample_df = df.sample(sample_size, random_state=42)\n",
    "    \n",
    "    premise_langs = [detect_language(text) for text in tqdm(sample_df['premise'])]\n",
    "    hypothesis_langs = [detect_language(text) for text in tqdm(sample_df['hypothesis'])]\n",
    "    \n",
    "    all_langs = premise_langs + hypothesis_langs\n",
    "    lang_distribution = pd.Series(all_langs).value_counts()\n",
    "    \n",
    "    return lang_distribution"
   ]
  },
  {
   "cell_type": "code",
   "execution_count": 91,
   "metadata": {
    "execution": {
     "iopub.execute_input": "2025-02-24T20:05:47.155329Z",
     "iopub.status.busy": "2025-02-24T20:05:47.155015Z",
     "iopub.status.idle": "2025-02-24T20:05:51.071326Z",
     "shell.execute_reply": "2025-02-24T20:05:51.069866Z",
     "shell.execute_reply.started": "2025-02-24T20:05:47.155306Z"
    },
    "trusted": true
   },
   "outputs": [
    {
     "name": "stdout",
     "output_type": "stream",
     "text": [
      "Detecting languages in the dataset (sampling 1000 examples)...\n"
     ]
    },
    {
     "name": "stderr",
     "output_type": "stream",
     "text": [
      "100%|██████████| 1000/1000 [00:03<00:00, 332.55it/s]\n",
      "100%|██████████| 1000/1000 [00:00<00:00, 1123.47it/s]"
     ]
    },
    {
     "name": "stdout",
     "output_type": "stream",
     "text": [
      "\n",
      "Language distribution in the dataset:\n",
      "en    1165\n",
      "fr      74\n",
      "ru      72\n",
      "ur      69\n",
      "vi      66\n",
      "zh      64\n",
      "sw      59\n",
      "th      58\n",
      "bg      57\n",
      "el      56\n",
      "de      52\n",
      "es      51\n",
      "hi      50\n",
      "ar      41\n",
      "tr      37\n",
      "fa       4\n",
      "tl       3\n",
      "ca       3\n",
      "id       2\n",
      "it       2\n",
      "hr       2\n",
      "af       1\n",
      "et       1\n",
      "lt       1\n",
      "lv       1\n",
      "sl       1\n",
      "mr       1\n",
      "ro       1\n",
      "mk       1\n",
      "pl       1\n",
      "az       1\n",
      "fi       1\n",
      "ne       1\n",
      "nl       1\n",
      "Name: count, dtype: int64\n"
     ]
    },
    {
     "name": "stderr",
     "output_type": "stream",
     "text": [
      "\n"
     ]
    }
   ],
   "source": [
    "# Analyze language distribution\n",
    "language_distribution = analyze_language_distribution(train_df)\n",
    "print(\"\\nLanguage distribution in the dataset:\")\n",
    "print(language_distribution)"
   ]
  },
  {
   "cell_type": "markdown",
   "metadata": {},
   "source": [
    "# Load spaCy models for major languages detected"
   ]
  },
  {
   "cell_type": "code",
   "execution_count": 92,
   "metadata": {
    "execution": {
     "iopub.execute_input": "2025-02-24T20:06:41.943116Z",
     "iopub.status.busy": "2025-02-24T20:06:41.942727Z",
     "iopub.status.idle": "2025-02-24T20:06:41.949766Z",
     "shell.execute_reply": "2025-02-24T20:06:41.948894Z",
     "shell.execute_reply.started": "2025-02-24T20:06:41.943089Z"
    },
    "trusted": true
   },
   "outputs": [],
   "source": [
    "\n",
    "def load_spacy_models(language_distribution):\n",
    "    \"\"\"\n",
    "    Load spaCy models for the most common languages in the dataset\n",
    "    \n",
    "    Args:\n",
    "        language_distribution (Series): Language distribution\n",
    "    \n",
    "    Returns:\n",
    "        dict: Dictionary of spaCy models\n",
    "    \"\"\"\n",
    "    models = {}\n",
    "    \n",
    "    # Define language model mapping\n",
    "    lang_model_map = {\n",
    "        'en': 'en_core_web_sm',\n",
    "        'es': 'es_core_news_sm',\n",
    "        'fr': 'fr_core_news_sm',\n",
    "        'de': 'de_core_news_sm',\n",
    "        'it': 'it_core_news_sm',\n",
    "        'pt': 'pt_core_news_sm',\n",
    "        'nl': 'nl_core_news_sm',\n",
    "        'xx': 'xx_ent_wiki_sm'  # For languages without specific models\n",
    "    }\n",
    "    \n",
    "    print(\"\\nLoading spaCy models for major languages...\")\n",
    "    \n",
    "    # Get the top 5 most common languages\n",
    "    top_langs = language_distribution.index[:5].tolist()\n",
    "    \n",
    "    # Always include English\n",
    "    if 'en' not in top_langs:\n",
    "        top_langs.append('en')\n",
    "    \n",
    "    # Load models for top languages\n",
    "    for lang in top_langs:\n",
    "        model_name = lang_model_map.get(lang)\n",
    "        \n",
    "        if model_name:\n",
    "            try:\n",
    "                # Check if model is installed\n",
    "                if not spacy.util.is_package(model_name):\n",
    "                    print(f\"spaCy model {model_name} not found. Installing...\")\n",
    "                    os.system(f\"python -m spacy download {model_name}\")\n",
    "                \n",
    "                models[lang] = spacy.load(model_name)\n",
    "                print(f\"Loaded spaCy model for {lang}\")\n",
    "            except:\n",
    "                print(f\"Failed to load model for {lang}, will use alternative processing\")\n",
    "    \n",
    "    # Add multilingual model for other languages\n",
    "    try:\n",
    "        model_name = lang_model_map['xx']\n",
    "        if not spacy.util.is_package(model_name):\n",
    "            print(f\"spaCy model {model_name} not found. Installing...\")\n",
    "            os.system(f\"python -m spacy download {model_name}\")\n",
    "        \n",
    "        models['xx'] = spacy.load(model_name)\n",
    "        print(\"Loaded multilingual spaCy model\")\n",
    "    except:\n",
    "        print(\"Failed to load multilingual model\")\n",
    "    \n",
    "    return models"
   ]
  },
  {
   "cell_type": "code",
   "execution_count": 93,
   "metadata": {
    "execution": {
     "iopub.execute_input": "2025-02-24T20:06:55.629375Z",
     "iopub.status.busy": "2025-02-24T20:06:55.628917Z",
     "iopub.status.idle": "2025-02-24T20:07:22.671275Z",
     "shell.execute_reply": "2025-02-24T20:07:22.670152Z",
     "shell.execute_reply.started": "2025-02-24T20:06:55.629332Z"
    },
    "trusted": true
   },
   "outputs": [
    {
     "name": "stdout",
     "output_type": "stream",
     "text": [
      "\n",
      "Loading spaCy models for major languages...\n",
      "Loaded spaCy model for en\n",
      "spaCy model fr_core_news_sm not found. Installing...\n",
      "Loaded spaCy model for fr\n",
      "spaCy model xx_ent_wiki_sm not found. Installing...\n",
      "Loaded multilingual spaCy model\n"
     ]
    }
   ],
   "source": [
    "# Load spaCy models\n",
    "spacy_models = load_spacy_models(language_distribution)"
   ]
  },
  {
   "cell_type": "markdown",
   "metadata": {},
   "source": [
    "# Get stopwords for multiple languages"
   ]
  },
  {
   "cell_type": "code",
   "execution_count": 94,
   "metadata": {
    "execution": {
     "iopub.execute_input": "2025-02-24T20:08:07.317975Z",
     "iopub.status.busy": "2025-02-24T20:08:07.317576Z",
     "iopub.status.idle": "2025-02-24T20:08:07.328240Z",
     "shell.execute_reply": "2025-02-24T20:08:07.327299Z",
     "shell.execute_reply.started": "2025-02-24T20:08:07.317940Z"
    },
    "trusted": true
   },
   "outputs": [
    {
     "name": "stdout",
     "output_type": "stream",
     "text": [
      "Loaded stopwords for en\n",
      "Loaded stopwords for es\n",
      "Loaded stopwords for fr\n",
      "Loaded stopwords for de\n",
      "Loaded stopwords for it\n",
      "Loaded stopwords for pt\n",
      "Loaded stopwords for ru\n",
      "Loaded stopwords for nl\n",
      "Loaded stopwords for fi\n",
      "Loaded stopwords for sv\n",
      "Loaded stopwords for da\n",
      "Loaded stopwords for pl\n",
      "Loaded stopwords for hu\n",
      "Loaded stopwords for ro\n",
      "Could not load stopwords for cs\n"
     ]
    }
   ],
   "source": [
    "def get_multilingual_stopwords():\n",
    "    \"\"\"\n",
    "    Get stopwords for multiple languages\n",
    "    \n",
    "    Returns:\n",
    "        dict: Dictionary of stopwords by language\n",
    "    \"\"\"\n",
    "    stopwords_dict = {}\n",
    "    \n",
    "    # Languages supported by stop-words package\n",
    "    languages = ['en', 'es', 'fr', 'de', 'it', 'pt', 'ru', 'nl', 'fi', 'sv', 'da', 'pl', 'hu', 'ro', 'cs']\n",
    "    \n",
    "    for lang in languages:\n",
    "        try:\n",
    "            stopwords_dict[lang] = get_stop_words(lang)\n",
    "            print(f\"Loaded stopwords for {lang}\")\n",
    "        except:\n",
    "            print(f\"Could not load stopwords for {lang}\")\n",
    "    \n",
    "    return stopwords_dict\n",
    "\n",
    "# Get stopwords for multiple languages\n",
    "multilingual_stopwords = get_multilingual_stopwords()"
   ]
  },
  {
   "cell_type": "markdown",
   "metadata": {},
   "source": [
    "Cleaning the text dataset\n",
    "--"
   ]
  },
  {
   "cell_type": "code",
   "execution_count": 95,
   "metadata": {
    "execution": {
     "iopub.execute_input": "2025-02-24T20:08:48.878165Z",
     "iopub.status.busy": "2025-02-24T20:08:48.877827Z",
     "iopub.status.idle": "2025-02-24T20:08:48.884946Z",
     "shell.execute_reply": "2025-02-24T20:08:48.883936Z",
     "shell.execute_reply.started": "2025-02-24T20:08:48.878141Z"
    },
    "trusted": true
   },
   "outputs": [],
   "source": [
    "def clean_text(text, lang=None, remove_stopwords=True, lemmatize=True):\n",
    "    \"\"\"\n",
    "    Function to clean and preprocess text in multiple languages\n",
    "    \n",
    "    Args:\n",
    "        text (str): Input text\n",
    "        lang (str): Language code\n",
    "        remove_stopwords (bool): Whether to remove stopwords\n",
    "        lemmatize (bool): Whether to apply lemmatization\n",
    "    \n",
    "    Returns:\n",
    "        list: List of processed tokens\n",
    "        str: Processed text string\n",
    "    \"\"\"\n",
    "    if not isinstance(text, str):\n",
    "        text = str(text)\n",
    "    \n",
    "    # Detect language if not provided\n",
    "    if lang is None:\n",
    "        lang = detect_language(text)\n",
    "    \n",
    "    # Convert to lowercase\n",
    "    text = text.lower()\n",
    "    \n",
    "    # Remove URLs\n",
    "    text = re.sub(r'http\\S+|www\\S+|https\\S+', '', text)\n",
    "    \n",
    "    # Remove special characters and punctuation\n",
    "    text = re.sub(f'[{string.punctuation}]', ' ', text)\n",
    "    \n",
    "    # Remove extra spaces\n",
    "    text = re.sub(r'\\s+', ' ', text).strip()\n",
    "    \n",
    "    # Use spaCy for tokenization and lemmatization if available for the language\n",
    "    if lang in spacy_models:\n",
    "        doc = spacy_models[lang](text)\n",
    "        \n",
    "        # Get tokens and lemmas\n",
    "        if lemmatize:\n",
    "            tokens = [token.lemma_ for token in doc]\n",
    "        else:\n",
    "            tokens = [token.text for token in doc]\n",
    "        \n",
    "        # Remove stopwords if requested\n",
    "        if remove_stopwords:\n",
    "            if lang in multilingual_stopwords:\n",
    "                stop_words = set(multilingual_stopwords[lang])\n",
    "                tokens = [token for token in tokens if token not in stop_words]\n",
    "    \n",
    "    # Fallback to basic tokenization for languages without spaCy models\n",
    "    else:\n",
    "        # Use NLTK for tokenization\n",
    "        tokens = word_tokenize(text)\n",
    "        \n",
    "        # Remove stopwords if requested\n",
    "        if remove_stopwords and lang in multilingual_stopwords:\n",
    "            stop_words = set(multilingual_stopwords[lang])\n",
    "            tokens = [token for token in tokens if token not in stop_words]\n",
    "    \n",
    "    # Join tokens back into a string\n",
    "    processed_text = ' '.join(tokens)\n",
    "    \n",
    "    return tokens, processed_text"
   ]
  },
  {
   "cell_type": "markdown",
   "metadata": {},
   "source": [
    "# Function to process all sentences in the dataset"
   ]
  },
  {
   "cell_type": "code",
   "execution_count": 96,
   "metadata": {
    "execution": {
     "iopub.execute_input": "2025-02-24T20:10:13.331568Z",
     "iopub.status.busy": "2025-02-24T20:10:13.331243Z",
     "iopub.status.idle": "2025-02-24T20:10:13.338123Z",
     "shell.execute_reply": "2025-02-24T20:10:13.337226Z",
     "shell.execute_reply.started": "2025-02-24T20:10:13.331543Z"
    },
    "trusted": true
   },
   "outputs": [],
   "source": [
    "def process_dataset(df):\n",
    "    \"\"\"\n",
    "    Process both sentences in the dataset with language detection\n",
    "    \n",
    "    Args:\n",
    "        df (DataFrame): Input dataframe with premise and hypothesis\n",
    "        \n",
    "    Returns:\n",
    "        DataFrame: Processed dataframe with additional columns\n",
    "    \"\"\"\n",
    "    processed_df = df.copy()\n",
    "    \n",
    "    # Detect language for all sentences\n",
    "    print(\"Detecting language for all sentences...\")\n",
    "    premise_langs = [detect_language(text) for text in tqdm(df['premise'])]\n",
    "    hypothesis_langs = [detect_language(text) for text in tqdm(df['hypothesis'])]\n",
    "    processed_df['premise_lang'] = premise_langs\n",
    "    processed_df['hypothesis_lang'] = hypothesis_langs\n",
    "    \n",
    "    # Process premise\n",
    "    premise_tokens = []\n",
    "    processed_premises = []\n",
    "    print(\"Processing premises...\")\n",
    "    for text, lang in tqdm(zip(df['premise'], premise_langs), total=len(df)):\n",
    "        tokens, processed_text = clean_text(text, lang=lang)\n",
    "        premise_tokens.append(tokens)\n",
    "        processed_premises.append(processed_text)\n",
    "    \n",
    "    # Process hypothesis\n",
    "    hypothesis_tokens = []\n",
    "    processed_hypotheses = []\n",
    "    print(\"Processing hypotheses...\")\n",
    "    for text, lang in tqdm(zip(df['hypothesis'], hypothesis_langs), total=len(df)):\n",
    "        tokens, processed_text = clean_text(text, lang=lang)\n",
    "        hypothesis_tokens.append(tokens)\n",
    "        processed_hypotheses.append(processed_text)\n",
    "    \n",
    "    # Add processed data to dataframe\n",
    "    processed_df['premise_tokens'] = premise_tokens\n",
    "    processed_df['processed_premise'] = processed_premises\n",
    "    processed_df['hypothesis_tokens'] = hypothesis_tokens\n",
    "    processed_df['processed_hypothesis'] = processed_hypotheses\n",
    "    \n",
    "    return processed_df"
   ]
  },
  {
   "cell_type": "markdown",
   "metadata": {},
   "source": [
    "# Apply preprocessing to both datasets"
   ]
  },
  {
   "cell_type": "code",
   "execution_count": 97,
   "metadata": {
    "execution": {
     "iopub.execute_input": "2025-02-24T20:10:48.492267Z",
     "iopub.status.busy": "2025-02-24T20:10:48.491911Z",
     "iopub.status.idle": "2025-02-24T20:12:58.917636Z",
     "shell.execute_reply": "2025-02-24T20:12:58.916516Z",
     "shell.execute_reply.started": "2025-02-24T20:10:48.492237Z"
    },
    "trusted": true
   },
   "outputs": [
    {
     "name": "stdout",
     "output_type": "stream",
     "text": [
      "Preprocessing training data...\n",
      "Detecting language for all sentences...\n"
     ]
    },
    {
     "name": "stderr",
     "output_type": "stream",
     "text": [
      "100%|██████████| 9696/9696 [00:09<00:00, 988.65it/s] \n",
      "100%|██████████| 9696/9696 [00:08<00:00, 1118.77it/s]\n"
     ]
    },
    {
     "name": "stdout",
     "output_type": "stream",
     "text": [
      "Processing premises...\n"
     ]
    },
    {
     "name": "stderr",
     "output_type": "stream",
     "text": [
      "100%|██████████| 9696/9696 [00:48<00:00, 201.62it/s]\n"
     ]
    },
    {
     "name": "stdout",
     "output_type": "stream",
     "text": [
      "Processing hypotheses...\n"
     ]
    },
    {
     "name": "stderr",
     "output_type": "stream",
     "text": [
      "100%|██████████| 9696/9696 [00:37<00:00, 255.34it/s]\n"
     ]
    },
    {
     "name": "stdout",
     "output_type": "stream",
     "text": [
      "Preprocessing validation data...\n",
      "Detecting language for all sentences...\n"
     ]
    },
    {
     "name": "stderr",
     "output_type": "stream",
     "text": [
      "100%|██████████| 2424/2424 [00:02<00:00, 954.90it/s]\n",
      "100%|██████████| 2424/2424 [00:02<00:00, 1080.23it/s]\n"
     ]
    },
    {
     "name": "stdout",
     "output_type": "stream",
     "text": [
      "Processing premises...\n"
     ]
    },
    {
     "name": "stderr",
     "output_type": "stream",
     "text": [
      "100%|██████████| 2424/2424 [00:11<00:00, 205.61it/s]\n"
     ]
    },
    {
     "name": "stdout",
     "output_type": "stream",
     "text": [
      "Processing hypotheses...\n"
     ]
    },
    {
     "name": "stderr",
     "output_type": "stream",
     "text": [
      "100%|██████████| 2424/2424 [00:09<00:00, 261.67it/s]\n"
     ]
    }
   ],
   "source": [
    "print(\"Preprocessing training data...\")\n",
    "processed_train = process_dataset(train_data)\n",
    "print(\"Preprocessing validation data...\")\n",
    "processed_val = process_dataset(val_data)"
   ]
  },
  {
   "cell_type": "markdown",
   "metadata": {},
   "source": [
    "# Display a few examples of processed text"
   ]
  },
  {
   "cell_type": "code",
   "execution_count": 101,
   "metadata": {
    "execution": {
     "iopub.execute_input": "2025-02-24T20:14:21.112646Z",
     "iopub.status.busy": "2025-02-24T20:14:21.112326Z",
     "iopub.status.idle": "2025-02-24T20:14:21.126515Z",
     "shell.execute_reply": "2025-02-24T20:14:21.125705Z",
     "shell.execute_reply.started": "2025-02-24T20:14:21.112621Z"
    },
    "trusted": true
   },
   "outputs": [
    {
     "name": "stdout",
     "output_type": "stream",
     "text": [
      "Total rows in processed_train: 9696\n",
      "Available indices:\n",
      "[10734, 11976, 3294, 10870, 7100, 5752, 7715, 7936, 9595, 5030]\n",
      "\n",
      "Example of processed text:\n",
      "\n",
      "Original premise:  8th circa b.c.Greeks colonize Sicily and other southern regions\n",
      "Language: en\n",
      "Processed premise: 8th circa b c greek colonize sicily southern region\n",
      "Original hypothesis: Sicily and other southern regions were colonized in the 8th century b.c.\n",
      "Language: en\n",
      "Processed hypothesis: sicily southern region colonize 8th century b c\n",
      "\n",
      "Original premise: لدي شيء لأريك إياه، متسائلاً، ركب اللورد جوليان المرافق، كما قيل له.\n",
      "Language: ar\n",
      "Processed premise: لدي شيء لأريك إياه، متسائلاً، ركب اللورد جوليان المرافق، كما قيل له\n",
      "Original hypothesis: نزل جوليان من جبله لأنه أخبره أنه ليس لديه ما يظهره.\n",
      "Language: ar\n",
      "Processed hypothesis: نزل جوليان من جبله لأنه أخبره أنه ليس لديه ما يظهره\n",
      "\n",
      "Original premise: Porches and stoops, those symbols of a vibrant social life, stopped being used as gathering places for a rather practical reason--air conditioning.\n",
      "Language: en\n",
      "Processed premise: porch stoop symbol vibrant social life stop use gather place rather practical reason air conditioning\n",
      "Original hypothesis: Air conditioning is the primary reason for the demise of outdoor gathering.\n",
      "Language: en\n",
      "Processed hypothesis: air conditioning primary reason demise outdoor gathering\n"
     ]
    }
   ],
   "source": [
    "print(f\"Total rows in processed_train: {len(processed_train)}\")\n",
    "\n",
    "# Print the actual indices of the DataFrame\n",
    "print(\"Available indices:\")\n",
    "print(processed_train.index.tolist()[:10])  # Show first 10 indices\n",
    "\n",
    "# Use this safer approach to print examples:\n",
    "print(\"\\nExample of processed text:\")\n",
    "for i, (idx, row) in enumerate(processed_train.iterrows()):\n",
    "    if i >= 3:  # Only show first 3 examples\n",
    "        break\n",
    "    print(f\"\\nOriginal premise: {row['premise']}\")\n",
    "    print(f\"Language: {row['premise_lang']}\")\n",
    "    print(f\"Processed premise: {row['processed_premise']}\")\n",
    "    print(f\"Original hypothesis: {row['hypothesis']}\")\n",
    "    print(f\"Language: {row['hypothesis_lang']}\")\n",
    "    print(f\"Processed hypothesis: {row['processed_hypothesis']}\")"
   ]
  },
  {
   "cell_type": "markdown",
   "metadata": {},
   "source": [
    "# Feature Extraction - TF-IDF (language-agnostic)"
   ]
  },
  {
   "cell_type": "code",
   "execution_count": 102,
   "metadata": {
    "execution": {
     "iopub.execute_input": "2025-02-24T20:14:54.628697Z",
     "iopub.status.busy": "2025-02-24T20:14:54.628391Z",
     "iopub.status.idle": "2025-02-24T20:14:54.977516Z",
     "shell.execute_reply": "2025-02-24T20:14:54.976523Z",
     "shell.execute_reply.started": "2025-02-24T20:14:54.628675Z"
    },
    "trusted": true
   },
   "outputs": [
    {
     "name": "stdout",
     "output_type": "stream",
     "text": [
      "\n",
      "Extracting TF-IDF features...\n",
      "TF-IDF features shape (train): (9696, 10000)\n",
      "TF-IDF features shape (val): (2424, 10000)\n"
     ]
    }
   ],
   "source": [
    "\n",
    "print(\"\\nExtracting TF-IDF features...\")\n",
    "tfidf_vectorizer = TfidfVectorizer(max_features=10000)\n",
    "\n",
    "# Fit on train data (combining premise and hypothesis)\n",
    "combined_train_text = processed_train['processed_premise'] + ' ' + processed_train['processed_hypothesis']\n",
    "tfidf_features_train = tfidf_vectorizer.fit_transform(combined_train_text)\n",
    "\n",
    "# Transform validation data\n",
    "combined_val_text = processed_val['processed_premise'] + ' ' + processed_val['processed_hypothesis']\n",
    "tfidf_features_val = tfidf_vectorizer.transform(combined_val_text)\n",
    "\n",
    "print(f\"TF-IDF features shape (train): {tfidf_features_train.shape}\")\n",
    "print(f\"TF-IDF features shape (val): {tfidf_features_val.shape}\")\n"
   ]
  },
  {
   "cell_type": "markdown",
   "metadata": {},
   "source": [
    "# Feature Extraction - Word2Vec (multilingual)"
   ]
  },
  {
   "cell_type": "code",
   "execution_count": 103,
   "metadata": {
    "execution": {
     "iopub.execute_input": "2025-02-24T20:15:29.780722Z",
     "iopub.status.busy": "2025-02-24T20:15:29.780388Z",
     "iopub.status.idle": "2025-02-24T20:15:34.412074Z",
     "shell.execute_reply": "2025-02-24T20:15:34.411329Z",
     "shell.execute_reply.started": "2025-02-24T20:15:29.780695Z"
    },
    "trusted": true
   },
   "outputs": [
    {
     "name": "stdout",
     "output_type": "stream",
     "text": [
      "\n",
      "Training Word2Vec model...\n"
     ]
    }
   ],
   "source": [
    "print(\"\\nTraining Word2Vec model...\")\n",
    "# Combine all tokenized sentences for training Word2Vec\n",
    "all_sentences = (processed_train['premise_tokens'].tolist() + \n",
    "                processed_train['hypothesis_tokens'].tolist() +\n",
    "                processed_val['premise_tokens'].tolist() + \n",
    "                processed_val['hypothesis_tokens'].tolist())\n",
    "\n",
    "# Train Word2Vec model\n",
    "w2v_model = Word2Vec(sentences=all_sentences, \n",
    "                    vector_size=300,  # Increased dimension for multilingual data\n",
    "                    window=5,         # Context window size\n",
    "                    min_count=2,      # Minimum word frequency\n",
    "                    workers=4,        # Number of parallel workers\n",
    "                    sg=1)             # Use skip-gram model\n"
   ]
  },
  {
   "cell_type": "code",
   "execution_count": 105,
   "metadata": {
    "execution": {
     "iopub.execute_input": "2025-02-24T20:16:20.263051Z",
     "iopub.status.busy": "2025-02-24T20:16:20.262667Z",
     "iopub.status.idle": "2025-02-24T20:16:20.267334Z",
     "shell.execute_reply": "2025-02-24T20:16:20.266563Z",
     "shell.execute_reply.started": "2025-02-24T20:16:20.263019Z"
    },
    "trusted": true
   },
   "outputs": [],
   "source": [
    "# Function to create sentence embedding from Word2Vec\n",
    "def get_w2v_embedding(tokens, model, embedding_size=300):\n",
    "    embedding = np.zeros(embedding_size)\n",
    "    valid_tokens = 0\n",
    "    \n",
    "    for token in tokens:\n",
    "        if token in model.wv:\n",
    "            embedding += model.wv[token]\n",
    "            valid_tokens += 1\n",
    "    \n",
    "    if valid_tokens > 0:\n",
    "        embedding /= valid_tokens\n",
    "    \n",
    "    return embedding"
   ]
  },
  {
   "cell_type": "markdown",
   "metadata": {},
   "source": [
    "# Extract Word2Vec features"
   ]
  },
  {
   "cell_type": "code",
   "execution_count": 106,
   "metadata": {
    "execution": {
     "iopub.execute_input": "2025-02-24T20:16:44.206479Z",
     "iopub.status.busy": "2025-02-24T20:16:44.206154Z",
     "iopub.status.idle": "2025-02-24T20:16:45.103524Z",
     "shell.execute_reply": "2025-02-24T20:16:45.102711Z",
     "shell.execute_reply.started": "2025-02-24T20:16:44.206454Z"
    },
    "trusted": true
   },
   "outputs": [
    {
     "name": "stdout",
     "output_type": "stream",
     "text": [
      "\n",
      "Extracting Word2Vec features...\n"
     ]
    },
    {
     "name": "stderr",
     "output_type": "stream",
     "text": [
      "100%|██████████| 9696/9696 [00:00<00:00, 22691.15it/s]\n",
      "100%|██████████| 9696/9696 [00:00<00:00, 39851.77it/s]\n",
      "100%|██████████| 2424/2424 [00:00<00:00, 22233.38it/s]\n",
      "100%|██████████| 2424/2424 [00:00<00:00, 41339.32it/s]\n"
     ]
    }
   ],
   "source": [
    "\n",
    "print(\"\\nExtracting Word2Vec features...\")\n",
    "# For training data\n",
    "train_premise_w2v = np.array([get_w2v_embedding(tokens, w2v_model) \n",
    "                             for tokens in tqdm(processed_train['premise_tokens'])])\n",
    "train_hypothesis_w2v = np.array([get_w2v_embedding(tokens, w2v_model) \n",
    "                                for tokens in tqdm(processed_train['hypothesis_tokens'])])\n",
    "\n",
    "# For validation data\n",
    "val_premise_w2v = np.array([get_w2v_embedding(tokens, w2v_model) \n",
    "                           for tokens in tqdm(processed_val['premise_tokens'])])\n",
    "val_hypothesis_w2v = np.array([get_w2v_embedding(tokens, w2v_model) \n",
    "                              for tokens in tqdm(processed_val['hypothesis_tokens'])])"
   ]
  },
  {
   "cell_type": "code",
   "execution_count": 107,
   "metadata": {
    "execution": {
     "iopub.execute_input": "2025-02-24T20:17:26.751265Z",
     "iopub.status.busy": "2025-02-24T20:17:26.750758Z",
     "iopub.status.idle": "2025-02-24T20:17:26.756148Z",
     "shell.execute_reply": "2025-02-24T20:17:26.755266Z",
     "shell.execute_reply.started": "2025-02-24T20:17:26.751232Z"
    },
    "trusted": true
   },
   "outputs": [
    {
     "name": "stdout",
     "output_type": "stream",
     "text": [
      "Word2Vec embedding shape for premise (train): (9696, 300)\n",
      "Word2Vec embedding shape for hypothesis (train): (9696, 300)\n"
     ]
    }
   ],
   "source": [
    "print(f\"Word2Vec embedding shape for premise (train): {train_premise_w2v.shape}\")\n",
    "print(f\"Word2Vec embedding shape for hypothesis (train): {train_hypothesis_w2v.shape}\")"
   ]
  },
  {
   "cell_type": "markdown",
   "metadata": {},
   "source": [
    "# Feature Extraction - Multilingual Transformer (XLM-RoBERTa)"
   ]
  },
  {
   "cell_type": "code",
   "execution_count": 108,
   "metadata": {
    "execution": {
     "iopub.execute_input": "2025-02-24T20:17:56.454834Z",
     "iopub.status.busy": "2025-02-24T20:17:56.454478Z",
     "iopub.status.idle": "2025-02-24T20:18:20.629430Z",
     "shell.execute_reply": "2025-02-24T20:18:20.628617Z",
     "shell.execute_reply.started": "2025-02-24T20:17:56.454786Z"
    },
    "trusted": true
   },
   "outputs": [
    {
     "name": "stdout",
     "output_type": "stream",
     "text": [
      "\n",
      "Extracting XLM-RoBERTa embeddings...\n",
      "Using device: cuda\n"
     ]
    },
    {
     "data": {
      "application/vnd.jupyter.widget-view+json": {
       "model_id": "30c532c6f3f84fa98f4dc2f424b67d2b",
       "version_major": 2,
       "version_minor": 0
      },
      "text/plain": [
       "tokenizer_config.json:   0%|          | 0.00/25.0 [00:00<?, ?B/s]"
      ]
     },
     "metadata": {},
     "output_type": "display_data"
    },
    {
     "data": {
      "application/vnd.jupyter.widget-view+json": {
       "model_id": "025da53d5acf45df8d492f0175485c4b",
       "version_major": 2,
       "version_minor": 0
      },
      "text/plain": [
       "config.json:   0%|          | 0.00/615 [00:00<?, ?B/s]"
      ]
     },
     "metadata": {},
     "output_type": "display_data"
    },
    {
     "data": {
      "application/vnd.jupyter.widget-view+json": {
       "model_id": "fd123ca7a07a4c28a755ebb71cbd1d37",
       "version_major": 2,
       "version_minor": 0
      },
      "text/plain": [
       "sentencepiece.bpe.model:   0%|          | 0.00/5.07M [00:00<?, ?B/s]"
      ]
     },
     "metadata": {},
     "output_type": "display_data"
    },
    {
     "data": {
      "application/vnd.jupyter.widget-view+json": {
       "model_id": "a170bec16da140f1a9060dc8c432685f",
       "version_major": 2,
       "version_minor": 0
      },
      "text/plain": [
       "tokenizer.json:   0%|          | 0.00/9.10M [00:00<?, ?B/s]"
      ]
     },
     "metadata": {},
     "output_type": "display_data"
    },
    {
     "data": {
      "application/vnd.jupyter.widget-view+json": {
       "model_id": "a64bbb8286f843da986aadd51ea9bd63",
       "version_major": 2,
       "version_minor": 0
      },
      "text/plain": [
       "model.safetensors:   0%|          | 0.00/1.12G [00:00<?, ?B/s]"
      ]
     },
     "metadata": {},
     "output_type": "display_data"
    }
   ],
   "source": [
    "print(\"\\nExtracting XLM-RoBERTa embeddings...\")\n",
    "# Set device\n",
    "device = torch.device(\"cuda\" if torch.cuda.is_available() else \"cpu\")\n",
    "print(f\"Using device: {device}\")\n",
    "\n",
    "# Load XLM-RoBERTa model and tokenizer (multilingual model)\n",
    "tokenizer = AutoTokenizer.from_pretrained(\"xlm-roberta-base\")\n",
    "model = AutoModel.from_pretrained(\"xlm-roberta-base\").to(device)\n"
   ]
  },
  {
   "cell_type": "markdown",
   "metadata": {},
   "source": [
    "# Function to get transformer embeddings"
   ]
  },
  {
   "cell_type": "code",
   "execution_count": 109,
   "metadata": {
    "execution": {
     "iopub.execute_input": "2025-02-24T20:18:47.918995Z",
     "iopub.status.busy": "2025-02-24T20:18:47.918295Z",
     "iopub.status.idle": "2025-02-24T20:18:47.923813Z",
     "shell.execute_reply": "2025-02-24T20:18:47.922920Z",
     "shell.execute_reply.started": "2025-02-24T20:18:47.918963Z"
    },
    "trusted": true
   },
   "outputs": [],
   "source": [
    "def get_transformer_embedding(text, tokenizer, model, device, max_length=128):\n",
    "    # Tokenize and prepare input\n",
    "    inputs = tokenizer(text, return_tensors=\"pt\", padding=\"max_length\", \n",
    "                      truncation=True, max_length=max_length)\n",
    "    inputs = {k: v.to(device) for k, v in inputs.items()}\n",
    "    \n",
    "    # Get embeddings\n",
    "    with torch.no_grad():\n",
    "        outputs = model(**inputs)\n",
    "    \n",
    "    # Use the last hidden state of the [CLS] token as sentence representation\n",
    "    embeddings = outputs.last_hidden_state[:, 0, :].cpu().numpy()\n",
    "    return embeddings[0]  # Return as 1D array\n"
   ]
  },
  {
   "cell_type": "markdown",
   "metadata": {},
   "source": [
    "# Extract XLM-RoBERTa embeddings for a sample of examples"
   ]
  },
  {
   "cell_type": "code",
   "execution_count": 111,
   "metadata": {
    "execution": {
     "iopub.execute_input": "2025-02-24T20:19:56.882562Z",
     "iopub.status.busy": "2025-02-24T20:19:56.882261Z",
     "iopub.status.idle": "2025-02-24T20:19:59.352286Z",
     "shell.execute_reply": "2025-02-24T20:19:59.351446Z",
     "shell.execute_reply.started": "2025-02-24T20:19:56.882540Z"
    },
    "trusted": true
   },
   "outputs": [
    {
     "name": "stdout",
     "output_type": "stream",
     "text": [
      "Extracting XLM-RoBERTa embeddings for a sample of 100 examples...\n"
     ]
    },
    {
     "name": "stderr",
     "output_type": "stream",
     "text": [
      "100%|██████████| 100/100 [00:01<00:00, 64.89it/s]\n",
      "100%|██████████| 100/100 [00:00<00:00, 109.37it/s]"
     ]
    },
    {
     "name": "stdout",
     "output_type": "stream",
     "text": [
      "XLM-RoBERTa embedding shape for premise (sample): (100, 768)\n",
      "XLM-RoBERTa embedding shape for hypothesis (sample): (100, 768)\n"
     ]
    },
    {
     "name": "stderr",
     "output_type": "stream",
     "text": [
      "\n"
     ]
    }
   ],
   "source": [
    "sample_size = min(100, len(processed_train))\n",
    "print(f\"Extracting XLM-RoBERTa embeddings for a sample of {sample_size} examples...\")\n",
    "train_premise_xlm = np.array([get_transformer_embedding(text, tokenizer, model, device) \n",
    "                              for text in tqdm(processed_train['premise'][:sample_size])])\n",
    "train_hypothesis_xlm = np.array([get_transformer_embedding(text, tokenizer, model, device) \n",
    "                                 for text in tqdm(processed_train['hypothesis'][:sample_size])])\n",
    "print(f\"XLM-RoBERTa embedding shape for premise (sample): {train_premise_xlm.shape}\")\n",
    "print(f\"XLM-RoBERTa embedding shape for hypothesis (sample): {train_hypothesis_xlm.shape}\")"
   ]
  },
  {
   "cell_type": "markdown",
   "metadata": {},
   "source": [
    "# Save processed data and features"
   ]
  },
  {
   "cell_type": "code",
   "execution_count": 207,
   "metadata": {
    "execution": {
     "iopub.execute_input": "2025-02-24T21:30:53.786541Z",
     "iopub.status.busy": "2025-02-24T21:30:53.786205Z",
     "iopub.status.idle": "2025-02-24T21:30:53.975965Z",
     "shell.execute_reply": "2025-02-24T21:30:53.975086Z",
     "shell.execute_reply.started": "2025-02-24T21:30:53.786517Z"
    },
    "trusted": true
   },
   "outputs": [
    {
     "name": "stdout",
     "output_type": "stream",
     "text": [
      "\n",
      "Saving processed data and features...\n"
     ]
    }
   ],
   "source": [
    "print(\"\\nSaving processed data and features...\")\n",
    "# Save processed text data\n",
    "processed_train.to_csv('multilingual_processed_train_text.csv', index=False)\n",
    "processed_val.to_csv('multilingual_processed_val_text.csv', index=False)\n"
   ]
  },
  {
   "cell_type": "markdown",
   "metadata": {},
   "source": [
    "# Save TF-IDF features"
   ]
  },
  {
   "cell_type": "code",
   "execution_count": 195,
   "metadata": {
    "execution": {
     "iopub.execute_input": "2025-02-24T21:26:20.632335Z",
     "iopub.status.busy": "2025-02-24T21:26:20.632041Z",
     "iopub.status.idle": "2025-02-24T21:26:22.039421Z",
     "shell.execute_reply": "2025-02-24T21:26:22.038696Z",
     "shell.execute_reply.started": "2025-02-24T21:26:20.632313Z"
    },
    "trusted": true
   },
   "outputs": [],
   "source": [
    "np.save('multilingual_train_tfidf_features.npy', tfidf_features_train.toarray())\n",
    "np.save('multilingual_val_tfidf_features.npy', tfidf_features_val.toarray())"
   ]
  },
  {
   "cell_type": "markdown",
   "metadata": {},
   "source": [
    "# Save Word2Vec features"
   ]
  },
  {
   "cell_type": "code",
   "execution_count": 208,
   "metadata": {
    "execution": {
     "iopub.execute_input": "2025-02-24T21:30:56.858698Z",
     "iopub.status.busy": "2025-02-24T21:30:56.858359Z",
     "iopub.status.idle": "2025-02-24T21:30:56.920071Z",
     "shell.execute_reply": "2025-02-24T21:30:56.918962Z",
     "shell.execute_reply.started": "2025-02-24T21:30:56.858669Z"
    },
    "trusted": true
   },
   "outputs": [],
   "source": [
    "np.save('multilingual_train_premise_w2v.npy', train_premise_w2v)\n",
    "np.save('multilingual_train_hypothesis_w2v.npy', train_hypothesis_w2v)\n",
    "np.save('multilingual_val_premise_w2v.npy', val_premise_w2v)\n",
    "np.save('multilingual_val_hypothesis_w2v.npy', val_hypothesis_w2v)"
   ]
  },
  {
   "cell_type": "markdown",
   "metadata": {},
   "source": [
    "# Save sample XLM-RoBERTa features"
   ]
  },
  {
   "cell_type": "code",
   "execution_count": 210,
   "metadata": {
    "execution": {
     "iopub.execute_input": "2025-02-24T21:31:14.397277Z",
     "iopub.status.busy": "2025-02-24T21:31:14.396925Z",
     "iopub.status.idle": "2025-02-24T21:31:14.402700Z",
     "shell.execute_reply": "2025-02-24T21:31:14.401634Z",
     "shell.execute_reply.started": "2025-02-24T21:31:14.397248Z"
    },
    "trusted": true
   },
   "outputs": [],
   "source": [
    "np.save('multilingual_train_premise_xlm_sample.npy', train_premise_xlm)\n",
    "np.save('multilingual_train_hypothesis_xlm_sample.npy', train_hypothesis_xlm)"
   ]
  },
  {
   "cell_type": "markdown",
   "metadata": {},
   "source": [
    "Model Trainning part started\n",
    "--"
   ]
  },
  {
   "cell_type": "code",
   "execution_count": 227,
   "metadata": {
    "execution": {
     "iopub.execute_input": "2025-02-24T21:50:50.751182Z",
     "iopub.status.busy": "2025-02-24T21:50:50.750741Z",
     "iopub.status.idle": "2025-02-24T21:50:50.757168Z",
     "shell.execute_reply": "2025-02-24T21:50:50.756035Z",
     "shell.execute_reply.started": "2025-02-24T21:50:50.751154Z"
    },
    "trusted": true
   },
   "outputs": [],
   "source": [
    "# Cell 1: Import libraries\n",
    "import pandas as pd\n",
    "import numpy as np\n",
    "from sklearn.ensemble import RandomForestClassifier\n",
    "from sklearn.tree import DecisionTreeClassifier\n",
    "from xgboost import XGBClassifier\n",
    "from sklearn.metrics import classification_report, accuracy_score\n",
    "from sklearn.model_selection import RandomizedSearchCV, GridSearchCV\n",
    "import torch\n",
    "import torch.nn as nn\n",
    "from torch.utils.data import Dataset, DataLoader\n",
    "from transformers import XLMRobertaTokenizer, XLMRobertaModel, AdamW, get_linear_schedule_with_warmup\n",
    "from transformers import XLMRobertaForSequenceClassification, TrainingArguments, Trainer\n",
    "from datasets import Dataset as HFDataset\n",
    "import optuna\n",
    "from tqdm import tqdm\n",
    "import os\n",
    "import json\n",
    "import logging\n",
    "\n",
    "# Set up logging\n",
    "logging.basicConfig(level=logging.INFO, format='%(asctime)s - %(name)s - %(levelname)s - %(message)s')\n",
    "logger = logging.getLogger(__name__)"
   ]
  },
  {
   "cell_type": "markdown",
   "metadata": {},
   "source": [
    "# Set random seeds for reproducibility"
   ]
  },
  {
   "cell_type": "code",
   "execution_count": 228,
   "metadata": {
    "execution": {
     "iopub.execute_input": "2025-02-24T21:51:00.692359Z",
     "iopub.status.busy": "2025-02-24T21:51:00.692055Z",
     "iopub.status.idle": "2025-02-24T21:51:00.697891Z",
     "shell.execute_reply": "2025-02-24T21:51:00.697164Z",
     "shell.execute_reply.started": "2025-02-24T21:51:00.692336Z"
    },
    "trusted": true
   },
   "outputs": [],
   "source": [
    "SEED = 42\n",
    "np.random.seed(SEED)\n",
    "torch.manual_seed(SEED)\n",
    "torch.cuda.manual_seed_all(SEED)\n",
    "\n",
    "# Set device\n",
    "device = torch.device(\"cuda\" if torch.cuda.is_available() else \"cpu\")\n",
    "logger.info(f\"Using device: {device}\")"
   ]
  },
  {
   "cell_type": "markdown",
   "metadata": {},
   "source": [
    "# Load data"
   ]
  },
  {
   "cell_type": "code",
   "execution_count": 230,
   "metadata": {
    "execution": {
     "iopub.execute_input": "2025-02-24T21:52:19.963554Z",
     "iopub.status.busy": "2025-02-24T21:52:19.963224Z",
     "iopub.status.idle": "2025-02-24T21:52:21.115190Z",
     "shell.execute_reply": "2025-02-24T21:52:21.114436Z",
     "shell.execute_reply.started": "2025-02-24T21:52:19.963530Z"
    },
    "trusted": true
   },
   "outputs": [
    {
     "name": "stdout",
     "output_type": "stream",
     "text": [
      "Original data shapes:\n",
      "processed_train: (9696, 19)\n",
      "processed_val: (2424, 19)\n",
      "train_tfidf: (9696, 10000)\n",
      "val_tfidf: (2424, 10000)\n",
      "train_w2v_combined: (9696, 1200)\n",
      "val_w2v_combined: (2424, 1200)\n",
      "\n",
      "Label distribution in training data:\n",
      "label\n",
      "0    3341\n",
      "2    3251\n",
      "1    3104\n",
      "Name: count, dtype: int64\n",
      "\n",
      "Label distribution in validation data:\n",
      "label\n",
      "0    835\n",
      "2    813\n",
      "1    776\n",
      "Name: count, dtype: int64\n"
     ]
    }
   ],
   "source": [
    "def load_data():\n",
    "    \"\"\"Load and prepare all data.\"\"\"\n",
    "    logger.info(\"Loading preprocessed data...\")\n",
    "    processed_train = pd.read_csv('multilingual_processed_train_text.csv')\n",
    "    processed_val = pd.read_csv('multilingual_processed_val_text.csv')\n",
    "\n",
    "    logger.info(\"Loading TF-IDF features...\")\n",
    "    train_tfidf = np.load('multilingual_train_tfidf_features.npy')\n",
    "    val_tfidf = np.load('multilingual_val_tfidf_features.npy')\n",
    "\n",
    "    logger.info(\"Loading Word2Vec features...\")\n",
    "    train_premise_w2v = np.load('multilingual_train_premise_w2v.npy')\n",
    "    train_hypothesis_w2v = np.load('multilingual_train_hypothesis_w2v.npy')\n",
    "    val_premise_w2v = np.load('multilingual_val_premise_w2v.npy')\n",
    "    val_hypothesis_w2v = np.load('multilingual_val_hypothesis_w2v.npy')\n",
    "\n",
    "    # Combine Word2Vec features\n",
    "    train_w2v_combined = np.concatenate([train_premise_w2v, train_hypothesis_w2v, \n",
    "                                       train_premise_w2v - train_hypothesis_w2v,\n",
    "                                       np.multiply(train_premise_w2v, train_hypothesis_w2v)], axis=1)\n",
    "    val_w2v_combined = np.concatenate([val_premise_w2v, val_hypothesis_w2v, \n",
    "                                     val_premise_w2v - val_hypothesis_w2v,\n",
    "                                     np.multiply(val_premise_w2v, val_hypothesis_w2v)], axis=1)\n",
    "\n",
    "    # Print shapes to debug\n",
    "    print(f\"Original data shapes:\")\n",
    "    print(f\"processed_train: {processed_train.shape}\")\n",
    "    print(f\"processed_val: {processed_val.shape}\")\n",
    "    print(f\"train_tfidf: {train_tfidf.shape}\")\n",
    "    print(f\"val_tfidf: {val_tfidf.shape}\")\n",
    "    print(f\"train_w2v_combined: {train_w2v_combined.shape}\")\n",
    "    print(f\"val_w2v_combined: {val_w2v_combined.shape}\")\n",
    "\n",
    "    # Check label distribution\n",
    "    print(\"\\nLabel distribution in training data:\")\n",
    "    print(processed_train['label'].value_counts(dropna=False))\n",
    "    print(\"\\nLabel distribution in validation data:\")\n",
    "    print(processed_val['label'].value_counts(dropna=False))\n",
    "\n",
    "    # Prepare labels (using integers directly)\n",
    "    y_train = processed_train['label'].values\n",
    "    y_val = processed_val['label'].values\n",
    "\n",
    "    # Check for NaN values\n",
    "    if np.isnan(y_train).any():\n",
    "        print(f\"Found {np.isnan(y_train).sum()} NaN values in y_train. Filling with 1...\")\n",
    "        y_train = np.nan_to_num(y_train, nan=1)\n",
    "    if np.isnan(y_val).any():\n",
    "        print(f\"Found {np.isnan(y_val).sum()} NaN values in y_val. Filling with 1...\")\n",
    "        y_val = np.nan_to_num(y_val, nan=1)\n",
    "\n",
    "    # Create texts for transformer models\n",
    "    train_texts = [{'premise': str(row['premise']), 'hypothesis': str(row['hypothesis'])} \n",
    "                   for _, row in processed_train.iterrows()]\n",
    "    val_texts = [{'premise': str(row['premise']), 'hypothesis': str(row['hypothesis'])} \n",
    "                 for _, row in processed_val.iterrows()]\n",
    "\n",
    "    # Define label map for interpretation\n",
    "    label_map = {0: \"entailment\", 1: \"neutral\", 2: \"contradiction\"}\n",
    "    \n",
    "    return {\n",
    "        'processed_train': processed_train,\n",
    "        'processed_val': processed_val,\n",
    "        'train_tfidf': train_tfidf,\n",
    "        'val_tfidf': val_tfidf, \n",
    "        'train_w2v_combined': train_w2v_combined,\n",
    "        'val_w2v_combined': val_w2v_combined,\n",
    "        'y_train': y_train,\n",
    "        'y_val': y_val,\n",
    "        'train_texts': train_texts,\n",
    "        'val_texts': val_texts,\n",
    "        'label_map': label_map\n",
    "    }\n",
    "\n",
    "# Execute the function\n",
    "data = load_data()"
   ]
  },
  {
   "cell_type": "markdown",
   "metadata": {},
   "source": [
    "# Define Random Forest Tuning"
   ]
  },
  {
   "cell_type": "code",
   "execution_count": 235,
   "metadata": {
    "execution": {
     "iopub.execute_input": "2025-02-24T22:13:31.799021Z",
     "iopub.status.busy": "2025-02-24T22:13:31.798631Z",
     "iopub.status.idle": "2025-02-24T22:13:31.805976Z",
     "shell.execute_reply": "2025-02-24T22:13:31.805074Z",
     "shell.execute_reply.started": "2025-02-24T22:13:31.798987Z"
    },
    "trusted": true
   },
   "outputs": [],
   "source": [
    "# Cell 4: Define Random Forest Tuning\n",
    "def tune_random_forest(data):\n",
    "    \"\"\"Tune Random Forest model with TF-IDF features using RandomizedSearchCV.\"\"\"\n",
    "    logger.info(\"\\n======== TUNING RANDOM FOREST WITH TF-IDF ========\")\n",
    "    \n",
    "    # Define parameter grid\n",
    "    rf_param_grid = {\n",
    "        'n_estimators': [50, 100, 200],\n",
    "        'max_depth': [None, 10, 20, 30],\n",
    "        'min_samples_split': [2, 5, 10],\n",
    "        'min_samples_leaf': [1, 2, 4],\n",
    "        'bootstrap': [True, False],\n",
    "        'class_weight': [None, 'balanced']\n",
    "    }\n",
    "    \n",
    "    rf_clf = RandomForestClassifier(random_state=SEED)\n",
    "    rf_search = RandomizedSearchCV(\n",
    "        rf_clf, \n",
    "        rf_param_grid, \n",
    "        n_iter=10,  # Reduced for faster execution in notebook\n",
    "        cv=3, \n",
    "        scoring='accuracy',\n",
    "        random_state=SEED,\n",
    "        n_jobs=-1,\n",
    "        verbose=1\n",
    "    )\n",
    "    \n",
    "    logger.info(\"Tuning Random Forest with TF-IDF features...\")\n",
    "    rf_search.fit(data['train_tfidf'], data['y_train'])\n",
    "    \n",
    "    logger.info(f\"Best parameters for RF TF-IDF: {rf_search.best_params_}\")\n",
    "    logger.info(f\"Best CV accuracy: {rf_search.best_score_:.4f}\")\n",
    "    \n",
    "    best_rf_tfidf = rf_search.best_estimator_\n",
    "    val_preds = best_rf_tfidf.predict(data['val_tfidf'])\n",
    "    val_acc = accuracy_score(data['y_val'], val_preds)\n",
    "    logger.info(f\"Validation accuracy: {val_acc:.4f}\")\n",
    "    logger.info(f\"Classification Report:\\n{classification_report(data['y_val'], val_preds, target_names=data['label_map'].values())}\")\n",
    "    \n",
    "    return best_rf_tfidf, val_acc, rf_search.best_params_"
   ]
  },
  {
   "cell_type": "markdown",
   "metadata": {},
   "source": [
    "# Cell 5: Execute Random Forest Tuning"
   ]
  },
  {
   "cell_type": "code",
   "execution_count": 236,
   "metadata": {
    "execution": {
     "iopub.execute_input": "2025-02-24T22:13:34.019945Z",
     "iopub.status.busy": "2025-02-24T22:13:34.019616Z",
     "iopub.status.idle": "2025-02-24T22:17:00.035238Z",
     "shell.execute_reply": "2025-02-24T22:17:00.034204Z",
     "shell.execute_reply.started": "2025-02-24T22:13:34.019920Z"
    },
    "trusted": true
   },
   "outputs": [
    {
     "name": "stdout",
     "output_type": "stream",
     "text": [
      "Fitting 3 folds for each of 10 candidates, totalling 30 fits\n"
     ]
    }
   ],
   "source": [
    "best_rf, rf_acc, rf_params = tune_random_forest(data)"
   ]
  },
  {
   "cell_type": "markdown",
   "metadata": {},
   "source": [
    "# Print the metrics Random Forest"
   ]
  },
  {
   "cell_type": "code",
   "execution_count": 237,
   "metadata": {
    "execution": {
     "iopub.execute_input": "2025-02-24T22:17:21.470289Z",
     "iopub.status.busy": "2025-02-24T22:17:21.469978Z",
     "iopub.status.idle": "2025-02-24T22:20:45.531939Z",
     "shell.execute_reply": "2025-02-24T22:20:45.530900Z",
     "shell.execute_reply.started": "2025-02-24T22:17:21.470265Z"
    },
    "trusted": true
   },
   "outputs": [
    {
     "name": "stdout",
     "output_type": "stream",
     "text": [
      "Fitting 3 folds for each of 10 candidates, totalling 30 fits\n",
      "Accuracy: 0.3787\n",
      "Precision: 0.3907\n",
      "Recall: 0.3787\n",
      "F1 Score: 0.3524\n",
      "\n",
      "Detailed Classification Report:\n",
      "               precision    recall  f1-score   support\n",
      "\n",
      "   entailment       0.37      0.67      0.47       835\n",
      "      neutral       0.34      0.20      0.25       776\n",
      "contradiction       0.46      0.25      0.32       813\n",
      "\n",
      "     accuracy                           0.38      2424\n",
      "    macro avg       0.39      0.37      0.35      2424\n",
      " weighted avg       0.39      0.38      0.35      2424\n",
      "\n"
     ]
    }
   ],
   "source": [
    "from sklearn.metrics import accuracy_score, precision_score, recall_score, f1_score, classification_report\n",
    "\n",
    "# After you've trained your model and obtained the best estimator\n",
    "best_rf, val_acc, rf_params = tune_random_forest(data)\n",
    "\n",
    "# Get predictions on validation set\n",
    "val_predictions = best_rf.predict(data['val_tfidf'])\n",
    "\n",
    "# Calculate individual metrics\n",
    "accuracy = accuracy_score(data['y_val'], val_predictions)\n",
    "precision = precision_score(data['y_val'], val_predictions, average='weighted')  # Use 'weighted' for multiclass\n",
    "recall = recall_score(data['y_val'], val_predictions, average='weighted')\n",
    "f1 = f1_score(data['y_val'], val_predictions, average='weighted')\n",
    "\n",
    "# Print the metrics\n",
    "print(f\"Accuracy: {accuracy:.4f}\")\n",
    "print(f\"Precision: {precision:.4f}\")\n",
    "print(f\"Recall: {recall:.4f}\")\n",
    "print(f\"F1 Score: {f1:.4f}\")\n",
    "\n",
    "# For a detailed report per class\n",
    "print(\"\\nDetailed Classification Report:\")\n",
    "print(classification_report(data['y_val'], val_predictions, target_names=data['label_map'].values()))"
   ]
  },
  {
   "cell_type": "markdown",
   "metadata": {},
   "source": [
    " # confusion matrix metrics Random Forest"
   ]
  },
  {
   "cell_type": "code",
   "execution_count": 238,
   "metadata": {
    "execution": {
     "iopub.execute_input": "2025-02-24T22:21:46.056112Z",
     "iopub.status.busy": "2025-02-24T22:21:46.055742Z",
     "iopub.status.idle": "2025-02-24T22:21:46.566439Z",
     "shell.execute_reply": "2025-02-24T22:21:46.565443Z",
     "shell.execute_reply.started": "2025-02-24T22:21:46.056085Z"
    },
    "trusted": true
   },
   "outputs": [
    {
     "data": {
      "image/png": "[encoded data removed]",
      "text/plain": [
       "<Figure size 1000x800 with 2 Axes>"
      ]
     },
     "metadata": {},
     "output_type": "display_data"
    },
    {
     "data": {
      "image/png": "[encoded data removed]",
      "text/plain": [
       "<Figure size 1000x800 with 2 Axes>"
      ]
     },
     "metadata": {},
     "output_type": "display_data"
    }
   ],
   "source": [
    "from sklearn.metrics import confusion_matrix\n",
    "import matplotlib.pyplot as plt\n",
    "import seaborn as sns\n",
    "import numpy as np\n",
    "\n",
    "# Calculate and display confusion matrix\n",
    "cm = confusion_matrix(data['y_val'], val_predictions)\n",
    "\n",
    "# Plot confusion matrix as a heatmap\n",
    "plt.figure(figsize=(10, 8))\n",
    "sns.heatmap(cm, annot=True, fmt='d', cmap='Blues',\n",
    "            xticklabels=data['label_map'].values(),\n",
    "            yticklabels=data['label_map'].values())\n",
    "plt.xlabel('Predicted labels')\n",
    "plt.ylabel('True labels')\n",
    "plt.title('Confusion Matrix')\n",
    "plt.tight_layout()\n",
    "plt.show()\n",
    "\n",
    "# If you want a normalized confusion matrix (shows percentages)\n",
    "cm_normalized = cm.astype('float') / cm.sum(axis=1)[:, np.newaxis]\n",
    "plt.figure(figsize=(10, 8))\n",
    "sns.heatmap(cm_normalized, annot=True, fmt='.2f', cmap='Blues',\n",
    "            xticklabels=data['label_map'].values(),\n",
    "            yticklabels=data['label_map'].values())\n",
    "plt.xlabel('Predicted labels')\n",
    "plt.ylabel('True labels')\n",
    "plt.title('Normalized Confusion Matrix')\n",
    "plt.tight_layout()\n",
    "plt.show()"
   ]
  },
  {
   "cell_type": "markdown",
   "metadata": {},
   "source": [
    "# Define XGBoost Tuning"
   ]
  },
  {
   "cell_type": "code",
   "execution_count": 239,
   "metadata": {
    "execution": {
     "iopub.execute_input": "2025-02-24T22:21:58.990761Z",
     "iopub.status.busy": "2025-02-24T22:21:58.990450Z",
     "iopub.status.idle": "2025-02-24T22:21:58.997457Z",
     "shell.execute_reply": "2025-02-24T22:21:58.996019Z",
     "shell.execute_reply.started": "2025-02-24T22:21:58.990737Z"
    },
    "trusted": true
   },
   "outputs": [],
   "source": [
    "\n",
    "def tune_xgboost(data):\n",
    "    \"\"\"Tune XGBoost model with Word2Vec features using RandomizedSearchCV.\"\"\"\n",
    "    logger.info(\"\\n======== TUNING XGBOOST WITH WORD2VEC ========\")\n",
    "    \n",
    "    # Define parameter grid\n",
    "    xgb_param_grid = {\n",
    "        'n_estimators': [50, 100, 200],\n",
    "        'max_depth': [3, 5, 7],\n",
    "        'learning_rate': [0.01, 0.05, 0.1],\n",
    "        'subsample': [0.8, 0.9, 1.0],\n",
    "        'colsample_bytree': [0.6, 0.8, 1.0],\n",
    "        'gamma': [0, 0.1],\n",
    "        'min_child_weight': [1, 3, 5]\n",
    "    }\n",
    "    \n",
    "    xgb_clf = XGBClassifier(random_state=SEED, use_label_encoder=False, eval_metric='mlogloss')\n",
    "    xgb_search = RandomizedSearchCV(\n",
    "        xgb_clf, \n",
    "        xgb_param_grid, \n",
    "        n_iter=10,  # Reduced for faster execution in notebook\n",
    "        cv=3, \n",
    "        scoring='accuracy',\n",
    "        random_state=SEED,\n",
    "        n_jobs=-1,\n",
    "        verbose=1\n",
    "    )\n",
    "    \n",
    "    logger.info(\"Tuning XGBoost with Word2Vec features...\")\n",
    "    xgb_search.fit(data['train_w2v_combined'], data['y_train'])\n",
    "    \n",
    "    logger.info(f\"Best parameters for XGB Word2Vec: {xgb_search.best_params_}\")\n",
    "    logger.info(f\"Best CV accuracy: {xgb_search.best_score_:.4f}\")\n",
    "    \n",
    "    best_xgb_w2v = xgb_search.best_estimator_\n",
    "    val_preds = best_xgb_w2v.predict(data['val_w2v_combined'])\n",
    "    val_acc = accuracy_score(data['y_val'], val_preds)\n",
    "    logger.info(f\"Validation accuracy: {val_acc:.4f}\")\n",
    "    logger.info(f\"Classification Report:\\n{classification_report(data['y_val'], val_preds, target_names=data['label_map'].values())}\")\n",
    "    \n",
    "    return best_xgb_w2v, val_acc, xgb_search.best_params_"
   ]
  },
  {
   "cell_type": "markdown",
   "metadata": {},
   "source": [
    "# Execute XGBoost Tuning\n"
   ]
  },
  {
   "cell_type": "code",
   "execution_count": 240,
   "metadata": {
    "execution": {
     "iopub.execute_input": "2025-02-24T22:22:13.686855Z",
     "iopub.status.busy": "2025-02-24T22:22:13.686529Z",
     "iopub.status.idle": "2025-02-24T22:42:01.538535Z",
     "shell.execute_reply": "2025-02-24T22:42:01.537591Z",
     "shell.execute_reply.started": "2025-02-24T22:22:13.686821Z"
    },
    "trusted": true
   },
   "outputs": [
    {
     "name": "stdout",
     "output_type": "stream",
     "text": [
      "Fitting 3 folds for each of 10 candidates, totalling 30 fits\n"
     ]
    }
   ],
   "source": [
    "best_xgb, xgb_acc, xgb_params = tune_xgboost(data)"
   ]
  },
  {
   "cell_type": "markdown",
   "metadata": {},
   "source": [
    "# Classification Report XGBoost"
   ]
  },
  {
   "cell_type": "code",
   "execution_count": 243,
   "metadata": {
    "execution": {
     "iopub.execute_input": "2025-02-24T22:51:34.823857Z",
     "iopub.status.busy": "2025-02-24T22:51:34.823543Z",
     "iopub.status.idle": "2025-02-24T22:51:34.828696Z",
     "shell.execute_reply": "2025-02-24T22:51:34.827784Z",
     "shell.execute_reply.started": "2025-02-24T22:51:34.823833Z"
    },
    "trusted": true
   },
   "outputs": [],
   "source": [
    "def evaluate_xgboost(best_xgb_w2v, data):\n",
    "    \"\"\"Evaluate the tuned XGBoost model and print detailed metrics.\"\"\"\n",
    "    val_predictions = best_xgb_w2v.predict(data['val_w2v_combined'])\n",
    "    \n",
    "    # Calculate individual metrics\n",
    "    accuracy = accuracy_score(data['y_val'], val_predictions)\n",
    "    precision = precision_score(data['y_val'], val_predictions, average='weighted')  # Use 'weighted' for multiclass\n",
    "    recall = recall_score(data['y_val'], val_predictions, average='weighted')\n",
    "    f1 = f1_score(data['y_val'], val_predictions, average='weighted')\n",
    "    \n",
    "    # Print the metrics\n",
    "    print(f\"Accuracy: {accuracy:.4f}\")\n",
    "    print(f\"Precision: {precision:.4f}\")\n",
    "    print(f\"Recall: {recall:.4f}\")\n",
    "    print(f\"F1 Score: {f1:.4f}\")\n",
    "    \n",
    "    # For a detailed report per class\n",
    "    print(\"\\nDetailed Classification Report XGBoost:\")\n",
    "    print(classification_report(data['y_val'], val_predictions, target_names=data['label_map'].values()))\n"
   ]
  },
  {
   "cell_type": "code",
   "execution_count": 244,
   "metadata": {
    "execution": {
     "iopub.execute_input": "2025-02-24T22:51:41.360343Z",
     "iopub.status.busy": "2025-02-24T22:51:41.360060Z",
     "iopub.status.idle": "2025-02-24T22:51:41.391966Z",
     "shell.execute_reply": "2025-02-24T22:51:41.391076Z",
     "shell.execute_reply.started": "2025-02-24T22:51:41.360322Z"
    },
    "trusted": true
   },
   "outputs": [
    {
     "name": "stdout",
     "output_type": "stream",
     "text": [
      "Accuracy: 0.3853\n",
      "Precision: 0.3836\n",
      "Recall: 0.3853\n",
      "F1 Score: 0.3791\n",
      "\n",
      "Detailed Classification Report XGBoost:\n",
      "               precision    recall  f1-score   support\n",
      "\n",
      "   entailment       0.39      0.52      0.45       835\n",
      "      neutral       0.38      0.29      0.33       776\n",
      "contradiction       0.38      0.34      0.36       813\n",
      "\n",
      "     accuracy                           0.39      2424\n",
      "    macro avg       0.38      0.38      0.38      2424\n",
      " weighted avg       0.38      0.39      0.38      2424\n",
      "\n"
     ]
    }
   ],
   "source": [
    "evaluate_xgboost(best_xgb, data)"
   ]
  },
  {
   "cell_type": "markdown",
   "metadata": {},
   "source": [
    "# Generate confusion matrix XGBoost\n"
   ]
  },
  {
   "cell_type": "code",
   "execution_count": 265,
   "metadata": {
    "execution": {
     "iopub.execute_input": "2025-02-24T23:26:11.440039Z",
     "iopub.status.busy": "2025-02-24T23:26:11.439641Z",
     "iopub.status.idle": "2025-02-24T23:26:11.446992Z",
     "shell.execute_reply": "2025-02-24T23:26:11.445695Z",
     "shell.execute_reply.started": "2025-02-24T23:26:11.440006Z"
    },
    "trusted": true
   },
   "outputs": [],
   "source": [
    "def print_and_plot_confusion_matrix(y_true, y_pred, label_map):\n",
    "    \"\"\"\n",
    "    Print and plot the confusion matrix for a given set of true and predicted labels.\n",
    "    \n",
    "    Parameters:\n",
    "    - y_true: True labels\n",
    "    - y_pred: Predicted labels\n",
    "    - label_map: Dictionary mapping label indices to label names\n",
    "    \"\"\"\n",
    "    # Generate confusion matrix\n",
    "    cm = confusion_matrix(y_true, y_pred)\n",
    "    \n",
    "    \n",
    "    # Create a visualization of the confusion matrix\n",
    "    plt.figure(figsize=(10, 8))\n",
    "    sns.heatmap(cm, \n",
    "                annot=True,      # Show the numbers in each cell\n",
    "                fmt='d',          # Use integer formatting\n",
    "                cmap='Blues',     # Color scheme\n",
    "                xticklabels=list(label_map.values()),\n",
    "                yticklabels=list(label_map.values()))\n",
    "    \n",
    "    plt.title('Confusion Matrix', fontsize=16)\n",
    "    plt.xlabel('Predicted Label', fontsize=12)\n",
    "    plt.ylabel('True Label', fontsize=12)\n",
    "    plt.xticks(rotation=45, ha='right')\n",
    "    plt.tight_layout()\n",
    "    \n",
    "    # Show the plot\n",
    "    plt.show()\n",
    " "
   ]
  },
  {
   "cell_type": "code",
   "execution_count": 266,
   "metadata": {
    "execution": {
     "iopub.execute_input": "2025-02-24T23:26:14.215466Z",
     "iopub.status.busy": "2025-02-24T23:26:14.215123Z",
     "iopub.status.idle": "2025-02-24T23:26:14.552718Z",
     "shell.execute_reply": "2025-02-24T23:26:14.551594Z",
     "shell.execute_reply.started": "2025-02-24T23:26:14.215438Z"
    },
    "trusted": true
   },
   "outputs": [
    {
     "data": {
      "image/png": "[encoded data removed]",
      "text/plain": [
       "<Figure size 1000x800 with 2 Axes>"
      ]
     },
     "metadata": {},
     "output_type": "display_data"
    }
   ],
   "source": [
    "# Assuming you have already generated predictions\n",
    "val_predictions = best_xgb.predict(data['val_w2v_combined'])\n",
    "\n",
    "# Call the function to print and plot the confusion matrix\n",
    "print_and_plot_confusion_matrix(data['y_val'], val_predictions, data['label_map'])"
   ]
  },
  {
   "cell_type": "markdown",
   "metadata": {},
   "source": [
    "# Tune Decision Tree"
   ]
  },
  {
   "cell_type": "code",
   "execution_count": 267,
   "metadata": {
    "execution": {
     "iopub.execute_input": "2025-02-24T23:26:18.322961Z",
     "iopub.status.busy": "2025-02-24T23:26:18.322415Z",
     "iopub.status.idle": "2025-02-24T23:26:18.339200Z",
     "shell.execute_reply": "2025-02-24T23:26:18.337755Z",
     "shell.execute_reply.started": "2025-02-24T23:26:18.322921Z"
    },
    "trusted": true
   },
   "outputs": [],
   "source": [
    "def tune_decision_tree(data):\n",
    "    \"\"\"\n",
    "    Tune Decision Tree model with Word2Vec features using RandomizedSearchCV.\n",
    "    \n",
    "    Parameters:\n",
    "    - data: Dictionary containing training and validation data\n",
    "    \n",
    "    Returns:\n",
    "    - Tuple of (best decision tree model, validation accuracy, best parameters)\n",
    "    \"\"\"\n",
    "    logger.info(\"\\n======== TUNING DECISION TREE WITH WORD2VEC ========\")\n",
    "    \n",
    "    # Define parameter grid for Decision Tree\n",
    "    dt_param_grid = {\n",
    "        'max_depth': [None, 5, 10, 15, 20],\n",
    "        'min_samples_split': [2, 5, 10],\n",
    "        'min_samples_leaf': [1, 2, 4],\n",
    "        'criterion': ['gini', 'entropy'],\n",
    "        'max_features': [None, 'sqrt', 'log2']\n",
    "    }\n",
    "    \n",
    "    # Create Decision Tree Classifier\n",
    "    dt_clf = DecisionTreeClassifier(random_state=SEED)\n",
    "    \n",
    "    # Set up RandomizedSearchCV\n",
    "    dt_search = RandomizedSearchCV(\n",
    "        dt_clf, \n",
    "        dt_param_grid, \n",
    "        n_iter=10,  # Number of parameter settings sampled\n",
    "        cv=3,       # 3-fold cross-validation\n",
    "        scoring='accuracy',\n",
    "        random_state=SEED,\n",
    "        n_jobs=-1,  # Use all available cores\n",
    "        verbose=1\n",
    "    )\n",
    "    \n",
    "    # Fit the random search\n",
    "    logger.info(\"Tuning Decision Tree with Word2Vec features...\")\n",
    "    dt_search.fit(data['train_w2v_combined'], data['y_train'])\n",
    "    \n",
    "    # Log best parameters and score\n",
    "    logger.info(f\"Best parameters for Decision Tree: {dt_search.best_params_}\")\n",
    "    logger.info(f\"Best CV accuracy: {dt_search.best_score_:.4f}\")\n",
    "    \n",
    "    # Get the best estimator\n",
    "    best_dt_w2v = dt_search.best_estimator_\n",
    "    \n",
    "    # Validate on validation set\n",
    "    val_preds = best_dt_w2v.predict(data['val_w2v_combined'])\n",
    "    val_acc = accuracy_score(data['y_val'], val_preds)\n",
    "    \n",
    "    # Calculate and print all metrics\n",
    "    precision = precision_score(data['y_val'], val_preds, average='weighted')\n",
    "    recall = recall_score(data['y_val'], val_preds, average='weighted')\n",
    "    f1 = f1_score(data['y_val'], val_preds, average='weighted')\n",
    "    \n",
    "    print(\"=\" * 50)\n",
    "    print(\"DECISION TREE PERFORMANCE (WORD2VEC)\")\n",
    "    print(\"=\" * 50)\n",
    "    print(f\"Accuracy:  {val_acc:.4f}\")\n",
    "    print(f\"Precision: {precision:.4f}\")\n",
    "    print(f\"Recall:    {recall:.4f}\")\n",
    "    print(f\"F1 Score:  {f1:.4f}\")\n",
    "    print(\"=\" * 50)\n",
    "    \n",
    "    logger.info(f\"Validation accuracy: {val_acc:.4f}\")\n",
    "    logger.info(f\"Validation precision: {precision:.4f}\")\n",
    "    logger.info(f\"Validation recall: {recall:.4f}\")\n",
    "    logger.info(f\"Validation F1 score: {f1:.4f}\")\n",
    "    logger.info(f\"Classification Report:\\n{classification_report(data['y_val'], val_preds, target_names=data['label_map'].values())}\")\n",
    "    \n",
    "    # Print and plot confusion matrix\n",
    "    print_and_plot_confusion_matrix(data['y_val'], val_preds, data['label_map'])\n",
    "    \n",
    "    # Save confusion matrix as an image file\n",
    "    plt.figure(figsize=(10, 8))\n",
    "    cm = confusion_matrix(data['y_val'], val_preds)\n",
    "    sns.heatmap(cm, annot=True, fmt='d', cmap='Blues', xticklabels=data['label_map'].values(), yticklabels=data['label_map'].values())\n",
    "    plt.title('Decision Tree Confusion Matrix (Word2Vec)')\n",
    "    plt.ylabel('True Label')\n",
    "    plt.xlabel('Predicted Label')\n",
    "    plt.tight_layout()\n",
    "    plt.savefig('decision_tree_confusion_matrix.png')\n",
    "    plt.close()\n",
    "    \n",
    "    return best_dt_w2v, val_acc, dt_search.best_params_"
   ]
  },
  {
   "cell_type": "markdown",
   "metadata": {},
   "source": [
    "Score and confusion matrix decision tree\n",
    "--"
   ]
  },
  {
   "cell_type": "code",
   "execution_count": 268,
   "metadata": {
    "execution": {
     "iopub.execute_input": "2025-02-24T23:26:23.144487Z",
     "iopub.status.busy": "2025-02-24T23:26:23.144134Z",
     "iopub.status.idle": "2025-02-24T23:28:13.729630Z",
     "shell.execute_reply": "2025-02-24T23:28:13.727710Z",
     "shell.execute_reply.started": "2025-02-24T23:26:23.144459Z"
    },
    "trusted": true
   },
   "outputs": [
    {
     "name": "stdout",
     "output_type": "stream",
     "text": [
      "Fitting 3 folds for each of 10 candidates, totalling 30 fits\n",
      "==================================================\n",
      "DECISION TREE PERFORMANCE (WORD2VEC)\n",
      "==================================================\n",
      "Accuracy:  0.3680\n",
      "Precision: 0.3742\n",
      "Recall:    0.3680\n",
      "F1 Score:  0.3659\n",
      "==================================================\n"
     ]
    },
    {
     "data": {
      "image/png": "[encoded data removed]",
      "text/plain": [
       "<Figure size 1000x800 with 2 Axes>"
      ]
     },
     "metadata": {},
     "output_type": "display_data"
    }
   ],
   "source": [
    "best_model, validation_accuracy, best_params = tune_decision_tree(data)"
   ]
  }
 ],
 "metadata": {
  "kaggle": {
   "accelerator": "nvidiaTeslaT4",
   "dataSources": [
    {
     "datasetId": 6734353,
     "sourceId": 10843652,
     "sourceType": "datasetVersion"
    },
    {
     "datasetId": 6734453,
     "sourceId": 10843792,
     "sourceType": "datasetVersion"
    },
    {
     "datasetId": 6735148,
     "sourceId": 10844815,
     "sourceType": "datasetVersion"
    }
   ],
   "dockerImageVersionId": 30919,
   "isGpuEnabled": true,
   "isInternetEnabled": true,
   "language": "python",
   "sourceType": "notebook"
  },
  "kernelspec": {
   "display_name": "Python 3",
   "language": "python",
   "name": "python3"
  },
  "language_info": {
   "codemirror_mode": {
    "name": "ipython",
    "version": 3
   },
   "file_extension": ".py",
   "mimetype": "text/x-python",
   "name": "python",
   "nbconvert_exporter": "python",
   "pygments_lexer": "ipython3",
   "version": "3.10.12"
  }
 },
 "nbformat": 4,
 "nbformat_minor": 4
}
