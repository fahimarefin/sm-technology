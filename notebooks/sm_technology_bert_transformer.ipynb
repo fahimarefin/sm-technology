{
  "cells": [
    {
      "cell_type": "code",
      "execution_count": null,
      "metadata": {
        "id": "wM04DfGYGdOG"
      },
      "outputs": [],
      "source": [
        "# IMPORTANT: SOME KAGGLE DATA SOURCES ARE PRIVATE\n",
        "# RUN THIS CELL IN ORDER TO IMPORT YOUR KAGGLE DATA SOURCES.\n",
        "import kagglehub\n",
        "kagglehub.login()\n"
      ]
    },
    {
      "cell_type": "code",
      "execution_count": null,
      "metadata": {
        "id": "snTs3-CGGdOI"
      },
      "outputs": [],
      "source": [
        "# IMPORTANT: RUN THIS CELL IN ORDER TO IMPORT YOUR KAGGLE DATA SOURCES,\n",
        "# THEN FEEL FREE TO DELETE THIS CELL.\n",
        "# NOTE: THIS NOTEBOOK ENVIRONMENT DIFFERS FROM KAGGLE'S PYTHON\n",
        "# ENVIRONMENT SO THERE MAY BE MISSING LIBRARIES USED BY YOUR\n",
        "# NOTEBOOK.\n",
        "\n",
        "fahimarefin99_sm_tec_generated_dataset_path = kagglehub.dataset_download('fahimarefin99/sm-tec-generated-dataset')\n",
        "\n",
        "print('Data source import complete.')\n"
      ]
    },
    {
      "cell_type": "markdown",
      "metadata": {},
      "source": [
        "# Transformer-Based Models: Fine-tune BERT for contextual understanding.\n"
      ]
    },
    {
      "cell_type": "markdown",
      "metadata": {
        "id": "lpHZg80cGdOK"
      },
      "source": [
        "Necessary Packeges\n",
        "--"
      ]
    },
    {
      "cell_type": "code",
      "execution_count": null,
      "metadata": {
        "execution": {
          "iopub.execute_input": "2025-02-25T16:37:38.269541Z",
          "iopub.status.busy": "2025-02-25T16:37:38.269202Z",
          "iopub.status.idle": "2025-02-25T16:37:38.275118Z",
          "shell.execute_reply": "2025-02-25T16:37:38.273859Z",
          "shell.execute_reply.started": "2025-02-25T16:37:38.269513Z"
        },
        "id": "PogpE9TCGdON",
        "trusted": true
      },
      "outputs": [],
      "source": [
        "import pandas as pd\n",
        "import numpy as np\n",
        "import torch\n",
        "from torch.utils.data import Dataset, DataLoader\n",
        "from transformers import BertTokenizer, BertForSequenceClassification\n",
        "from transformers import AdamW, get_linear_schedule_with_warmup\n",
        "from transformers import TrainingArguments, Trainer\n",
        "from datasets import Dataset as HFDataset\n",
        "from sklearn.metrics import accuracy_score, classification_report, confusion_matrix, roc_curve, auc\n",
        "from sklearn.preprocessing import label_binarize\n",
        "import matplotlib.pyplot as plt\n",
        "import seaborn as sns\n",
        "from tqdm import tqdm\n",
        "import os\n",
        "import json\n",
        "import logging\n",
        "from huggingface_hub import notebook_login\n",
        "from datetime import datetime"
      ]
    },
    {
      "cell_type": "markdown",
      "metadata": {
        "id": "jovn_xJkGdOP"
      },
      "source": [
        "# Set up logging"
      ]
    },
    {
      "cell_type": "code",
      "execution_count": null,
      "metadata": {
        "execution": {
          "iopub.execute_input": "2025-02-25T16:37:38.2764Z",
          "iopub.status.busy": "2025-02-25T16:37:38.27617Z",
          "iopub.status.idle": "2025-02-25T16:37:38.300798Z",
          "shell.execute_reply": "2025-02-25T16:37:38.299975Z",
          "shell.execute_reply.started": "2025-02-25T16:37:38.276381Z"
        },
        "id": "cFPlcW9QGdOQ",
        "trusted": true
      },
      "outputs": [],
      "source": [
        "\n",
        "logging.basicConfig(level=logging.INFO, format='%(asctime)s - %(name)s - %(levelname)s - %(message)s')\n",
        "logger = logging.getLogger(__name__)\n"
      ]
    },
    {
      "cell_type": "markdown",
      "metadata": {
        "id": "QvtV2JRiGdOR"
      },
      "source": [
        "Data loading\n",
        "--"
      ]
    },
    {
      "cell_type": "code",
      "execution_count": null,
      "metadata": {
        "execution": {
          "iopub.execute_input": "2025-02-25T16:37:38.302176Z",
          "iopub.status.busy": "2025-02-25T16:37:38.301901Z",
          "iopub.status.idle": "2025-02-25T16:37:38.319075Z",
          "shell.execute_reply": "2025-02-25T16:37:38.318273Z",
          "shell.execute_reply.started": "2025-02-25T16:37:38.302155Z"
        },
        "id": "eyidbm1SGdOS",
        "trusted": true
      },
      "outputs": [],
      "source": [
        "def load_data():\n",
        "    \"\"\"Load and prepare all data.\"\"\"\n",
        "    logger.info(\"Loading preprocessed data...\")\n",
        "    processed_train = pd.read_csv('/kaggle/input/sm-tec-generated-dataset/multilingual_processed_train_text.csv')\n",
        "    processed_val = pd.read_csv('/kaggle/input/sm-tec-generated-dataset/multilingual_processed_val_text.csv')\n",
        "\n",
        "    logger.info(\"Loading TF-IDF features...\")\n",
        "    train_tfidf = np.load('/kaggle/input/sm-tec-generated-dataset/multilingual_train_tfidf_features.npy')\n",
        "    val_tfidf = np.load('/kaggle/input/sm-tec-generated-dataset/multilingual_val_tfidf_features.npy')\n",
        "\n",
        "    logger.info(\"Loading Word2Vec features...\")\n",
        "    train_premise_w2v = np.load('/kaggle/input/sm-tec-generated-dataset/multilingual_train_premise_w2v.npy')\n",
        "    train_hypothesis_w2v = np.load('/kaggle/input/sm-tec-generated-dataset/multilingual_train_hypothesis_w2v.npy')\n",
        "    val_premise_w2v = np.load('/kaggle/input/sm-tec-generated-dataset/multilingual_val_premise_w2v.npy')\n",
        "    val_hypothesis_w2v = np.load('/kaggle/input/sm-tec-generated-dataset/multilingual_val_hypothesis_w2v.npy')\n",
        "\n",
        "    # Combine Word2Vec features\n",
        "    train_w2v_combined = np.concatenate([train_premise_w2v, train_hypothesis_w2v,\n",
        "                                       train_premise_w2v - train_hypothesis_w2v,\n",
        "                                       np.multiply(train_premise_w2v, train_hypothesis_w2v)], axis=1)\n",
        "    val_w2v_combined = np.concatenate([val_premise_w2v, val_hypothesis_w2v,\n",
        "                                     val_premise_w2v - val_hypothesis_w2v,\n",
        "                                     np.multiply(val_premise_w2v, val_hypothesis_w2v)], axis=1)\n",
        "\n",
        "    # Print shapes to debug\n",
        "    print(f\"Original data shapes:\")\n",
        "    print(f\"processed_train: {processed_train.shape}\")\n",
        "    print(f\"processed_val: {processed_val.shape}\")\n",
        "    print(f\"train_tfidf: {train_tfidf.shape}\")\n",
        "    print(f\"val_tfidf: {val_tfidf.shape}\")\n",
        "    print(f\"train_w2v_combined: {train_w2v_combined.shape}\")\n",
        "    print(f\"val_w2v_combined: {val_w2v_combined.shape}\")\n",
        "\n",
        "    # Check label distribution\n",
        "    print(\"\\nLabel distribution in training data:\")\n",
        "    print(processed_train['label'].value_counts(dropna=False))\n",
        "    print(\"\\nLabel distribution in validation data:\")\n",
        "    print(processed_val['label'].value_counts(dropna=False))\n",
        "\n",
        "    # Prepare labels (using integers directly)\n",
        "    y_train = processed_train['label'].values\n",
        "    y_val = processed_val['label'].values\n",
        "\n",
        "    # Check for NaN values\n",
        "    if np.isnan(y_train).any():\n",
        "        print(f\"Found {np.isnan(y_train).sum()} NaN values in y_train. Filling with 1...\")\n",
        "        y_train = np.nan_to_num(y_train, nan=1)\n",
        "    if np.isnan(y_val).any():\n",
        "        print(f\"Found {np.isnan(y_val).sum()} NaN values in y_val. Filling with 1...\")\n",
        "        y_val = np.nan_to_num(y_val, nan=1)\n",
        "\n",
        "    # Create texts for transformer models\n",
        "    train_texts = [{'premise': str(row['premise']), 'hypothesis': str(row['hypothesis'])}\n",
        "                   for _, row in processed_train.iterrows()]\n",
        "    val_texts = [{'premise': str(row['premise']), 'hypothesis': str(row['hypothesis'])}\n",
        "                 for _, row in processed_val.iterrows()]\n",
        "\n",
        "    # Define label map for interpretation\n",
        "    label_map = {0: \"entailment\", 1: \"neutral\", 2: \"contradiction\"}\n",
        "\n",
        "    return {\n",
        "        'processed_train': processed_train,\n",
        "        'processed_val': processed_val,\n",
        "        'train_tfidf': train_tfidf,\n",
        "        'val_tfidf': val_tfidf,\n",
        "        'train_w2v_combined': train_w2v_combined,\n",
        "        'val_w2v_combined': val_w2v_combined,\n",
        "        'y_train': y_train,\n",
        "        'y_val': y_val,\n",
        "        'train_texts': train_texts,\n",
        "        'val_texts': val_texts,\n",
        "        'label_map': label_map\n",
        "    }\n"
      ]
    },
    {
      "cell_type": "markdown",
      "metadata": {
        "id": "UcGKvQX_GdOW"
      },
      "source": [
        "# Set random seed for reproducibility"
      ]
    },
    {
      "cell_type": "code",
      "execution_count": null,
      "metadata": {
        "execution": {
          "iopub.execute_input": "2025-02-25T16:37:38.320463Z",
          "iopub.status.busy": "2025-02-25T16:37:38.32025Z",
          "iopub.status.idle": "2025-02-25T16:37:38.341727Z",
          "shell.execute_reply": "2025-02-25T16:37:38.341104Z",
          "shell.execute_reply.started": "2025-02-25T16:37:38.320444Z"
        },
        "id": "Gu21NFhWGdOX",
        "outputId": "dd057fd0-11eb-4b45-c21b-7804d3ea3e38",
        "trusted": true
      },
      "outputs": [
        {
          "name": "stdout",
          "output_type": "stream",
          "text": [
            "Using device: cuda\n"
          ]
        }
      ],
      "source": [
        "\n",
        "RANDOM_SEED = 42\n",
        "np.random.seed(RANDOM_SEED)\n",
        "torch.manual_seed(RANDOM_SEED)\n",
        "if torch.cuda.is_available():\n",
        "    torch.cuda.manual_seed_all(RANDOM_SEED)\n",
        "    print(f\"Using device: cuda\")\n",
        "else:\n",
        "    print(f\"Using device: cpu\")\n",
        "\n",
        "# Disable wandb if not using it\n",
        "import os\n",
        "os.environ[\"WANDB_DISABLED\"] = \"true\""
      ]
    },
    {
      "cell_type": "markdown",
      "metadata": {
        "id": "M7U6URl1GdOY"
      },
      "source": [
        "# Executing the load_data function"
      ]
    },
    {
      "cell_type": "code",
      "execution_count": null,
      "metadata": {
        "execution": {
          "iopub.execute_input": "2025-02-25T16:37:38.343658Z",
          "iopub.status.busy": "2025-02-25T16:37:38.343332Z",
          "iopub.status.idle": "2025-02-25T16:37:39.360953Z",
          "shell.execute_reply": "2025-02-25T16:37:39.360309Z",
          "shell.execute_reply.started": "2025-02-25T16:37:38.343635Z"
        },
        "id": "nXwpXq4TGdOZ",
        "outputId": "4fd2c7bd-5de6-4bca-8313-c89239bdf516",
        "trusted": true
      },
      "outputs": [
        {
          "name": "stdout",
          "output_type": "stream",
          "text": [
            "Original data shapes:\n",
            "processed_train: (9696, 19)\n",
            "processed_val: (2424, 19)\n",
            "train_tfidf: (9696, 10000)\n",
            "val_tfidf: (2424, 10000)\n",
            "train_w2v_combined: (9696, 1200)\n",
            "val_w2v_combined: (2424, 1200)\n",
            "\n",
            "Label distribution in training data:\n",
            "label\n",
            "0    3341\n",
            "2    3251\n",
            "1    3104\n",
            "Name: count, dtype: int64\n",
            "\n",
            "Label distribution in validation data:\n",
            "label\n",
            "0    835\n",
            "2    813\n",
            "1    776\n",
            "Name: count, dtype: int64\n"
          ]
        }
      ],
      "source": [
        "\n",
        "data = load_data()\n",
        "\n",
        "def preprocess_nli_dataset(texts, labels):\n",
        "    \"\"\"Convert to HuggingFace Dataset format\"\"\"\n",
        "    dataset_dict = {\n",
        "        'premise': [text['premise'] for text in texts],\n",
        "        'hypothesis': [text['hypothesis'] for text in texts],\n",
        "        'label': labels\n",
        "    }\n",
        "    return HFDataset.from_dict(dataset_dict)\n",
        "\n",
        "def tokenize_function(examples, tokenizer, max_length=128):\n",
        "    \"\"\"Tokenize premise and hypothesis pairs for BERT\"\"\"\n",
        "    return tokenizer(\n",
        "        examples['premise'],\n",
        "        examples['hypothesis'],\n",
        "        padding='max_length',\n",
        "        truncation=True,\n",
        "        max_length=max_length,\n",
        "        return_tensors=\"pt\"\n",
        "    )\n"
      ]
    },
    {
      "cell_type": "markdown",
      "metadata": {
        "id": "fhSi1doYGdOa"
      },
      "source": [
        "Compute Metrices\n",
        "--"
      ]
    },
    {
      "cell_type": "code",
      "execution_count": null,
      "metadata": {
        "execution": {
          "iopub.execute_input": "2025-02-25T16:37:39.362443Z",
          "iopub.status.busy": "2025-02-25T16:37:39.362047Z",
          "iopub.status.idle": "2025-02-25T16:37:39.367156Z",
          "shell.execute_reply": "2025-02-25T16:37:39.366391Z",
          "shell.execute_reply.started": "2025-02-25T16:37:39.362418Z"
        },
        "id": "tMZAhr8QGdOa",
        "trusted": true
      },
      "outputs": [],
      "source": [
        "def compute_metrics(pred):\n",
        "    \"\"\"\n",
        "    Computes accuracy and other metrics for evaluation\n",
        "    \"\"\"\n",
        "    labels = pred.label_ids\n",
        "    preds = pred.predictions.argmax(-1)\n",
        "\n",
        "    # Calculate accuracy\n",
        "    accuracy = accuracy_score(labels, preds)\n",
        "\n",
        "    # Generate full classification report\n",
        "    report = classification_report(labels, preds, output_dict=True)\n",
        "\n",
        "    return {\n",
        "        'accuracy': accuracy,\n",
        "        'f1': report['macro avg']['f1-score'],\n",
        "        'precision': report['macro avg']['precision'],\n",
        "        'recall': report['macro avg']['recall']\n",
        "    }"
      ]
    },
    {
      "cell_type": "markdown",
      "metadata": {
        "id": "kCoTaFK8GdOb"
      },
      "source": [
        "# Extract the data"
      ]
    },
    {
      "cell_type": "code",
      "execution_count": null,
      "metadata": {
        "execution": {
          "iopub.execute_input": "2025-02-25T16:37:39.36819Z",
          "iopub.status.busy": "2025-02-25T16:37:39.367887Z",
          "iopub.status.idle": "2025-02-25T16:37:39.386377Z",
          "shell.execute_reply": "2025-02-25T16:37:39.38552Z",
          "shell.execute_reply.started": "2025-02-25T16:37:39.36816Z"
        },
        "id": "UmEhu2x5GdOc",
        "outputId": "09149554-7fc1-493c-a8fc-f4e1229739f5",
        "trusted": true
      },
      "outputs": [
        {
          "name": "stdout",
          "output_type": "stream",
          "text": [
            "Training examples: 9696\n",
            "Validation examples: 2424\n"
          ]
        }
      ],
      "source": [
        "train_texts = data['train_texts']\n",
        "val_texts = data['val_texts']\n",
        "y_train = data['y_train']\n",
        "y_val = data['y_val']\n",
        "print(f\"Training examples: {len(train_texts)}\")\n",
        "print(f\"Validation examples: {len(val_texts)}\")"
      ]
    },
    {
      "cell_type": "markdown",
      "metadata": {
        "id": "WKvBCsa3GdOc"
      },
      "source": [
        "# For multilingual BERT, use 'bert-base-multilingual-cased'"
      ]
    },
    {
      "cell_type": "code",
      "execution_count": null,
      "metadata": {
        "execution": {
          "iopub.execute_input": "2025-02-25T16:37:39.387497Z",
          "iopub.status.busy": "2025-02-25T16:37:39.387239Z",
          "iopub.status.idle": "2025-02-25T16:37:39.76073Z",
          "shell.execute_reply": "2025-02-25T16:37:39.759802Z",
          "shell.execute_reply.started": "2025-02-25T16:37:39.387468Z"
        },
        "id": "DAG3yMY1GdOd",
        "trusted": true
      },
      "outputs": [],
      "source": [
        "model_name = 'bert-base-multilingual-cased'\n",
        "tokenizer = BertTokenizer.from_pretrained(model_name)"
      ]
    },
    {
      "cell_type": "code",
      "execution_count": null,
      "metadata": {
        "execution": {
          "iopub.execute_input": "2025-02-25T16:37:39.761998Z",
          "iopub.status.busy": "2025-02-25T16:37:39.761742Z",
          "iopub.status.idle": "2025-02-25T16:37:39.796282Z",
          "shell.execute_reply": "2025-02-25T16:37:39.795229Z",
          "shell.execute_reply.started": "2025-02-25T16:37:39.761975Z"
        },
        "id": "9_3kJxNOGdOd",
        "outputId": "02eb37e1-d3fd-42a3-8021-d98e300a9333",
        "trusted": true
      },
      "outputs": [
        {
          "name": "stdout",
          "output_type": "stream",
          "text": [
            "Converting datasets to HuggingFace format...\n"
          ]
        }
      ],
      "source": [
        "print(\"Converting datasets to HuggingFace format...\")\n",
        "train_dataset = preprocess_nli_dataset(train_texts, y_train)\n",
        "val_dataset = preprocess_nli_dataset(val_texts, y_val)"
      ]
    },
    {
      "cell_type": "code",
      "execution_count": null,
      "metadata": {
        "colab": {
          "referenced_widgets": [
            "0cfb6907d3214e40a3d9a3bde4709373",
            "611f7d74d7d74030bbd9906e0108ea13"
          ]
        },
        "execution": {
          "iopub.execute_input": "2025-02-25T16:37:39.798343Z",
          "iopub.status.busy": "2025-02-25T16:37:39.798087Z",
          "iopub.status.idle": "2025-02-25T16:37:51.994965Z",
          "shell.execute_reply": "2025-02-25T16:37:51.994361Z",
          "shell.execute_reply.started": "2025-02-25T16:37:39.79831Z"
        },
        "id": "LsjGFN5sGdOe",
        "outputId": "74f5fbc5-b6ac-44bb-ebe9-805f97b98fc5",
        "trusted": true
      },
      "outputs": [
        {
          "name": "stdout",
          "output_type": "stream",
          "text": [
            "Tokenizing datasets...\n"
          ]
        },
        {
          "data": {
            "application/vnd.jupyter.widget-view+json": {
              "model_id": "0cfb6907d3214e40a3d9a3bde4709373",
              "version_major": 2,
              "version_minor": 0
            },
            "text/plain": [
              "Map:   0%|          | 0/9696 [00:00<?, ? examples/s]"
            ]
          },
          "metadata": {},
          "output_type": "display_data"
        },
        {
          "name": "stderr",
          "output_type": "stream",
          "text": [
            "Be aware, overflowing tokens are not returned for the setting you have chosen, i.e. sequence pairs with the 'longest_first' truncation strategy. So the returned list will always be empty even if some tokens have been removed.\n",
            "Be aware, overflowing tokens are not returned for the setting you have chosen, i.e. sequence pairs with the 'longest_first' truncation strategy. So the returned list will always be empty even if some tokens have been removed.\n",
            "Be aware, overflowing tokens are not returned for the setting you have chosen, i.e. sequence pairs with the 'longest_first' truncation strategy. So the returned list will always be empty even if some tokens have been removed.\n",
            "Be aware, overflowing tokens are not returned for the setting you have chosen, i.e. sequence pairs with the 'longest_first' truncation strategy. So the returned list will always be empty even if some tokens have been removed.\n",
            "Be aware, overflowing tokens are not returned for the setting you have chosen, i.e. sequence pairs with the 'longest_first' truncation strategy. So the returned list will always be empty even if some tokens have been removed.\n",
            "Be aware, overflowing tokens are not returned for the setting you have chosen, i.e. sequence pairs with the 'longest_first' truncation strategy. So the returned list will always be empty even if some tokens have been removed.\n",
            "Be aware, overflowing tokens are not returned for the setting you have chosen, i.e. sequence pairs with the 'longest_first' truncation strategy. So the returned list will always be empty even if some tokens have been removed.\n",
            "Be aware, overflowing tokens are not returned for the setting you have chosen, i.e. sequence pairs with the 'longest_first' truncation strategy. So the returned list will always be empty even if some tokens have been removed.\n",
            "Be aware, overflowing tokens are not returned for the setting you have chosen, i.e. sequence pairs with the 'longest_first' truncation strategy. So the returned list will always be empty even if some tokens have been removed.\n",
            "Be aware, overflowing tokens are not returned for the setting you have chosen, i.e. sequence pairs with the 'longest_first' truncation strategy. So the returned list will always be empty even if some tokens have been removed.\n",
            "Be aware, overflowing tokens are not returned for the setting you have chosen, i.e. sequence pairs with the 'longest_first' truncation strategy. So the returned list will always be empty even if some tokens have been removed.\n",
            "Be aware, overflowing tokens are not returned for the setting you have chosen, i.e. sequence pairs with the 'longest_first' truncation strategy. So the returned list will always be empty even if some tokens have been removed.\n",
            "Be aware, overflowing tokens are not returned for the setting you have chosen, i.e. sequence pairs with the 'longest_first' truncation strategy. So the returned list will always be empty even if some tokens have been removed.\n",
            "Be aware, overflowing tokens are not returned for the setting you have chosen, i.e. sequence pairs with the 'longest_first' truncation strategy. So the returned list will always be empty even if some tokens have been removed.\n",
            "Be aware, overflowing tokens are not returned for the setting you have chosen, i.e. sequence pairs with the 'longest_first' truncation strategy. So the returned list will always be empty even if some tokens have been removed.\n",
            "Be aware, overflowing tokens are not returned for the setting you have chosen, i.e. sequence pairs with the 'longest_first' truncation strategy. So the returned list will always be empty even if some tokens have been removed.\n",
            "Be aware, overflowing tokens are not returned for the setting you have chosen, i.e. sequence pairs with the 'longest_first' truncation strategy. So the returned list will always be empty even if some tokens have been removed.\n",
            "Be aware, overflowing tokens are not returned for the setting you have chosen, i.e. sequence pairs with the 'longest_first' truncation strategy. So the returned list will always be empty even if some tokens have been removed.\n",
            "Be aware, overflowing tokens are not returned for the setting you have chosen, i.e. sequence pairs with the 'longest_first' truncation strategy. So the returned list will always be empty even if some tokens have been removed.\n",
            "Be aware, overflowing tokens are not returned for the setting you have chosen, i.e. sequence pairs with the 'longest_first' truncation strategy. So the returned list will always be empty even if some tokens have been removed.\n",
            "Be aware, overflowing tokens are not returned for the setting you have chosen, i.e. sequence pairs with the 'longest_first' truncation strategy. So the returned list will always be empty even if some tokens have been removed.\n",
            "Be aware, overflowing tokens are not returned for the setting you have chosen, i.e. sequence pairs with the 'longest_first' truncation strategy. So the returned list will always be empty even if some tokens have been removed.\n",
            "Be aware, overflowing tokens are not returned for the setting you have chosen, i.e. sequence pairs with the 'longest_first' truncation strategy. So the returned list will always be empty even if some tokens have been removed.\n",
            "Be aware, overflowing tokens are not returned for the setting you have chosen, i.e. sequence pairs with the 'longest_first' truncation strategy. So the returned list will always be empty even if some tokens have been removed.\n",
            "Be aware, overflowing tokens are not returned for the setting you have chosen, i.e. sequence pairs with the 'longest_first' truncation strategy. So the returned list will always be empty even if some tokens have been removed.\n",
            "Be aware, overflowing tokens are not returned for the setting you have chosen, i.e. sequence pairs with the 'longest_first' truncation strategy. So the returned list will always be empty even if some tokens have been removed.\n",
            "Be aware, overflowing tokens are not returned for the setting you have chosen, i.e. sequence pairs with the 'longest_first' truncation strategy. So the returned list will always be empty even if some tokens have been removed.\n",
            "Be aware, overflowing tokens are not returned for the setting you have chosen, i.e. sequence pairs with the 'longest_first' truncation strategy. So the returned list will always be empty even if some tokens have been removed.\n",
            "Be aware, overflowing tokens are not returned for the setting you have chosen, i.e. sequence pairs with the 'longest_first' truncation strategy. So the returned list will always be empty even if some tokens have been removed.\n",
            "Be aware, overflowing tokens are not returned for the setting you have chosen, i.e. sequence pairs with the 'longest_first' truncation strategy. So the returned list will always be empty even if some tokens have been removed.\n",
            "Be aware, overflowing tokens are not returned for the setting you have chosen, i.e. sequence pairs with the 'longest_first' truncation strategy. So the returned list will always be empty even if some tokens have been removed.\n",
            "Be aware, overflowing tokens are not returned for the setting you have chosen, i.e. sequence pairs with the 'longest_first' truncation strategy. So the returned list will always be empty even if some tokens have been removed.\n",
            "Be aware, overflowing tokens are not returned for the setting you have chosen, i.e. sequence pairs with the 'longest_first' truncation strategy. So the returned list will always be empty even if some tokens have been removed.\n",
            "Be aware, overflowing tokens are not returned for the setting you have chosen, i.e. sequence pairs with the 'longest_first' truncation strategy. So the returned list will always be empty even if some tokens have been removed.\n",
            "Be aware, overflowing tokens are not returned for the setting you have chosen, i.e. sequence pairs with the 'longest_first' truncation strategy. So the returned list will always be empty even if some tokens have been removed.\n",
            "Be aware, overflowing tokens are not returned for the setting you have chosen, i.e. sequence pairs with the 'longest_first' truncation strategy. So the returned list will always be empty even if some tokens have been removed.\n",
            "Be aware, overflowing tokens are not returned for the setting you have chosen, i.e. sequence pairs with the 'longest_first' truncation strategy. So the returned list will always be empty even if some tokens have been removed.\n",
            "Be aware, overflowing tokens are not returned for the setting you have chosen, i.e. sequence pairs with the 'longest_first' truncation strategy. So the returned list will always be empty even if some tokens have been removed.\n",
            "Be aware, overflowing tokens are not returned for the setting you have chosen, i.e. sequence pairs with the 'longest_first' truncation strategy. So the returned list will always be empty even if some tokens have been removed.\n",
            "Be aware, overflowing tokens are not returned for the setting you have chosen, i.e. sequence pairs with the 'longest_first' truncation strategy. So the returned list will always be empty even if some tokens have been removed.\n",
            "Be aware, overflowing tokens are not returned for the setting you have chosen, i.e. sequence pairs with the 'longest_first' truncation strategy. So the returned list will always be empty even if some tokens have been removed.\n",
            "Be aware, overflowing tokens are not returned for the setting you have chosen, i.e. sequence pairs with the 'longest_first' truncation strategy. So the returned list will always be empty even if some tokens have been removed.\n",
            "Be aware, overflowing tokens are not returned for the setting you have chosen, i.e. sequence pairs with the 'longest_first' truncation strategy. So the returned list will always be empty even if some tokens have been removed.\n",
            "Be aware, overflowing tokens are not returned for the setting you have chosen, i.e. sequence pairs with the 'longest_first' truncation strategy. So the returned list will always be empty even if some tokens have been removed.\n",
            "Be aware, overflowing tokens are not returned for the setting you have chosen, i.e. sequence pairs with the 'longest_first' truncation strategy. So the returned list will always be empty even if some tokens have been removed.\n",
            "Be aware, overflowing tokens are not returned for the setting you have chosen, i.e. sequence pairs with the 'longest_first' truncation strategy. So the returned list will always be empty even if some tokens have been removed.\n",
            "Be aware, overflowing tokens are not returned for the setting you have chosen, i.e. sequence pairs with the 'longest_first' truncation strategy. So the returned list will always be empty even if some tokens have been removed.\n",
            "Be aware, overflowing tokens are not returned for the setting you have chosen, i.e. sequence pairs with the 'longest_first' truncation strategy. So the returned list will always be empty even if some tokens have been removed.\n",
            "Be aware, overflowing tokens are not returned for the setting you have chosen, i.e. sequence pairs with the 'longest_first' truncation strategy. So the returned list will always be empty even if some tokens have been removed.\n",
            "Be aware, overflowing tokens are not returned for the setting you have chosen, i.e. sequence pairs with the 'longest_first' truncation strategy. So the returned list will always be empty even if some tokens have been removed.\n",
            "Be aware, overflowing tokens are not returned for the setting you have chosen, i.e. sequence pairs with the 'longest_first' truncation strategy. So the returned list will always be empty even if some tokens have been removed.\n",
            "Be aware, overflowing tokens are not returned for the setting you have chosen, i.e. sequence pairs with the 'longest_first' truncation strategy. So the returned list will always be empty even if some tokens have been removed.\n",
            "Be aware, overflowing tokens are not returned for the setting you have chosen, i.e. sequence pairs with the 'longest_first' truncation strategy. So the returned list will always be empty even if some tokens have been removed.\n",
            "Be aware, overflowing tokens are not returned for the setting you have chosen, i.e. sequence pairs with the 'longest_first' truncation strategy. So the returned list will always be empty even if some tokens have been removed.\n",
            "Be aware, overflowing tokens are not returned for the setting you have chosen, i.e. sequence pairs with the 'longest_first' truncation strategy. So the returned list will always be empty even if some tokens have been removed.\n",
            "Be aware, overflowing tokens are not returned for the setting you have chosen, i.e. sequence pairs with the 'longest_first' truncation strategy. So the returned list will always be empty even if some tokens have been removed.\n",
            "Be aware, overflowing tokens are not returned for the setting you have chosen, i.e. sequence pairs with the 'longest_first' truncation strategy. So the returned list will always be empty even if some tokens have been removed.\n",
            "Be aware, overflowing tokens are not returned for the setting you have chosen, i.e. sequence pairs with the 'longest_first' truncation strategy. So the returned list will always be empty even if some tokens have been removed.\n",
            "Be aware, overflowing tokens are not returned for the setting you have chosen, i.e. sequence pairs with the 'longest_first' truncation strategy. So the returned list will always be empty even if some tokens have been removed.\n",
            "Be aware, overflowing tokens are not returned for the setting you have chosen, i.e. sequence pairs with the 'longest_first' truncation strategy. So the returned list will always be empty even if some tokens have been removed.\n",
            "Be aware, overflowing tokens are not returned for the setting you have chosen, i.e. sequence pairs with the 'longest_first' truncation strategy. So the returned list will always be empty even if some tokens have been removed.\n",
            "Be aware, overflowing tokens are not returned for the setting you have chosen, i.e. sequence pairs with the 'longest_first' truncation strategy. So the returned list will always be empty even if some tokens have been removed.\n",
            "Be aware, overflowing tokens are not returned for the setting you have chosen, i.e. sequence pairs with the 'longest_first' truncation strategy. So the returned list will always be empty even if some tokens have been removed.\n",
            "Be aware, overflowing tokens are not returned for the setting you have chosen, i.e. sequence pairs with the 'longest_first' truncation strategy. So the returned list will always be empty even if some tokens have been removed.\n",
            "Be aware, overflowing tokens are not returned for the setting you have chosen, i.e. sequence pairs with the 'longest_first' truncation strategy. So the returned list will always be empty even if some tokens have been removed.\n",
            "Be aware, overflowing tokens are not returned for the setting you have chosen, i.e. sequence pairs with the 'longest_first' truncation strategy. So the returned list will always be empty even if some tokens have been removed.\n",
            "Be aware, overflowing tokens are not returned for the setting you have chosen, i.e. sequence pairs with the 'longest_first' truncation strategy. So the returned list will always be empty even if some tokens have been removed.\n",
            "Be aware, overflowing tokens are not returned for the setting you have chosen, i.e. sequence pairs with the 'longest_first' truncation strategy. So the returned list will always be empty even if some tokens have been removed.\n",
            "Be aware, overflowing tokens are not returned for the setting you have chosen, i.e. sequence pairs with the 'longest_first' truncation strategy. So the returned list will always be empty even if some tokens have been removed.\n",
            "Be aware, overflowing tokens are not returned for the setting you have chosen, i.e. sequence pairs with the 'longest_first' truncation strategy. So the returned list will always be empty even if some tokens have been removed.\n",
            "Be aware, overflowing tokens are not returned for the setting you have chosen, i.e. sequence pairs with the 'longest_first' truncation strategy. So the returned list will always be empty even if some tokens have been removed.\n",
            "Be aware, overflowing tokens are not returned for the setting you have chosen, i.e. sequence pairs with the 'longest_first' truncation strategy. So the returned list will always be empty even if some tokens have been removed.\n",
            "Be aware, overflowing tokens are not returned for the setting you have chosen, i.e. sequence pairs with the 'longest_first' truncation strategy. So the returned list will always be empty even if some tokens have been removed.\n",
            "Be aware, overflowing tokens are not returned for the setting you have chosen, i.e. sequence pairs with the 'longest_first' truncation strategy. So the returned list will always be empty even if some tokens have been removed.\n",
            "Be aware, overflowing tokens are not returned for the setting you have chosen, i.e. sequence pairs with the 'longest_first' truncation strategy. So the returned list will always be empty even if some tokens have been removed.\n",
            "Be aware, overflowing tokens are not returned for the setting you have chosen, i.e. sequence pairs with the 'longest_first' truncation strategy. So the returned list will always be empty even if some tokens have been removed.\n",
            "Be aware, overflowing tokens are not returned for the setting you have chosen, i.e. sequence pairs with the 'longest_first' truncation strategy. So the returned list will always be empty even if some tokens have been removed.\n",
            "Be aware, overflowing tokens are not returned for the setting you have chosen, i.e. sequence pairs with the 'longest_first' truncation strategy. So the returned list will always be empty even if some tokens have been removed.\n",
            "Be aware, overflowing tokens are not returned for the setting you have chosen, i.e. sequence pairs with the 'longest_first' truncation strategy. So the returned list will always be empty even if some tokens have been removed.\n",
            "Be aware, overflowing tokens are not returned for the setting you have chosen, i.e. sequence pairs with the 'longest_first' truncation strategy. So the returned list will always be empty even if some tokens have been removed.\n",
            "Be aware, overflowing tokens are not returned for the setting you have chosen, i.e. sequence pairs with the 'longest_first' truncation strategy. So the returned list will always be empty even if some tokens have been removed.\n",
            "Be aware, overflowing tokens are not returned for the setting you have chosen, i.e. sequence pairs with the 'longest_first' truncation strategy. So the returned list will always be empty even if some tokens have been removed.\n",
            "Be aware, overflowing tokens are not returned for the setting you have chosen, i.e. sequence pairs with the 'longest_first' truncation strategy. So the returned list will always be empty even if some tokens have been removed.\n",
            "Be aware, overflowing tokens are not returned for the setting you have chosen, i.e. sequence pairs with the 'longest_first' truncation strategy. So the returned list will always be empty even if some tokens have been removed.\n",
            "Be aware, overflowing tokens are not returned for the setting you have chosen, i.e. sequence pairs with the 'longest_first' truncation strategy. So the returned list will always be empty even if some tokens have been removed.\n",
            "Be aware, overflowing tokens are not returned for the setting you have chosen, i.e. sequence pairs with the 'longest_first' truncation strategy. So the returned list will always be empty even if some tokens have been removed.\n",
            "Be aware, overflowing tokens are not returned for the setting you have chosen, i.e. sequence pairs with the 'longest_first' truncation strategy. So the returned list will always be empty even if some tokens have been removed.\n"
          ]
        },
        {
          "data": {
            "application/vnd.jupyter.widget-view+json": {
              "model_id": "611f7d74d7d74030bbd9906e0108ea13",
              "version_major": 2,
              "version_minor": 0
            },
            "text/plain": [
              "Map:   0%|          | 0/2424 [00:00<?, ? examples/s]"
            ]
          },
          "metadata": {},
          "output_type": "display_data"
        },
        {
          "name": "stderr",
          "output_type": "stream",
          "text": [
            "Be aware, overflowing tokens are not returned for the setting you have chosen, i.e. sequence pairs with the 'longest_first' truncation strategy. So the returned list will always be empty even if some tokens have been removed.\n",
            "Be aware, overflowing tokens are not returned for the setting you have chosen, i.e. sequence pairs with the 'longest_first' truncation strategy. So the returned list will always be empty even if some tokens have been removed.\n",
            "Be aware, overflowing tokens are not returned for the setting you have chosen, i.e. sequence pairs with the 'longest_first' truncation strategy. So the returned list will always be empty even if some tokens have been removed.\n",
            "Be aware, overflowing tokens are not returned for the setting you have chosen, i.e. sequence pairs with the 'longest_first' truncation strategy. So the returned list will always be empty even if some tokens have been removed.\n",
            "Be aware, overflowing tokens are not returned for the setting you have chosen, i.e. sequence pairs with the 'longest_first' truncation strategy. So the returned list will always be empty even if some tokens have been removed.\n",
            "Be aware, overflowing tokens are not returned for the setting you have chosen, i.e. sequence pairs with the 'longest_first' truncation strategy. So the returned list will always be empty even if some tokens have been removed.\n",
            "Be aware, overflowing tokens are not returned for the setting you have chosen, i.e. sequence pairs with the 'longest_first' truncation strategy. So the returned list will always be empty even if some tokens have been removed.\n",
            "Be aware, overflowing tokens are not returned for the setting you have chosen, i.e. sequence pairs with the 'longest_first' truncation strategy. So the returned list will always be empty even if some tokens have been removed.\n",
            "Be aware, overflowing tokens are not returned for the setting you have chosen, i.e. sequence pairs with the 'longest_first' truncation strategy. So the returned list will always be empty even if some tokens have been removed.\n",
            "Be aware, overflowing tokens are not returned for the setting you have chosen, i.e. sequence pairs with the 'longest_first' truncation strategy. So the returned list will always be empty even if some tokens have been removed.\n",
            "Be aware, overflowing tokens are not returned for the setting you have chosen, i.e. sequence pairs with the 'longest_first' truncation strategy. So the returned list will always be empty even if some tokens have been removed.\n",
            "Be aware, overflowing tokens are not returned for the setting you have chosen, i.e. sequence pairs with the 'longest_first' truncation strategy. So the returned list will always be empty even if some tokens have been removed.\n",
            "Be aware, overflowing tokens are not returned for the setting you have chosen, i.e. sequence pairs with the 'longest_first' truncation strategy. So the returned list will always be empty even if some tokens have been removed.\n",
            "Be aware, overflowing tokens are not returned for the setting you have chosen, i.e. sequence pairs with the 'longest_first' truncation strategy. So the returned list will always be empty even if some tokens have been removed.\n",
            "Be aware, overflowing tokens are not returned for the setting you have chosen, i.e. sequence pairs with the 'longest_first' truncation strategy. So the returned list will always be empty even if some tokens have been removed.\n",
            "Be aware, overflowing tokens are not returned for the setting you have chosen, i.e. sequence pairs with the 'longest_first' truncation strategy. So the returned list will always be empty even if some tokens have been removed.\n",
            "Be aware, overflowing tokens are not returned for the setting you have chosen, i.e. sequence pairs with the 'longest_first' truncation strategy. So the returned list will always be empty even if some tokens have been removed.\n",
            "Be aware, overflowing tokens are not returned for the setting you have chosen, i.e. sequence pairs with the 'longest_first' truncation strategy. So the returned list will always be empty even if some tokens have been removed.\n",
            "Be aware, overflowing tokens are not returned for the setting you have chosen, i.e. sequence pairs with the 'longest_first' truncation strategy. So the returned list will always be empty even if some tokens have been removed.\n"
          ]
        },
        {
          "name": "stdout",
          "output_type": "stream",
          "text": [
            "Using device: cuda\n"
          ]
        },
        {
          "name": "stderr",
          "output_type": "stream",
          "text": [
            "Some weights of BertForSequenceClassification were not initialized from the model checkpoint at bert-base-multilingual-cased and are newly initialized: ['classifier.bias', 'classifier.weight']\n",
            "You should probably TRAIN this model on a down-stream task to be able to use it for predictions and inference.\n"
          ]
        }
      ],
      "source": [
        "print(\"Tokenizing datasets...\")\n",
        "tokenized_train = train_dataset.map(\n",
        "    lambda examples: tokenize_function(examples, tokenizer, max_length=128),\n",
        "    batched=True\n",
        ")\n",
        "tokenized_val = val_dataset.map(\n",
        "    lambda examples: tokenize_function(examples, tokenizer, max_length=128),\n",
        "    batched=True\n",
        ")\n",
        "\n",
        "tokenized_train.set_format(\n",
        "    type='torch',\n",
        "    columns=['input_ids', 'attention_mask', 'token_type_ids', 'label']\n",
        ")\n",
        "tokenized_val.set_format(\n",
        "    type='torch',\n",
        "    columns=['input_ids', 'attention_mask', 'token_type_ids', 'label']\n",
        ")\n",
        "\n",
        "# Define device for PyTorch\n",
        "device = torch.device(\"cuda\" if torch.cuda.is_available() else \"cpu\")\n",
        "print(f\"Using device: {device}\")\n",
        "\n",
        "# Initialize BERT model\n",
        "model = BertForSequenceClassification.from_pretrained(\n",
        "    model_name,\n",
        "    num_labels=3  # entailment, neutral, contradiction\n",
        ")\n",
        "model.to(device)\n",
        "\n",
        "model_id = f\"bert-nli-{datetime.now().strftime('%Y-%m-%d-%H-%M')}\"\n",
        "output_dir = f\"./models/{model_id}\""
      ]
    },
    {
      "cell_type": "markdown",
      "metadata": {
        "id": "9DMC4IUBGdOf"
      },
      "source": [
        "\n",
        "# Set up training arguments"
      ]
    },
    {
      "cell_type": "code",
      "execution_count": null,
      "metadata": {
        "execution": {
          "iopub.execute_input": "2025-02-25T16:37:51.995983Z",
          "iopub.status.busy": "2025-02-25T16:37:51.995775Z",
          "iopub.status.idle": "2025-02-25T16:37:52.234026Z",
          "shell.execute_reply": "2025-02-25T16:37:52.233394Z",
          "shell.execute_reply.started": "2025-02-25T16:37:51.995965Z"
        },
        "id": "iNux-MZnGdOf",
        "outputId": "70a769d5-3c64-40b6-a5a9-155bdbf04e3d",
        "trusted": true
      },
      "outputs": [
        {
          "name": "stderr",
          "output_type": "stream",
          "text": [
            "/usr/local/lib/python3.10/dist-packages/transformers/training_args.py:1575: FutureWarning: `evaluation_strategy` is deprecated and will be removed in version 4.46 of 🤗 Transformers. Use `eval_strategy` instead\n",
            "  warnings.warn(\n",
            "Using the `WANDB_DISABLED` environment variable is deprecated and will be removed in v5. Use the --report_to flag to control the integrations used for logging result (for instance --report_to none).\n"
          ]
        }
      ],
      "source": [
        "training_args = TrainingArguments(\n",
        "    output_dir=output_dir,\n",
        "    num_train_epochs=8,\n",
        "    per_device_train_batch_size=16,  # Adjust based on your GPU memory\n",
        "    per_device_eval_batch_size=32,\n",
        "    warmup_steps=500,\n",
        "    weight_decay=0.01,\n",
        "    logging_dir=f\"{output_dir}/logs\",\n",
        "    logging_steps=100,\n",
        "    evaluation_strategy=\"epoch\",\n",
        "    save_strategy=\"epoch\",\n",
        "    load_best_model_at_end=True,\n",
        "    metric_for_best_model=\"accuracy\",\n",
        "    push_to_hub=False,  # We'll push manually after training\n",
        "    hub_strategy=\"end\",\n",
        "    fp16=torch.cuda.is_available(),  # Use mixed precision if GPU is available\n",
        ")\n",
        "\n",
        "trainer = Trainer(\n",
        "    model=model,\n",
        "    args=training_args,\n",
        "    train_dataset=tokenized_train,\n",
        "    eval_dataset=tokenized_val,\n",
        "    compute_metrics=compute_metrics\n",
        ")"
      ]
    },
    {
      "cell_type": "markdown",
      "metadata": {
        "id": "7EN_YC6_GdOg"
      },
      "source": [
        "# Train the model"
      ]
    },
    {
      "cell_type": "code",
      "execution_count": null,
      "metadata": {
        "execution": {
          "iopub.execute_input": "2025-02-25T16:37:52.235088Z",
          "iopub.status.busy": "2025-02-25T16:37:52.23479Z",
          "iopub.status.idle": "2025-02-25T17:01:24.304308Z",
          "shell.execute_reply": "2025-02-25T17:01:24.303606Z",
          "shell.execute_reply.started": "2025-02-25T16:37:52.235059Z"
        },
        "id": "POvLnZMfGdOg",
        "outputId": "63d4a859-5d4e-42bb-c8b6-31f63c837ab3",
        "trusted": true
      },
      "outputs": [
        {
          "name": "stdout",
          "output_type": "stream",
          "text": [
            "Starting training...\n"
          ]
        },
        {
          "name": "stderr",
          "output_type": "stream",
          "text": [
            "/usr/local/lib/python3.10/dist-packages/torch/nn/parallel/_functions.py:71: UserWarning: Was asked to gather along dimension 0, but all input tensors were scalars; will instead unsqueeze and return a vector.\n",
            "  warnings.warn(\n"
          ]
        },
        {
          "data": {
            "text/html": [
              "\n",
              "    <div>\n",
              "      \n",
              "      <progress value='2424' max='2424' style='width:300px; height:20px; vertical-align: middle;'></progress>\n",
              "      [2424/2424 23:30, Epoch 8/8]\n",
              "    </div>\n",
              "    <table border=\"1\" class=\"dataframe\">\n",
              "  <thead>\n",
              " <tr style=\"text-align: left;\">\n",
              "      <th>Epoch</th>\n",
              "      <th>Training Loss</th>\n",
              "      <th>Validation Loss</th>\n",
              "      <th>Accuracy</th>\n",
              "      <th>F1</th>\n",
              "      <th>Precision</th>\n",
              "      <th>Recall</th>\n",
              "    </tr>\n",
              "  </thead>\n",
              "  <tbody>\n",
              "    <tr>\n",
              "      <td>1</td>\n",
              "      <td>0.906200</td>\n",
              "      <td>0.833884</td>\n",
              "      <td>0.627063</td>\n",
              "      <td>0.625283</td>\n",
              "      <td>0.632224</td>\n",
              "      <td>0.627717</td>\n",
              "    </tr>\n",
              "    <tr>\n",
              "      <td>2</td>\n",
              "      <td>0.797800</td>\n",
              "      <td>0.826642</td>\n",
              "      <td>0.647277</td>\n",
              "      <td>0.647450</td>\n",
              "      <td>0.665893</td>\n",
              "      <td>0.649749</td>\n",
              "    </tr>\n",
              "    <tr>\n",
              "      <td>3</td>\n",
              "      <td>0.502700</td>\n",
              "      <td>0.890639</td>\n",
              "      <td>0.667492</td>\n",
              "      <td>0.666945</td>\n",
              "      <td>0.667302</td>\n",
              "      <td>0.666841</td>\n",
              "    </tr>\n",
              "    <tr>\n",
              "      <td>4</td>\n",
              "      <td>0.285100</td>\n",
              "      <td>1.153195</td>\n",
              "      <td>0.655528</td>\n",
              "      <td>0.654849</td>\n",
              "      <td>0.662618</td>\n",
              "      <td>0.654627</td>\n",
              "    </tr>\n",
              "    <tr>\n",
              "      <td>5</td>\n",
              "      <td>0.161000</td>\n",
              "      <td>1.460035</td>\n",
              "      <td>0.663779</td>\n",
              "      <td>0.663362</td>\n",
              "      <td>0.663524</td>\n",
              "      <td>0.663325</td>\n",
              "    </tr>\n",
              "    <tr>\n",
              "      <td>6</td>\n",
              "      <td>0.121900</td>\n",
              "      <td>2.287509</td>\n",
              "      <td>0.671617</td>\n",
              "      <td>0.670535</td>\n",
              "      <td>0.671356</td>\n",
              "      <td>0.670583</td>\n",
              "    </tr>\n",
              "    <tr>\n",
              "      <td>7</td>\n",
              "      <td>0.117300</td>\n",
              "      <td>3.928609</td>\n",
              "      <td>0.659653</td>\n",
              "      <td>0.659690</td>\n",
              "      <td>0.661187</td>\n",
              "      <td>0.659720</td>\n",
              "    </tr>\n",
              "    <tr>\n",
              "      <td>8</td>\n",
              "      <td>0.088000</td>\n",
              "      <td>4.888852</td>\n",
              "      <td>0.659241</td>\n",
              "      <td>0.658896</td>\n",
              "      <td>0.661516</td>\n",
              "      <td>0.658781</td>\n",
              "    </tr>\n",
              "  </tbody>\n",
              "</table><p>"
            ],
            "text/plain": [
              "<IPython.core.display.HTML object>"
            ]
          },
          "metadata": {},
          "output_type": "display_data"
        },
        {
          "name": "stderr",
          "output_type": "stream",
          "text": [
            "/usr/local/lib/python3.10/dist-packages/torch/nn/parallel/_functions.py:71: UserWarning: Was asked to gather along dimension 0, but all input tensors were scalars; will instead unsqueeze and return a vector.\n",
            "  warnings.warn(\n",
            "/usr/local/lib/python3.10/dist-packages/torch/nn/parallel/_functions.py:71: UserWarning: Was asked to gather along dimension 0, but all input tensors were scalars; will instead unsqueeze and return a vector.\n",
            "  warnings.warn(\n",
            "/usr/local/lib/python3.10/dist-packages/torch/nn/parallel/_functions.py:71: UserWarning: Was asked to gather along dimension 0, but all input tensors were scalars; will instead unsqueeze and return a vector.\n",
            "  warnings.warn(\n",
            "/usr/local/lib/python3.10/dist-packages/torch/nn/parallel/_functions.py:71: UserWarning: Was asked to gather along dimension 0, but all input tensors were scalars; will instead unsqueeze and return a vector.\n",
            "  warnings.warn(\n",
            "/usr/local/lib/python3.10/dist-packages/torch/nn/parallel/_functions.py:71: UserWarning: Was asked to gather along dimension 0, but all input tensors were scalars; will instead unsqueeze and return a vector.\n",
            "  warnings.warn(\n",
            "/usr/local/lib/python3.10/dist-packages/torch/nn/parallel/_functions.py:71: UserWarning: Was asked to gather along dimension 0, but all input tensors were scalars; will instead unsqueeze and return a vector.\n",
            "  warnings.warn(\n",
            "/usr/local/lib/python3.10/dist-packages/torch/nn/parallel/_functions.py:71: UserWarning: Was asked to gather along dimension 0, but all input tensors were scalars; will instead unsqueeze and return a vector.\n",
            "  warnings.warn(\n",
            "/usr/local/lib/python3.10/dist-packages/torch/nn/parallel/_functions.py:71: UserWarning: Was asked to gather along dimension 0, but all input tensors were scalars; will instead unsqueeze and return a vector.\n",
            "  warnings.warn(\n"
          ]
        },
        {
          "data": {
            "text/plain": [
              "TrainOutput(global_step=2424, training_loss=0.37980907358745536, metrics={'train_runtime': 1411.1231, 'train_samples_per_second': 54.969, 'train_steps_per_second': 1.718, 'total_flos': 5102295396581376.0, 'train_loss': 0.37980907358745536, 'epoch': 8.0})"
            ]
          },
          "execution_count": 95,
          "metadata": {},
          "output_type": "execute_result"
        }
      ],
      "source": [
        "print(\"Starting training...\")\n",
        "trainer.train()\n"
      ]
    },
    {
      "cell_type": "markdown",
      "metadata": {
        "id": "IdT599uYGdOh"
      },
      "source": [
        "# Evaluate model and show detailed metrics"
      ]
    },
    {
      "cell_type": "code",
      "execution_count": null,
      "metadata": {
        "execution": {
          "iopub.execute_input": "2025-02-25T17:01:51.330238Z",
          "iopub.status.busy": "2025-02-25T17:01:51.329883Z",
          "iopub.status.idle": "2025-02-25T17:02:02.325398Z",
          "shell.execute_reply": "2025-02-25T17:02:02.324546Z",
          "shell.execute_reply.started": "2025-02-25T17:01:51.330208Z"
        },
        "id": "r2EBUOZpGdOi",
        "outputId": "4f89b588-cef3-4fb2-f8b7-b485a60e3194",
        "trusted": true
      },
      "outputs": [
        {
          "name": "stdout",
          "output_type": "stream",
          "text": [
            "Evaluating model...\n"
          ]
        },
        {
          "name": "stderr",
          "output_type": "stream",
          "text": [
            "/usr/local/lib/python3.10/dist-packages/torch/nn/parallel/_functions.py:71: UserWarning: Was asked to gather along dimension 0, but all input tensors were scalars; will instead unsqueeze and return a vector.\n",
            "  warnings.warn(\n"
          ]
        },
        {
          "data": {
            "text/html": [],
            "text/plain": [
              "<IPython.core.display.HTML object>"
            ]
          },
          "metadata": {},
          "output_type": "display_data"
        },
        {
          "name": "stdout",
          "output_type": "stream",
          "text": [
            "{'eval_loss': 2.287508964538574, 'eval_accuracy': 0.6716171617161716, 'eval_f1': 0.6705346082358804, 'eval_precision': 0.6713555180386915, 'eval_recall': 0.6705832169748329, 'eval_runtime': 10.9855, 'eval_samples_per_second': 220.654, 'eval_steps_per_second': 3.459, 'epoch': 8.0}\n"
          ]
        }
      ],
      "source": [
        "print(\"Evaluating model...\")\n",
        "eval_result = trainer.evaluate()\n",
        "print(eval_result)"
      ]
    },
    {
      "cell_type": "markdown",
      "metadata": {
        "id": "GL4W_DB9GdOi"
      },
      "source": [
        "# For detailed evaluation with ROC curves and confusion matrix"
      ]
    },
    {
      "cell_type": "code",
      "execution_count": null,
      "metadata": {
        "execution": {
          "iopub.execute_input": "2025-02-25T17:02:05.620637Z",
          "iopub.status.busy": "2025-02-25T17:02:05.620342Z",
          "iopub.status.idle": "2025-02-25T17:02:05.628586Z",
          "shell.execute_reply": "2025-02-25T17:02:05.627791Z",
          "shell.execute_reply.started": "2025-02-25T17:02:05.620612Z"
        },
        "id": "L5kK05SFGdOi",
        "trusted": true
      },
      "outputs": [],
      "source": [
        "from sklearn.metrics import accuracy_score, precision_score, recall_score, f1_score\n",
        "from sklearn.metrics import confusion_matrix, roc_auc_score, roc_curve\n",
        "import matplotlib.pyplot as plt\n",
        "import seaborn as sns\n",
        "import torch.nn.functional as F\n",
        "\n",
        "def detailed_metrics(pred):\n",
        "    labels = pred.label_ids\n",
        "    logits = pred.predictions\n",
        "\n",
        "    # Convert logits to probabilities\n",
        "    pred_probs = F.softmax(torch.tensor(logits), dim=1).numpy()\n",
        "    preds = np.argmax(pred_probs, axis=-1)\n",
        "\n",
        "    # Calculate basic metrics\n",
        "    accuracy = accuracy_score(labels, preds)\n",
        "    precision = precision_score(labels, preds, average='macro')\n",
        "    recall = recall_score(labels, preds, average='macro')\n",
        "    f1 = f1_score(labels, preds, average='macro')\n",
        "\n",
        "    # Confusion matrix\n",
        "    cm = confusion_matrix(labels, preds)\n",
        "    print(\"Confusion Matrix:\\n\", cm)\n",
        "\n",
        "    # ROC-AUC (One-vs-Rest for multiclass)\n",
        "    roc_auc = roc_auc_score(labels, pred_probs, multi_class='ovr')\n",
        "    print(\"ROC-AUC Score:\", roc_auc)\n",
        "\n",
        "    # Plot ROC Curve and Confusion Matrix\n",
        "    plt.figure(figsize=(14, 6))\n",
        "\n",
        "    # ROC Curve\n",
        "    plt.subplot(1, 2, 1)\n",
        "    for i in range(pred_probs.shape[1]):\n",
        "        fpr, tpr, _ = roc_curve(labels == i, pred_probs[:, i])\n",
        "        plt.plot(fpr, tpr, label=f'Class {i}')\n",
        "\n",
        "    plt.plot([0, 1], [0, 1], 'k--')\n",
        "    plt.xlabel('False Positive Rate')\n",
        "    plt.ylabel('True Positive Rate')\n",
        "    plt.title('ROC Curve')\n",
        "    plt.legend()\n",
        "\n",
        "    # Confusion Matrix\n",
        "    plt.subplot(1, 2, 2)\n",
        "    sns.heatmap(cm, annot=True, fmt='d', cmap='Blues', cbar=False)\n",
        "    plt.xlabel('Predicted')\n",
        "    plt.ylabel('Actual')\n",
        "    plt.title('Confusion Matrix')\n",
        "\n",
        "    plt.tight_layout()\n",
        "    plt.show()\n",
        "\n",
        "    return {\n",
        "        'accuracy': accuracy,\n",
        "        'precision': precision,\n",
        "        'recall': recall,\n",
        "        'f1': f1,\n",
        "        'roc_auc': roc_auc\n",
        "    }"
      ]
    },
    {
      "cell_type": "code",
      "execution_count": null,
      "metadata": {
        "execution": {
          "iopub.execute_input": "2025-02-25T17:02:08.014493Z",
          "iopub.status.busy": "2025-02-25T17:02:08.014143Z",
          "iopub.status.idle": "2025-02-25T17:02:19.972692Z",
          "shell.execute_reply": "2025-02-25T17:02:19.971847Z",
          "shell.execute_reply.started": "2025-02-25T17:02:08.014469Z"
        },
        "id": "s--yzEsAGdOj",
        "outputId": "58a6712f-a820-4cad-c31c-f031890e3557",
        "trusted": true
      },
      "outputs": [
        {
          "name": "stderr",
          "output_type": "stream",
          "text": [
            "/usr/local/lib/python3.10/dist-packages/torch/nn/parallel/_functions.py:71: UserWarning: Was asked to gather along dimension 0, but all input tensors were scalars; will instead unsqueeze and return a vector.\n",
            "  warnings.warn(\n"
          ]
        },
        {
          "name": "stdout",
          "output_type": "stream",
          "text": [
            "Confusion Matrix:\n",
            " [[582 122 131]\n",
            " [127 480 169]\n",
            " [120 127 566]]\n",
            "ROC-AUC Score: 0.8219229958420115\n"
          ]
        },
        {
          "data": {
            "image/png": "[encoded data removed]",
            "text/plain": [
              "<Figure size 1400x600 with 2 Axes>"
            ]
          },
          "metadata": {},
          "output_type": "display_data"
        },
        {
          "name": "stdout",
          "output_type": "stream",
          "text": [
            "{'accuracy': 0.6716171617161716, 'precision': 0.6713555180386915, 'recall': 0.6705832169748329, 'f1': 0.6705346082358804, 'roc_auc': 0.8219229958420115}\n"
          ]
        }
      ],
      "source": [
        "# Run detailed evaluation\n",
        "predictions = trainer.predict(tokenized_val)\n",
        "metrics = detailed_metrics(predictions)\n",
        "print(metrics)\n"
      ]
    },
    {
      "cell_type": "markdown",
      "metadata": {
        "id": "ftKwSu4kGdOk"
      },
      "source": [
        "# Login to Hugging Face Hub (will prompt for token)"
      ]
    },
    {
      "cell_type": "code",
      "execution_count": null,
      "metadata": {
        "colab": {
          "referenced_widgets": [
            "5854b80a64c44241884e68e6eeacee2f"
          ]
        },
        "execution": {
          "iopub.execute_input": "2025-02-25T17:02:45.528506Z",
          "iopub.status.busy": "2025-02-25T17:02:45.528191Z",
          "iopub.status.idle": "2025-02-25T17:02:45.546749Z",
          "shell.execute_reply": "2025-02-25T17:02:45.545648Z",
          "shell.execute_reply.started": "2025-02-25T17:02:45.528479Z"
        },
        "id": "3n-lW8swGdOk",
        "outputId": "3f55c630-85f6-4030-ceef-2121cdb7f65d",
        "trusted": true
      },
      "outputs": [
        {
          "data": {
            "application/vnd.jupyter.widget-view+json": {
              "model_id": "5854b80a64c44241884e68e6eeacee2f",
              "version_major": 2,
              "version_minor": 0
            },
            "text/plain": [
              "VBox(children=(HTML(value='<center> <img\\nsrc=https://huggingface.co/front/assets/huggingface_logo-noborder.sv…"
            ]
          },
          "metadata": {},
          "output_type": "display_data"
        }
      ],
      "source": [
        "notebook_login()"
      ]
    },
    {
      "cell_type": "markdown",
      "metadata": {
        "id": "6YU-NoWKGdOl"
      },
      "source": [
        "Deploy the model on hugging face\n",
        "--"
      ]
    },
    {
      "cell_type": "code",
      "execution_count": null,
      "metadata": {
        "colab": {
          "referenced_widgets": [
            "0773ceefe8f646309f24f0fe6a14ad67",
            "066347b8cf8647ea8cd48a5ac79973d5"
          ]
        },
        "execution": {
          "iopub.execute_input": "2025-02-25T17:03:08.677334Z",
          "iopub.status.busy": "2025-02-25T17:03:08.677031Z",
          "iopub.status.idle": "2025-02-25T17:03:33.279854Z",
          "shell.execute_reply": "2025-02-25T17:03:33.279191Z",
          "shell.execute_reply.started": "2025-02-25T17:03:08.677312Z"
        },
        "id": "nIJrXghpGdOm",
        "outputId": "2f8d2f46-854d-426c-cac4-5cb54c6191b5",
        "trusted": true
      },
      "outputs": [
        {
          "name": "stdout",
          "output_type": "stream",
          "text": [
            "Pushing model to Hugging Face Hub: Fahim18/multilingual-nli-bert\n"
          ]
        },
        {
          "data": {
            "application/vnd.jupyter.widget-view+json": {
              "model_id": "0773ceefe8f646309f24f0fe6a14ad67",
              "version_major": 2,
              "version_minor": 0
            },
            "text/plain": [
              "model.safetensors:   0%|          | 0.00/711M [00:00<?, ?B/s]"
            ]
          },
          "metadata": {},
          "output_type": "display_data"
        },
        {
          "data": {
            "application/vnd.jupyter.widget-view+json": {
              "model_id": "066347b8cf8647ea8cd48a5ac79973d5",
              "version_major": 2,
              "version_minor": 0
            },
            "text/plain": [
              "README.md:   0%|          | 0.00/5.17k [00:00<?, ?B/s]"
            ]
          },
          "metadata": {},
          "output_type": "display_data"
        },
        {
          "name": "stdout",
          "output_type": "stream",
          "text": [
            "Model successfully uploaded to https://huggingface.co/Fahim18/multilingual-nli-bert\n"
          ]
        }
      ],
      "source": [
        "\n",
        "repo_name = \"multilingual-nli-bert\"  # Choose your repository name\n",
        "model_repo_id = f\"Fahim18/{repo_name}\"  # Replace YOUR_HF_USERNAME with your Hugging Face username\n",
        "\n",
        "# Create model card with information about your model\n",
        "model_card = f\"\"\"\n",
        "# XLM-RoBERTa for Multilingual NLI\n",
        "\n",
        "This model is fine-tuned for multilingual Natural Language Inference (NLI) tasks.\n",
        "\n",
        "## Model description\n",
        "\n",
        "- **Model type:** XLM-RoBERTa\n",
        "- **Task:** Natural Language Inference (Entailment Classification)\n",
        "- **Training data:** Multilingual NLI dataset\n",
        "- **Evaluation results:**\n",
        "  - Accuracy: {eval_result['eval_accuracy']:.4f}\n",
        "  - F1 Score: {eval_result['eval_f1']:.4f}\n",
        "  - Precision: {eval_result['eval_precision']:.4f}\n",
        "  - Recall: {eval_result['eval_recall']:.4f}\n",
        "\n",
        "## Usage\n",
        "\n",
        "```python\n",
        "from transformers import XLMRobertaTokenizer, XLMRobertaForSequenceClassification\n",
        "\n",
        "# Load model and tokenizer\n",
        "tokenizer = XLMRobertaTokenizer.from_pretrained(\"{model_repo_id}\")\n",
        "model = XLMRobertaForSequenceClassification.from_pretrained(\"{model_repo_id}\")\n",
        "\n",
        "# Prepare input\n",
        "premise = \"The dog is running in the park.\"\n",
        "hypothesis = \"There is an animal outdoors.\"\n",
        "\n",
        "# Tokenize input\n",
        "inputs = tokenizer(premise, hypothesis, return_tensors=\"pt\", padding=True, truncation=True)\n",
        "\n",
        "# Make prediction\n",
        "outputs = model(**inputs)\n",
        "predictions = outputs.logits.argmax(dim=1)\n",
        "\n",
        "# Map predictions to labels\n",
        "label_map = {{0: \"entailment\", 1: \"neutral\", 2: \"contradiction\"}}\n",
        "result = label_map[predictions.item()]\n",
        "print(f\"Prediction: {{result}}\")\n",
        "```\n",
        "\n",
        "## Limitations and bias\n",
        "\n",
        "This model was trained on specific NLI data and may not generalize well to all domains or languages.\n",
        "\"\"\"\n",
        "\n",
        "\n",
        "# Upload to Hub\n",
        "# This will push the model, tokenizer, and configuration to Hugging Face Hub\n",
        "print(f\"Pushing model to Hugging Face Hub: {model_repo_id}\")\n",
        "model.push_to_hub(model_repo_id)\n",
        "tokenizer.push_to_hub(model_repo_id)\n",
        "\n",
        "\n",
        "\n",
        "print(f\"Model successfully uploaded to https://huggingface.co/{model_repo_id}\")\n"
      ]
    },
    {
      "cell_type": "markdown",
      "metadata": {
        "id": "r3U21tJbGdOn"
      },
      "source": [
        "# Test the uploaded model"
      ]
    },
    {
      "cell_type": "code",
      "execution_count": null,
      "metadata": {
        "colab": {
          "referenced_widgets": [
            "1200342ed3f44a81bdb73de068476838",
            "550aa346764f41f093e3f6222140cd5c",
            "3ffb2552c61342bea96894051ec18ac8",
            "efdcad5ce858499ea96132a3080a810f",
            "ad289173d4eb4eab9ba2c6adfe7859c3"
          ]
        },
        "execution": {
          "iopub.execute_input": "2025-02-25T17:04:19.61026Z",
          "iopub.status.busy": "2025-02-25T17:04:19.609887Z",
          "iopub.status.idle": "2025-02-25T17:04:39.326457Z",
          "shell.execute_reply": "2025-02-25T17:04:39.325766Z",
          "shell.execute_reply.started": "2025-02-25T17:04:19.610231Z"
        },
        "id": "FpiB2uIMGdOn",
        "outputId": "7afcec82-46d1-416e-bf4a-5a306668851f",
        "trusted": true
      },
      "outputs": [
        {
          "data": {
            "application/vnd.jupyter.widget-view+json": {
              "model_id": "1200342ed3f44a81bdb73de068476838",
              "version_major": 2,
              "version_minor": 0
            },
            "text/plain": [
              "config.json:   0%|          | 0.00/1.05k [00:00<?, ?B/s]"
            ]
          },
          "metadata": {},
          "output_type": "display_data"
        },
        {
          "data": {
            "application/vnd.jupyter.widget-view+json": {
              "model_id": "550aa346764f41f093e3f6222140cd5c",
              "version_major": 2,
              "version_minor": 0
            },
            "text/plain": [
              "model.safetensors:   0%|          | 0.00/711M [00:00<?, ?B/s]"
            ]
          },
          "metadata": {},
          "output_type": "display_data"
        },
        {
          "data": {
            "application/vnd.jupyter.widget-view+json": {
              "model_id": "3ffb2552c61342bea96894051ec18ac8",
              "version_major": 2,
              "version_minor": 0
            },
            "text/plain": [
              "tokenizer_config.json:   0%|          | 0.00/1.27k [00:00<?, ?B/s]"
            ]
          },
          "metadata": {},
          "output_type": "display_data"
        },
        {
          "data": {
            "application/vnd.jupyter.widget-view+json": {
              "model_id": "efdcad5ce858499ea96132a3080a810f",
              "version_major": 2,
              "version_minor": 0
            },
            "text/plain": [
              "vocab.txt:   0%|          | 0.00/996k [00:00<?, ?B/s]"
            ]
          },
          "metadata": {},
          "output_type": "display_data"
        },
        {
          "data": {
            "application/vnd.jupyter.widget-view+json": {
              "model_id": "ad289173d4eb4eab9ba2c6adfe7859c3",
              "version_major": 2,
              "version_minor": 0
            },
            "text/plain": [
              "special_tokens_map.json:   0%|          | 0.00/125 [00:00<?, ?B/s]"
            ]
          },
          "metadata": {},
          "output_type": "display_data"
        },
        {
          "name": "stderr",
          "output_type": "stream",
          "text": [
            "Device set to use cuda:0\n"
          ]
        },
        {
          "name": "stdout",
          "output_type": "stream",
          "text": [
            "Premise: The cat is on the mat.\n",
            "Hypothesis: There is a cat.\n",
            "Prediction: LABEL_0, Score: 0.9951\n",
            "--------------------------------------------------\n",
            "Premise: The car is red.\n",
            "Hypothesis: The vehicle has a color.\n",
            "Prediction: LABEL_0, Score: 0.8672\n",
            "--------------------------------------------------\n",
            "Premise: The water is boiling.\n",
            "Hypothesis: The water is cold.\n",
            "Prediction: LABEL_2, Score: 0.9219\n",
            "--------------------------------------------------\n"
          ]
        }
      ],
      "source": [
        "\n",
        "from transformers import pipeline\n",
        "\n",
        "# Load the model directly from the Hub\n",
        "nli_pipeline = pipeline(\"text-classification\", model=model_repo_id)\n",
        "\n",
        "# Test with sample inputs\n",
        "test_examples = [\n",
        "    {\"premise\": \"The cat is on the mat.\", \"hypothesis\": \"There is a cat.\"},\n",
        "    {\"premise\": \"The car is red.\", \"hypothesis\": \"The vehicle has a color.\"},\n",
        "    {\"premise\": \"The water is boiling.\", \"hypothesis\": \"The water is cold.\"}\n",
        "]\n",
        "\n",
        "for example in test_examples:\n",
        "    # Format the input as expected by the model\n",
        "    text = f\"{example['premise']} </s> {example['hypothesis']}\"\n",
        "    result = nli_pipeline(text)[0]\n",
        "    print(f\"Premise: {example['premise']}\")\n",
        "    print(f\"Hypothesis: {example['hypothesis']}\")\n",
        "    print(f\"Prediction: {result['label']}, Score: {result['score']:.4f}\")\n",
        "    print(\"-\" * 50)"
      ]
    }
  ],
  "metadata": {
    "colab": {
      "name": "sm-technology-bert-transformer",
      "provenance": []
    },
    "kaggle": {
      "accelerator": "nvidiaTeslaT4",
      "dataSources": [
        {
          "datasetId": 6735148,
          "sourceId": 10844815,
          "sourceType": "datasetVersion"
        }
      ],
      "dockerImageVersionId": 30919,
      "isGpuEnabled": true,
      "isInternetEnabled": true,
      "language": "python",
      "sourceType": "notebook"
    },
    "kernelspec": {
      "display_name": "Python 3",
      "language": "python",
      "name": "python3"
    },
    "language_info": {
      "codemirror_mode": {
        "name": "ipython",
        "version": 3
      },
      "file_extension": ".py",
      "mimetype": "text/x-python",
      "name": "python",
      "nbconvert_exporter": "python",
      "pygments_lexer": "ipython3",
      "version": "3.10.12"
    }
  },
  "nbformat": 4,
  "nbformat_minor": 0
}
